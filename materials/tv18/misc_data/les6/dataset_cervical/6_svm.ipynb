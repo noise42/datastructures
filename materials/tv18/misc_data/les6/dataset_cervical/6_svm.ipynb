{
 "cells": [
  {
   "cell_type": "markdown",
   "metadata": {
    "_cell_guid": "2e1dfd2a-7f57-e932-5858-a1bee4409bb1",
    "_uuid": "0d1fc1d59e6ae696fce6f90eba96bdf7f9de220a"
   },
   "source": [
    "## Predicting whether a tissue sample is a tumor or normal from miRNA expression data using bagging support vector machines\n",
    "#The code is forked and only slighlty modified from https://www.kaggle.com/thomasnelson/predicting-if-sample-is-tumor-bagsvm, I just tried to fit it more to what I encounter in day-to-day work. All credits to the original poster"
   ]
  },
  {
   "cell_type": "markdown",
   "metadata": {
    "_cell_guid": "e1dc69f4-e635-2add-56a1-4707cf840c10",
    "_uuid": "62e91545a233f39c0ef3e9ff8b666ab7adbd4133"
   },
   "source": [
    "### Import modules and the data"
   ]
  },
  {
   "cell_type": "code",
   "execution_count": 1,
   "metadata": {
    "_cell_guid": "a0cd69ca-9cd5-a033-9f5a-b9e410db21a2",
    "_uuid": "ef5a945bf8d0fa0a50487a0e0deafd0ac08e5277",
    "collapsed": true
   },
   "outputs": [],
   "source": [
    "import numpy as np\n",
    "import pandas as pd\n",
    "import matplotlib.pyplot as plt\n",
    "%matplotlib inline"
   ]
  },
  {
   "cell_type": "code",
   "execution_count": 20,
   "metadata": {
    "_cell_guid": "6f676988-1f02-eb45-950c-7e0b3212a4aa",
    "_uuid": "7f69552b27f8016e4798d7aace9c07a7e29fa71c"
   },
   "outputs": [],
   "source": [
    "data = pd.read_csv(\"cervical.csv\")"
   ]
  },
  {
   "cell_type": "markdown",
   "metadata": {
    "_cell_guid": "6af4bdaa-2ca8-d8b5-9939-07293bd3ee70",
    "_uuid": "1ff6c8d97bbe706b7222c6c6d06e8d8bc63975e4"
   },
   "source": [
    "### Take a look at the top of the data, we have 714 features and 58 samples, plus a column of miRNA names."
   ]
  },
  {
   "cell_type": "code",
   "execution_count": 21,
   "metadata": {
    "_cell_guid": "9a02acf3-6b8e-fb2c-1173-3aba240bf4fc",
    "_uuid": "67e80ec351b6a63c9a92ae5aef3ed752a480654a"
   },
   "outputs": [
    {
     "name": "stdout",
     "output_type": "stream",
     "text": [
      "(714, 59)\n"
     ]
    },
    {
     "data": {
      "text/html": [
       "<div>\n",
       "<style>\n",
       "    .dataframe thead tr:only-child th {\n",
       "        text-align: right;\n",
       "    }\n",
       "\n",
       "    .dataframe thead th {\n",
       "        text-align: left;\n",
       "    }\n",
       "\n",
       "    .dataframe tbody tr th {\n",
       "        vertical-align: top;\n",
       "    }\n",
       "</style>\n",
       "<table border=\"1\" class=\"dataframe\">\n",
       "  <thead>\n",
       "    <tr style=\"text-align: right;\">\n",
       "      <th></th>\n",
       "      <th>ID</th>\n",
       "      <th>N1</th>\n",
       "      <th>N2</th>\n",
       "      <th>N3</th>\n",
       "      <th>N4</th>\n",
       "      <th>N5</th>\n",
       "      <th>N6</th>\n",
       "      <th>N7</th>\n",
       "      <th>N8</th>\n",
       "      <th>N9</th>\n",
       "      <th>...</th>\n",
       "      <th>T20</th>\n",
       "      <th>T21</th>\n",
       "      <th>T22</th>\n",
       "      <th>T23</th>\n",
       "      <th>T24</th>\n",
       "      <th>T25</th>\n",
       "      <th>T26</th>\n",
       "      <th>T27</th>\n",
       "      <th>T28</th>\n",
       "      <th>T29</th>\n",
       "    </tr>\n",
       "  </thead>\n",
       "  <tbody>\n",
       "    <tr>\n",
       "      <th>0</th>\n",
       "      <td>let-7a</td>\n",
       "      <td>865</td>\n",
       "      <td>810</td>\n",
       "      <td>5505</td>\n",
       "      <td>6692</td>\n",
       "      <td>1456</td>\n",
       "      <td>588</td>\n",
       "      <td>9</td>\n",
       "      <td>4513</td>\n",
       "      <td>1962</td>\n",
       "      <td>...</td>\n",
       "      <td>37</td>\n",
       "      <td>3174</td>\n",
       "      <td>116</td>\n",
       "      <td>1722</td>\n",
       "      <td>68</td>\n",
       "      <td>12121</td>\n",
       "      <td>14398</td>\n",
       "      <td>39196</td>\n",
       "      <td>198</td>\n",
       "      <td>1422</td>\n",
       "    </tr>\n",
       "    <tr>\n",
       "      <th>1</th>\n",
       "      <td>let-7a*</td>\n",
       "      <td>3</td>\n",
       "      <td>12</td>\n",
       "      <td>30</td>\n",
       "      <td>73</td>\n",
       "      <td>6</td>\n",
       "      <td>2</td>\n",
       "      <td>0</td>\n",
       "      <td>199</td>\n",
       "      <td>10</td>\n",
       "      <td>...</td>\n",
       "      <td>0</td>\n",
       "      <td>648</td>\n",
       "      <td>4</td>\n",
       "      <td>212</td>\n",
       "      <td>6</td>\n",
       "      <td>2</td>\n",
       "      <td>80</td>\n",
       "      <td>164</td>\n",
       "      <td>18</td>\n",
       "      <td>1</td>\n",
       "    </tr>\n",
       "    <tr>\n",
       "      <th>2</th>\n",
       "      <td>let-7b</td>\n",
       "      <td>975</td>\n",
       "      <td>2790</td>\n",
       "      <td>4912</td>\n",
       "      <td>24286</td>\n",
       "      <td>1759</td>\n",
       "      <td>508</td>\n",
       "      <td>33</td>\n",
       "      <td>6162</td>\n",
       "      <td>1455</td>\n",
       "      <td>...</td>\n",
       "      <td>99</td>\n",
       "      <td>102358</td>\n",
       "      <td>184</td>\n",
       "      <td>28274</td>\n",
       "      <td>401</td>\n",
       "      <td>14471</td>\n",
       "      <td>24097</td>\n",
       "      <td>73139</td>\n",
       "      <td>669</td>\n",
       "      <td>2492</td>\n",
       "    </tr>\n",
       "    <tr>\n",
       "      <th>3</th>\n",
       "      <td>let-7b*</td>\n",
       "      <td>15</td>\n",
       "      <td>18</td>\n",
       "      <td>27</td>\n",
       "      <td>119</td>\n",
       "      <td>11</td>\n",
       "      <td>3</td>\n",
       "      <td>0</td>\n",
       "      <td>116</td>\n",
       "      <td>17</td>\n",
       "      <td>...</td>\n",
       "      <td>0</td>\n",
       "      <td>334</td>\n",
       "      <td>1</td>\n",
       "      <td>189</td>\n",
       "      <td>5</td>\n",
       "      <td>34</td>\n",
       "      <td>115</td>\n",
       "      <td>230</td>\n",
       "      <td>4</td>\n",
       "      <td>15</td>\n",
       "    </tr>\n",
       "    <tr>\n",
       "      <th>4</th>\n",
       "      <td>let-7c</td>\n",
       "      <td>828</td>\n",
       "      <td>1251</td>\n",
       "      <td>2973</td>\n",
       "      <td>6413</td>\n",
       "      <td>713</td>\n",
       "      <td>339</td>\n",
       "      <td>23</td>\n",
       "      <td>2002</td>\n",
       "      <td>476</td>\n",
       "      <td>...</td>\n",
       "      <td>34</td>\n",
       "      <td>1711</td>\n",
       "      <td>22</td>\n",
       "      <td>3127</td>\n",
       "      <td>199</td>\n",
       "      <td>3186</td>\n",
       "      <td>1454</td>\n",
       "      <td>5883</td>\n",
       "      <td>167</td>\n",
       "      <td>321</td>\n",
       "    </tr>\n",
       "  </tbody>\n",
       "</table>\n",
       "<p>5 rows × 59 columns</p>\n",
       "</div>"
      ],
      "text/plain": [
       "        ID   N1    N2    N3     N4    N5   N6  N7    N8    N9  ...   T20  \\\n",
       "0   let-7a  865   810  5505   6692  1456  588   9  4513  1962  ...    37   \n",
       "1  let-7a*    3    12    30     73     6    2   0   199    10  ...     0   \n",
       "2   let-7b  975  2790  4912  24286  1759  508  33  6162  1455  ...    99   \n",
       "3  let-7b*   15    18    27    119    11    3   0   116    17  ...     0   \n",
       "4   let-7c  828  1251  2973   6413   713  339  23  2002   476  ...    34   \n",
       "\n",
       "      T21  T22    T23  T24    T25    T26    T27  T28   T29  \n",
       "0    3174  116   1722   68  12121  14398  39196  198  1422  \n",
       "1     648    4    212    6      2     80    164   18     1  \n",
       "2  102358  184  28274  401  14471  24097  73139  669  2492  \n",
       "3     334    1    189    5     34    115    230    4    15  \n",
       "4    1711   22   3127  199   3186   1454   5883  167   321  \n",
       "\n",
       "[5 rows x 59 columns]"
      ]
     },
     "execution_count": 21,
     "metadata": {},
     "output_type": "execute_result"
    }
   ],
   "source": [
    "print(data.shape)\n",
    "data.head()"
   ]
  },
  {
   "cell_type": "markdown",
   "metadata": {
    "_cell_guid": "a11aac11-91b5-ed0f-8ad0-18b626a4e6d5",
    "_uuid": "b5eb30c923db81270650125c4d3837295adab40c"
   },
   "source": [
    "### Let's look at the library sizes (total read counts per sample)"
   ]
  },
  {
   "cell_type": "code",
   "execution_count": 4,
   "metadata": {
    "_cell_guid": "d9514702-5493-3b86-0818-a2bb272b7eea",
    "_uuid": "308d13a1e4e06c0c904784c5df530e247428db6f"
   },
   "outputs": [
    {
     "data": {
      "text/plain": [
       "<matplotlib.axes._subplots.AxesSubplot at 0x103c227f0>"
      ]
     },
     "execution_count": 4,
     "metadata": {},
     "output_type": "execute_result"
    },
    {
     "data": {
      "image/png": "[encoded data removed]",
      "text/plain": [
       "<matplotlib.figure.Figure at 0x103c22c50>"
      ]
     },
     "metadata": {},
     "output_type": "display_data"
    }
   ],
   "source": [
    "sizes = data.sum(numeric_only=True)\n",
    "sizes.plot.bar()"
   ]
  },
  {
   "cell_type": "markdown",
   "metadata": {
    "_cell_guid": "a870f703-242f-1448-6f3b-9cd3a309423f",
    "_uuid": "e02426f553b207ac88c2a82fa9dc49ab8987ef39"
   },
   "source": [
    "### Normalization\n",
    "\n",
    "Our library sizes are very different.  Standard practice is to use some normalization method.\n",
    "\n",
    "Here I use the normalization method of counts per milion (CPM).  We divide each count by the library size to give the proportion of total reads for each gene, then multiply by 1 million to get counts per 1 million."
   ]
  },
  {
   "cell_type": "code",
   "execution_count": 22,
   "metadata": {
    "_cell_guid": "80b33e97-00d0-f286-dbfd-58535029d0a7",
    "_uuid": "95514aaabf61a0e4e26f2c2a98fcb453d98b9b16"
   },
   "outputs": [],
   "source": [
    "#Alternative: I keep the ID col in a separated variable, drop it, do the cpm and then insert it back (no needed for actual calculations)\n",
    "ID = data.ID \n",
    "data = data.drop('ID', 1) # 1 is the axis (column)\n",
    "sums = data.sum()\n",
    "cpm = (data.div(sums))*1000000\n",
    "cpm.insert(loc=0, column='ID', value=ID)"
   ]
  },
  {
   "cell_type": "code",
   "execution_count": 23,
   "metadata": {
    "_cell_guid": "07a5a1bc-342b-b683-88cb-f014f522b0c5",
    "_uuid": "d58b4da372f85558056321f90fc86937b1a56176"
   },
   "outputs": [
    {
     "name": "stdout",
     "output_type": "stream",
     "text": [
      "(714, 59)\n"
     ]
    },
    {
     "data": {
      "text/html": [
       "<div>\n",
       "<style>\n",
       "    .dataframe thead tr:only-child th {\n",
       "        text-align: right;\n",
       "    }\n",
       "\n",
       "    .dataframe thead th {\n",
       "        text-align: left;\n",
       "    }\n",
       "\n",
       "    .dataframe tbody tr th {\n",
       "        vertical-align: top;\n",
       "    }\n",
       "</style>\n",
       "<table border=\"1\" class=\"dataframe\">\n",
       "  <thead>\n",
       "    <tr style=\"text-align: right;\">\n",
       "      <th></th>\n",
       "      <th>ID</th>\n",
       "      <th>N1</th>\n",
       "      <th>N2</th>\n",
       "      <th>N3</th>\n",
       "      <th>N4</th>\n",
       "      <th>N5</th>\n",
       "      <th>N6</th>\n",
       "      <th>N7</th>\n",
       "      <th>N8</th>\n",
       "      <th>N9</th>\n",
       "      <th>...</th>\n",
       "      <th>T20</th>\n",
       "      <th>T21</th>\n",
       "      <th>T22</th>\n",
       "      <th>T23</th>\n",
       "      <th>T24</th>\n",
       "      <th>T25</th>\n",
       "      <th>T26</th>\n",
       "      <th>T27</th>\n",
       "      <th>T28</th>\n",
       "      <th>T29</th>\n",
       "    </tr>\n",
       "  </thead>\n",
       "  <tbody>\n",
       "    <tr>\n",
       "      <th>0</th>\n",
       "      <td>let-7a</td>\n",
       "      <td>38531.783153</td>\n",
       "      <td>20352.781547</td>\n",
       "      <td>76760.042947</td>\n",
       "      <td>30209.461900</td>\n",
       "      <td>27533.518655</td>\n",
       "      <td>64283.371597</td>\n",
       "      <td>6807.866868</td>\n",
       "      <td>36119.603669</td>\n",
       "      <td>52587.847436</td>\n",
       "      <td>...</td>\n",
       "      <td>11923.944570</td>\n",
       "      <td>2586.676903</td>\n",
       "      <td>33001.422475</td>\n",
       "      <td>7373.595506</td>\n",
       "      <td>8835.758836</td>\n",
       "      <td>76912.338589</td>\n",
       "      <td>52987.005340</td>\n",
       "      <td>72541.794445</td>\n",
       "      <td>29320.302088</td>\n",
       "      <td>87036.356959</td>\n",
       "    </tr>\n",
       "    <tr>\n",
       "      <th>1</th>\n",
       "      <td>let-7a*</td>\n",
       "      <td>133.636242</td>\n",
       "      <td>301.522690</td>\n",
       "      <td>418.310861</td>\n",
       "      <td>329.541351</td>\n",
       "      <td>113.462302</td>\n",
       "      <td>218.650924</td>\n",
       "      <td>0.000000</td>\n",
       "      <td>1592.688041</td>\n",
       "      <td>268.031842</td>\n",
       "      <td>...</td>\n",
       "      <td>0.000000</td>\n",
       "      <td>528.092827</td>\n",
       "      <td>1137.980085</td>\n",
       "      <td>907.782954</td>\n",
       "      <td>779.625780</td>\n",
       "      <td>12.690758</td>\n",
       "      <td>294.413143</td>\n",
       "      <td>303.522152</td>\n",
       "      <td>2665.482008</td>\n",
       "      <td>61.207002</td>\n",
       "    </tr>\n",
       "    <tr>\n",
       "      <th>2</th>\n",
       "      <td>let-7b</td>\n",
       "      <td>43431.778698</td>\n",
       "      <td>70104.025328</td>\n",
       "      <td>68491.431599</td>\n",
       "      <td>109633.441676</td>\n",
       "      <td>33263.364914</td>\n",
       "      <td>55537.334645</td>\n",
       "      <td>24962.178517</td>\n",
       "      <td>49317.305076</td>\n",
       "      <td>38998.633038</td>\n",
       "      <td>...</td>\n",
       "      <td>31904.608443</td>\n",
       "      <td>83417.477754</td>\n",
       "      <td>52347.083926</td>\n",
       "      <td>121069.128528</td>\n",
       "      <td>52104.989605</td>\n",
       "      <td>91823.979187</td>\n",
       "      <td>88680.918716</td>\n",
       "      <td>135361.626286</td>\n",
       "      <td>99067.081297</td>\n",
       "      <td>152527.849186</td>\n",
       "    </tr>\n",
       "    <tr>\n",
       "      <th>3</th>\n",
       "      <td>let-7b*</td>\n",
       "      <td>668.181211</td>\n",
       "      <td>452.284034</td>\n",
       "      <td>376.479775</td>\n",
       "      <td>537.197544</td>\n",
       "      <td>208.014221</td>\n",
       "      <td>327.976386</td>\n",
       "      <td>0.000000</td>\n",
       "      <td>928.401069</td>\n",
       "      <td>455.654132</td>\n",
       "      <td>...</td>\n",
       "      <td>0.000000</td>\n",
       "      <td>272.195994</td>\n",
       "      <td>284.495021</td>\n",
       "      <td>809.297068</td>\n",
       "      <td>649.688150</td>\n",
       "      <td>215.742885</td>\n",
       "      <td>423.218892</td>\n",
       "      <td>425.671311</td>\n",
       "      <td>592.329335</td>\n",
       "      <td>918.105031</td>\n",
       "    </tr>\n",
       "    <tr>\n",
       "      <th>4</th>\n",
       "      <td>let-7c</td>\n",
       "      <td>36883.602833</td>\n",
       "      <td>31433.740389</td>\n",
       "      <td>41454.606300</td>\n",
       "      <td>28949.981943</td>\n",
       "      <td>13483.103572</td>\n",
       "      <td>37061.331584</td>\n",
       "      <td>17397.881997</td>\n",
       "      <td>16022.921902</td>\n",
       "      <td>12758.315688</td>\n",
       "      <td>...</td>\n",
       "      <td>10957.138253</td>\n",
       "      <td>1394.393251</td>\n",
       "      <td>6258.890469</td>\n",
       "      <td>13389.798575</td>\n",
       "      <td>25857.588358</td>\n",
       "      <td>20216.377423</td>\n",
       "      <td>5350.958867</td>\n",
       "      <td>10887.931848</td>\n",
       "      <td>24729.749741</td>\n",
       "      <td>19647.447668</td>\n",
       "    </tr>\n",
       "  </tbody>\n",
       "</table>\n",
       "<p>5 rows × 59 columns</p>\n",
       "</div>"
      ],
      "text/plain": [
       "        ID            N1            N2            N3             N4  \\\n",
       "0   let-7a  38531.783153  20352.781547  76760.042947   30209.461900   \n",
       "1  let-7a*    133.636242    301.522690    418.310861     329.541351   \n",
       "2   let-7b  43431.778698  70104.025328  68491.431599  109633.441676   \n",
       "3  let-7b*    668.181211    452.284034    376.479775     537.197544   \n",
       "4   let-7c  36883.602833  31433.740389  41454.606300   28949.981943   \n",
       "\n",
       "             N5            N6            N7            N8            N9  \\\n",
       "0  27533.518655  64283.371597   6807.866868  36119.603669  52587.847436   \n",
       "1    113.462302    218.650924      0.000000   1592.688041    268.031842   \n",
       "2  33263.364914  55537.334645  24962.178517  49317.305076  38998.633038   \n",
       "3    208.014221    327.976386      0.000000    928.401069    455.654132   \n",
       "4  13483.103572  37061.331584  17397.881997  16022.921902  12758.315688   \n",
       "\n",
       "       ...                 T20           T21           T22            T23  \\\n",
       "0      ...        11923.944570   2586.676903  33001.422475    7373.595506   \n",
       "1      ...            0.000000    528.092827   1137.980085     907.782954   \n",
       "2      ...        31904.608443  83417.477754  52347.083926  121069.128528   \n",
       "3      ...            0.000000    272.195994    284.495021     809.297068   \n",
       "4      ...        10957.138253   1394.393251   6258.890469   13389.798575   \n",
       "\n",
       "            T24           T25           T26            T27           T28  \\\n",
       "0   8835.758836  76912.338589  52987.005340   72541.794445  29320.302088   \n",
       "1    779.625780     12.690758    294.413143     303.522152   2665.482008   \n",
       "2  52104.989605  91823.979187  88680.918716  135361.626286  99067.081297   \n",
       "3    649.688150    215.742885    423.218892     425.671311    592.329335   \n",
       "4  25857.588358  20216.377423   5350.958867   10887.931848  24729.749741   \n",
       "\n",
       "             T29  \n",
       "0   87036.356959  \n",
       "1      61.207002  \n",
       "2  152527.849186  \n",
       "3     918.105031  \n",
       "4   19647.447668  \n",
       "\n",
       "[5 rows x 59 columns]"
      ]
     },
     "execution_count": 23,
     "metadata": {},
     "output_type": "execute_result"
    }
   ],
   "source": [
    "print(cpm.shape)\n",
    "cpm.head()"
   ]
  },
  {
   "cell_type": "code",
   "execution_count": 24,
   "metadata": {
    "_cell_guid": "9d20dfe5-5787-67ff-5ed0-953a6685d380",
    "_uuid": "0c1807403507303ac05b50dcbaec7f044a8d33d9"
   },
   "outputs": [
    {
     "data": {
      "text/plain": [
       "<matplotlib.axes._subplots.AxesSubplot at 0x113511cc0>"
      ]
     },
     "execution_count": 24,
     "metadata": {},
     "output_type": "execute_result"
    },
    {
     "data": {
      "image/png": "[encoded data removed]",
      "text/plain": [
       "<matplotlib.figure.Figure at 0x113441780>"
      ]
     },
     "metadata": {},
     "output_type": "display_data"
    }
   ],
   "source": [
    "sizes = cpm.sum(numeric_only=True)\n",
    "sizes.plot.bar()"
   ]
  },
  {
   "cell_type": "markdown",
   "metadata": {
    "_cell_guid": "b7d537b1-8baf-cd5f-1670-f6bfb55fddfc",
    "_uuid": "c7cc2475021cf1998bc3a295d29f4789c417108b"
   },
   "source": [
    "### Here I re-format the data into a form suitable for input into the machine learning algorithm (put smples as rows and features as columns and create a vector of class labels for scikit-learn)"
   ]
  },
  {
   "cell_type": "code",
   "execution_count": 25,
   "metadata": {
    "_cell_guid": "b81ff7a4-545d-43fa-bb65-854b74385c40",
    "_uuid": "db688ff751e49d281d57c089fa18ceadfcc439ec",
    "collapsed": true
   },
   "outputs": [],
   "source": [
    "cpm = cpm.transpose()\n",
    "cpm = np.array(cpm[1:])\n",
    "class_labels = np.array([\"normal\"]*29 + [\"tumor\"]*29)"
   ]
  },
  {
   "cell_type": "code",
   "execution_count": 26,
   "metadata": {
    "_cell_guid": "b89edb87-472d-41c5-4ade-c9e38e54b837",
    "_uuid": "da9fea09b0ce084a2e7932369a51828e1e007342"
   },
   "outputs": [
    {
     "data": {
      "text/plain": [
       "array([[38531.78315292441, 133.63624214887076, 43431.778698383, ..., 0.0,\n",
       "        0.0, 44.54541404962359],\n",
       "       [20352.7815468114, 301.5226895823911, 70104.02532790593, ...,\n",
       "        25.12689079853259, 50.25378159706518, 0.0],\n",
       "       [76760.0429465817, 418.3108607443144, 68491.43159920242, ..., 0.0,\n",
       "        0.0, 27.88739071628763],\n",
       "       ..., \n",
       "       [72541.79444517446, 303.5221524902697, 135361.626286499, ...,\n",
       "        7.402979329030968, 12.955213825804195, 12.955213825804195],\n",
       "       [29320.302087960907, 2665.482007996446, 99067.08129720124, ..., 0.0,\n",
       "        0.0, 0.0],\n",
       "       [87036.35695923613, 61.20700208103807, 152527.84918594686, ..., 0.0,\n",
       "        0.0, 0.0]], dtype=object)"
      ]
     },
     "execution_count": 26,
     "metadata": {},
     "output_type": "execute_result"
    }
   ],
   "source": [
    "cpm"
   ]
  },
  {
   "cell_type": "code",
   "execution_count": 27,
   "metadata": {
    "_cell_guid": "a0bbb40d-c37b-639d-6540-b9263c13c382",
    "_uuid": "02cd220686041c7cf3423b67800e53a060a597c7"
   },
   "outputs": [
    {
     "data": {
      "text/plain": [
       "array(['normal', 'normal', 'normal', 'normal', 'normal', 'normal',\n",
       "       'normal', 'normal', 'normal', 'normal', 'normal', 'normal',\n",
       "       'normal', 'normal', 'normal', 'normal', 'normal', 'normal',\n",
       "       'normal', 'normal', 'normal', 'normal', 'normal', 'normal',\n",
       "       'normal', 'normal', 'normal', 'normal', 'normal', 'tumor', 'tumor',\n",
       "       'tumor', 'tumor', 'tumor', 'tumor', 'tumor', 'tumor', 'tumor',\n",
       "       'tumor', 'tumor', 'tumor', 'tumor', 'tumor', 'tumor', 'tumor',\n",
       "       'tumor', 'tumor', 'tumor', 'tumor', 'tumor', 'tumor', 'tumor',\n",
       "       'tumor', 'tumor', 'tumor', 'tumor', 'tumor', 'tumor'], \n",
       "      dtype='<U6')"
      ]
     },
     "execution_count": 27,
     "metadata": {},
     "output_type": "execute_result"
    }
   ],
   "source": [
    "class_labels"
   ]
  },
  {
   "cell_type": "markdown",
   "metadata": {
    "_cell_guid": "ca15a773-e6be-e4dc-86f1-23ed15101d9c",
    "_uuid": "06b4c6467a98bc57c8e023da52900f85969b732a"
   },
   "source": [
    "### Now we need to scale the data, that prevents the really highly expressed miRNA's from overwhelming influence on the model.  We get a warning about converting data type but thats okay."
   ]
  },
  {
   "cell_type": "code",
   "execution_count": 28,
   "metadata": {
    "_cell_guid": "2c90a6cc-c8a5-7e6d-ccaf-c6d945111b76",
    "_uuid": "57275bfcbc492756706774d95eaedd8026da037d"
   },
   "outputs": [
    {
     "name": "stderr",
     "output_type": "stream",
     "text": [
      "/Users/marcop/anaconda/lib/python3.6/site-packages/sklearn/utils/validation.py:429: DataConversionWarning: Data with input dtype object was converted to float64 by StandardScaler.\n",
      "  warnings.warn(msg, _DataConversionWarning)\n"
     ]
    }
   ],
   "source": [
    "from sklearn.preprocessing import StandardScaler\n",
    "\n",
    "sc_cpm = StandardScaler()\n",
    "cpm = sc_cpm.fit_transform(cpm)"
   ]
  },
  {
   "cell_type": "code",
   "execution_count": 29,
   "metadata": {
    "_cell_guid": "95ace64d-71f5-887e-3746-77ec864aa0a1",
    "_uuid": "1990ee83c657eb7f22027a840dc7d21ae2d8180b"
   },
   "outputs": [
    {
     "data": {
      "text/plain": [
       "array([[ 0.16375984, -0.71724117, -0.8802064 , ..., -0.28985132,\n",
       "        -0.48013976,  0.7757562 ],\n",
       "       [-0.53465168, -0.48861301, -0.09556051, ...,  0.81048475,\n",
       "         4.80271218, -0.25745491],\n",
       "       [ 1.63243551, -0.3295706 , -0.1429999 , ..., -0.28985132,\n",
       "        -0.48013976,  0.38938074],\n",
       "       ..., \n",
       "       [ 1.47037637, -0.48589014,  1.82419185, ...,  0.03433384,\n",
       "         0.88175728,  0.04303552],\n",
       "       [-0.19013223,  2.73063234,  0.75647656, ..., -0.28985132,\n",
       "        -0.48013976, -0.25745491],\n",
       "       [ 2.02723696, -0.81587548,  2.32918892, ..., -0.28985132,\n",
       "        -0.48013976, -0.25745491]])"
      ]
     },
     "execution_count": 29,
     "metadata": {},
     "output_type": "execute_result"
    }
   ],
   "source": [
    "cpm"
   ]
  },
  {
   "cell_type": "markdown",
   "metadata": {
    "_cell_guid": "9c768151-21c9-1712-42a6-5d60d97a5fee",
    "_uuid": "c6b881288535cc19b89860b50e593be944930dac"
   },
   "source": [
    "### Now we'll use support vector machines with a linear kernel to create a classifier.  Here I use bagging (bootstrap aggregating), an ensemble method, to avoid overfitting a small data set. "
   ]
  },
  {
   "cell_type": "code",
   "execution_count": 30,
   "metadata": {
    "_cell_guid": "e9344ff5-1962-c0d7-f4bf-d4e59115eef3",
    "_uuid": "18e2578c5ec6070c8a51acd5adf279c0199f7bb8",
    "collapsed": true
   },
   "outputs": [],
   "source": [
    "from sklearn.ensemble import BaggingClassifier\n",
    "from sklearn import svm\n",
    "svc = svm.SVC(kernel='linear', C=1.0)\n",
    "\n",
    "#Set a RANDOM_STATE to use for Bagging and cross validation\n",
    "RANDOM_STATE=123454321\n",
    "\n",
    "classifier = BaggingClassifier(base_estimator = svc, n_estimators = 10, random_state=RANDOM_STATE)\n"
   ]
  },
  {
   "cell_type": "markdown",
   "metadata": {
    "_cell_guid": "fc02c8e1-866d-41a2-8c7e-cb918a2ad668",
    "_uuid": "3604fa65ef4556003e5644b85a70ca71fdc2fe37"
   },
   "source": [
    "**10-fold Cross-validation by explicitly calling the StratifiedKFold method to control the random_state param.**"
   ]
  },
  {
   "cell_type": "code",
   "execution_count": 31,
   "metadata": {
    "_cell_guid": "9d820b95-7ef4-48b4-8c1d-0cf2d1c6909f",
    "_uuid": "33119f76bdb5dc1ac7651b2b6ce37bae9cf4e29b",
    "collapsed": true
   },
   "outputs": [],
   "source": [
    "from sklearn.model_selection import cross_val_score, StratifiedKFold\n",
    "\n",
    "cv=StratifiedKFold(n_splits=10, random_state=RANDOM_STATE)\n",
    "scores = cross_val_score(classifier, cpm, class_labels, cv=cv)"
   ]
  },
  {
   "cell_type": "markdown",
   "metadata": {
    "_cell_guid": "3ca38921-4d35-b9c3-8d5c-b999d97600aa",
    "_uuid": "b054aa31ad199d60b75adabcf4194a49627073bf"
   },
   "source": [
    "The score is the mean of all scores in the array."
   ]
  },
  {
   "cell_type": "code",
   "execution_count": 32,
   "metadata": {
    "_cell_guid": "1998ddca-5326-1efc-bfab-1f4ba4ae1026",
    "_uuid": "a439cde17e04016ec5c32595156c0de38c7f8a08"
   },
   "outputs": [
    {
     "name": "stdout",
     "output_type": "stream",
     "text": [
      "10-Cross validated Prediction Accuracy: 91.66666666666667%\n"
     ]
    }
   ],
   "source": [
    "print(\"10-Cross validated Prediction Accuracy: {}%\".format(scores.mean()*100))"
   ]
  },
  {
   "cell_type": "code",
   "execution_count": null,
   "metadata": {},
   "outputs": [],
   "source": []
  },
  {
   "cell_type": "code",
   "execution_count": null,
   "metadata": {
    "collapsed": true
   },
   "outputs": [],
   "source": []
  }
 ],
 "metadata": {
  "_change_revision": 0,
  "_is_fork": false,
  "kernelspec": {
   "display_name": "Python 3",
   "language": "python",
   "name": "python3"
  },
  "language_info": {
   "codemirror_mode": {
    "name": "ipython",
    "version": 3
   },
   "file_extension": ".py",
   "mimetype": "text/x-python",
   "name": "python",
   "nbconvert_exporter": "python",
   "pygments_lexer": "ipython3",
   "version": "3.6.1"
  }
 },
 "nbformat": 4,
 "nbformat_minor": 1
}
