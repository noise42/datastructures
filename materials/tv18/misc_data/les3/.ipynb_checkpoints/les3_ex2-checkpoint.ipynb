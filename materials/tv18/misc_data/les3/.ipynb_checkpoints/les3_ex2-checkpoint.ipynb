{
 "cells": [
  {
   "cell_type": "markdown",
   "metadata": {},
   "source": [
    "## Read the fasta file into a dictionary = {'ID':'sequence', ... }\n",
    "### write with a list comprehension the IDs of those sequence whose length is less than 200nt"
   ]
  },
  {
   "cell_type": "code",
   "execution_count": 2,
   "metadata": {},
   "outputs": [
    {
     "name": "stdout",
     "output_type": "stream",
     "text": [
      "['>hsa-let-7a|KPNA6|chr1_32638624_32638875_UT|90.9|90.9|46|11|11|21|7', '>hsa-let-7a|BIRC6|chr2_32822857_32823113_CD|82.4|82.4|46|17|6|21|6', '>hsa-let-7a|ADSL|chr22_40762486_40762751_UT|100.0|100.0|30|6|16|21|6', '>hsa-let-7b|SIKE1|chr1_115315177_115315440_|85.7|85.7|26|7|15|21|6', '>hsa-let-7b|PALD1|chr10_72327961_72328207_U|66.7|73.3|36|15|8|22|6', '>hsa-let-7b|NME4|chr16_450387_450641_UTR|85.7|100.0|32|7|16|22|6', '>hsa-let-7b|ITGB5|chr3_124567247_124567500_|66.7|88.9|30|9|12|20|6', '>hsa-let-7b|PRRC2A|chr6_31595685_31595933_C|83.3|91.7|48|12|11|22|7', '>hsa-let-7b|DAB2IP|chr9_124522493_124522766|73.7|78.9|56|19|2|20|6', '>hsa-let-7bstar|KIAA1715|chr2_176790343_176|85.7|85.7|40|14|8|21|6', '>hsa-let-7c|TAF5|chr10_105127703_105127949_|86.7|86.7|45|15|8|21|7', '>hsa-let-7c|ATP2A2|chr12_110780100_11078035|76.9|84.6|44|13|10|22|7', '>hsa-let-7c|FANCI|chr15_89834761_89835018_C|75.0|75.0|33|12|10|21|6', '>hsa-let-7c|PPAN|chr19_10224558_10224804_CD|84.6|84.6|35|13|8|20|6', '>hsa-let-7c|PAK4|chr19_39669892_39670138_UT|71.4|100.0|29|7|15|21|7']\n"
     ]
    }
   ],
   "source": [
    "#initialize the dict\n",
    "mirna={}\n",
    "\n",
    "with open(\"3_mirna.fa\") as f:\n",
    "    #since it is a fasta, it is useful to read it with readline() to have a control over more than one line at a time\n",
    "    line=f.readline()\n",
    "    while(line):\n",
    "        \n",
    "        #fasta ids always begin with a >, use the String method startswith\n",
    "        if line.startswith('>'):\n",
    "            name=line.strip()\n",
    "            \n",
    "            line=f.readline()\n",
    "            seq=line.strip()\n",
    "            #fill the dictionary with names as keys and sequences as values\n",
    "            mirna[name]=seq\n",
    "            \n",
    "        line=f.readline()\n",
    "        \n",
    "#then for the list comprehension        \n",
    "print([x for x in mirna if len(mirna[x])<200])\n"
   ]
  },
  {
   "cell_type": "code",
   "execution_count": null,
   "metadata": {
    "collapsed": true
   },
   "outputs": [],
   "source": []
  }
 ],
 "metadata": {
  "kernelspec": {
   "display_name": "Python 3",
   "language": "python",
   "name": "python3"
  },
  "language_info": {
   "codemirror_mode": {
    "name": "ipython",
    "version": 3
   },
   "file_extension": ".py",
   "mimetype": "text/x-python",
   "name": "python",
   "nbconvert_exporter": "python",
   "pygments_lexer": "ipython3",
   "version": "3.6.1"
  }
 },
 "nbformat": 4,
 "nbformat_minor": 2
}
