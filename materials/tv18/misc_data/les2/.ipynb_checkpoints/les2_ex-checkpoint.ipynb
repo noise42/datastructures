{
 "cells": [
  {
   "cell_type": "markdown",
   "metadata": {},
   "source": [
    "# Lesson 2\n",
    "## ex1: open the file 2_anomalies.txt, define a function that compares two strings of equal length and prints the mutations"
   ]
  },
  {
   "cell_type": "code",
   "execution_count": 4,
   "metadata": {},
   "outputs": [
    {
     "name": "stdout",
     "output_type": "stream",
     "text": [
      "['ATCGATACGAGTACTCATGCATCGCGGGGCTCCGAGATCCGAATCTAGCTCCGAAGCTCCGAATCGATAATAACAGAATAGACAAGATAGCCTCGTTCGATCGCGCTAGACAGACCACAGTGATCGCGG', 'ATCGATACGAGTACTCATGCATCGCGGGGCTCCGAGACCCGAATCAAGCTCCGAAGCTCCGAATCGATAACAACAGAATAGACAAGATAGCCTCGTCCGATCGCGCTAGACAGACCACAGTGATCGCGG']\n"
     ]
    }
   ],
   "source": [
    "#put the two sequences into a list\n",
    "seqs=[]\n",
    "with open(\"2_anomalies.txt\") as f:\n",
    "    for line in f:\n",
    "        seqs.append(line.strip())\n",
    "\n",
    "print(seqs)"
   ]
  },
  {
   "cell_type": "code",
   "execution_count": 5,
   "metadata": {},
   "outputs": [],
   "source": [
    "#define a generic function that can work with any two sequences of equal length\n",
    "def findMutations(seq1, seq2):\n",
    "    #enumerate returns (index, element) tuples. Remember that the element is a zip element, which is a tuple itself\n",
    "    for i, zipped in enumerate(zip(seq1,seq2)):\n",
    "        if zipped[0] != zipped[1]:\n",
    "            print(i, zipped, 'is mutated')\n",
    "#the function does not have a return statement since we only need it to print on screen"
   ]
  },
  {
   "cell_type": "code",
   "execution_count": 6,
   "metadata": {},
   "outputs": [
    {
     "name": "stdout",
     "output_type": "stream",
     "text": [
      "37 ('T', 'C') is mutated\n",
      "45 ('T', 'A') is mutated\n",
      "70 ('T', 'C') is mutated\n",
      "96 ('T', 'C') is mutated\n"
     ]
    }
   ],
   "source": [
    "findMutations(seqs[0], seqs[1])"
   ]
  },
  {
   "cell_type": "markdown",
   "metadata": {},
   "source": [
    "## ex2: generate all possible hexamers containing using only these 5 aminoacids: W,S,V,T,C"
   ]
  },
  {
   "cell_type": "code",
   "execution_count": 14,
   "metadata": {},
   "outputs": [
    {
     "name": "stdout",
     "output_type": "stream",
     "text": [
      "there are 15625 elements\n"
     ]
    }
   ],
   "source": [
    "#the problem can be solved with a cartesian product. I expect 5^6 = 15625 possible 6-mers\n",
    "from itertools import product\n",
    "hexs=product('WSVTC', repeat=6)\n",
    "\n",
    "\n",
    "counts=len(list(hexs))\n",
    "print('there are {} elements'.format(counts))\n",
    "## take a note about this formatting style, we will discuss this in the next lesson"
   ]
  },
  {
   "cell_type": "markdown",
   "metadata": {},
   "source": [
    "### you may have solved this problem with itertools.combinations_with_replacement. However if you count the number of elements you generated, they are only 210. Why? (hint: what's particular about _combinations_ in general?)"
   ]
  },
  {
   "cell_type": "code",
   "execution_count": null,
   "metadata": {
    "collapsed": true
   },
   "outputs": [],
   "source": []
  }
 ],
 "metadata": {
  "kernelspec": {
   "display_name": "Python 3",
   "language": "python",
   "name": "python3"
  },
  "language_info": {
   "codemirror_mode": {
    "name": "ipython",
    "version": 3
   },
   "file_extension": ".py",
   "mimetype": "text/x-python",
   "name": "python",
   "nbconvert_exporter": "python",
   "pygments_lexer": "ipython3",
   "version": "3.6.1"
  }
 },
 "nbformat": 4,
 "nbformat_minor": 2
}
