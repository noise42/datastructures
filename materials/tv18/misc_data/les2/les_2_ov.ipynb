{
 "cells": [
  {
   "cell_type": "markdown",
   "metadata": {},
   "source": [
    "# Strings (manipulation)"
   ]
  },
  {
   "cell_type": "code",
   "execution_count": null,
   "metadata": {
    "collapsed": true
   },
   "outputs": [],
   "source": [
    "### split, strip"
   ]
  },
  {
   "cell_type": "markdown",
   "metadata": {},
   "source": [
    "## f strings"
   ]
  },
  {
   "cell_type": "code",
   "execution_count": null,
   "metadata": {
    "collapsed": true
   },
   "outputs": [],
   "source": []
  },
  {
   "cell_type": "markdown",
   "metadata": {},
   "source": [
    "## .format"
   ]
  },
  {
   "cell_type": "code",
   "execution_count": null,
   "metadata": {
    "collapsed": true
   },
   "outputs": [],
   "source": []
  },
  {
   "cell_type": "markdown",
   "metadata": {},
   "source": [
    "# Function definition"
   ]
  },
  {
   "cell_type": "code",
   "execution_count": 20,
   "metadata": {
    "collapsed": false
   },
   "outputs": [
    {
     "name": "stdout",
     "output_type": "stream",
     "text": [
      "hello world\n",
      "11\n"
     ]
    }
   ],
   "source": [
    "### def/return, args, kwargs\n",
    "\n",
    "def helloworld(s, s2 = 'world', *args):\n",
    "    sfinal = s + s2\n",
    "    for el in args:\n",
    "        sfinal += el\n",
    "    print(sfinal)\n",
    "    return len(sfinal)\n",
    "\n",
    "\n",
    "def helloworld2(s, s2 = 'world',*args, **kwargs):\n",
    "    sfinal = s + s2\n",
    "    print(args)\n",
    "    print(kwargs)\n",
    "    print(sfinal)\n",
    "        \n",
    "\n",
    "x = helloworld(\"hello \")   \n",
    "print(x)"
   ]
  },
  {
   "cell_type": "markdown",
   "metadata": {},
   "source": [
    "# Docs"
   ]
  },
  {
   "cell_type": "code",
   "execution_count": 29,
   "metadata": {
    "collapsed": false
   },
   "outputs": [],
   "source": [
    "import itertools as it\n",
    "from itertools import combinations as cb"
   ]
  },
  {
   "cell_type": "code",
   "execution_count": 30,
   "metadata": {
    "collapsed": true
   },
   "outputs": [],
   "source": [
    "from sklearn.datasets import clear_data_home"
   ]
  },
  {
   "cell_type": "markdown",
   "metadata": {},
   "source": [
    "# zip, enumerate"
   ]
  },
  {
   "cell_type": "code",
   "execution_count": 33,
   "metadata": {
    "collapsed": false
   },
   "outputs": [
    {
     "name": "stdout",
     "output_type": "stream",
     "text": [
      "0 a\n",
      "1 b\n",
      "2 c\n"
     ]
    }
   ],
   "source": [
    "for i, el in enumerate(['a','b','c']):\n",
    "    print(i, el)"
   ]
  },
  {
   "cell_type": "code",
   "execution_count": 34,
   "metadata": {
    "collapsed": false
   },
   "outputs": [
    {
     "name": "stdout",
     "output_type": "stream",
     "text": [
      "BEAM\t10\n",
      "SSMART\t8\n",
      "RNA-competeS\t1\n"
     ]
    }
   ],
   "source": [
    "method = ['BEAM', \"SSMART\", \"RNA-competeS\"]\n",
    "score = [10, 8, 1]\n",
    "\n",
    "for meth,score in zip(method, score):\n",
    "    print(\"{}\\t{}\".format(meth,score))"
   ]
  },
  {
   "cell_type": "code",
   "execution_count": null,
   "metadata": {
    "collapsed": true
   },
   "outputs": [],
   "source": [
    "### la base è for i in range() -- C style"
   ]
  },
  {
   "cell_type": "markdown",
   "metadata": {},
   "source": [
    "# itertools (product, combinations, combinations_with_replacement)"
   ]
  },
  {
   "cell_type": "code",
   "execution_count": 35,
   "metadata": {
    "collapsed": true
   },
   "outputs": [],
   "source": [
    "import itertools as it"
   ]
  },
  {
   "cell_type": "code",
   "execution_count": 41,
   "metadata": {
    "collapsed": false,
    "scrolled": true
   },
   "outputs": [
    {
     "data": {
      "text/plain": [
       "[('A', 'C'),\n",
       " ('A', 'T'),\n",
       " ('A', 'G'),\n",
       " ('C', 'A'),\n",
       " ('C', 'T'),\n",
       " ('C', 'G'),\n",
       " ('T', 'A'),\n",
       " ('T', 'C'),\n",
       " ('T', 'G'),\n",
       " ('G', 'A'),\n",
       " ('G', 'C'),\n",
       " ('G', 'T')]"
      ]
     },
     "execution_count": 41,
     "metadata": {},
     "output_type": "execute_result"
    }
   ],
   "source": [
    "list(it.permutations(\"ACTG\", 2))"
   ]
  },
  {
   "cell_type": "code",
   "execution_count": 45,
   "metadata": {
    "collapsed": false
   },
   "outputs": [
    {
     "data": {
      "text/plain": [
       "[('A', 'A', 'A'),\n",
       " ('A', 'A', 'C'),\n",
       " ('A', 'A', 'G'),\n",
       " ('A', 'A', 'T'),\n",
       " ('A', 'C', 'A'),\n",
       " ('A', 'C', 'C'),\n",
       " ('A', 'C', 'G'),\n",
       " ('A', 'C', 'T'),\n",
       " ('A', 'G', 'A'),\n",
       " ('A', 'G', 'C'),\n",
       " ('A', 'G', 'G'),\n",
       " ('A', 'G', 'T'),\n",
       " ('A', 'T', 'A'),\n",
       " ('A', 'T', 'C'),\n",
       " ('A', 'T', 'G'),\n",
       " ('A', 'T', 'T'),\n",
       " ('C', 'A', 'A'),\n",
       " ('C', 'A', 'C'),\n",
       " ('C', 'A', 'G'),\n",
       " ('C', 'A', 'T'),\n",
       " ('C', 'C', 'A'),\n",
       " ('C', 'C', 'C'),\n",
       " ('C', 'C', 'G'),\n",
       " ('C', 'C', 'T'),\n",
       " ('C', 'G', 'A'),\n",
       " ('C', 'G', 'C'),\n",
       " ('C', 'G', 'G'),\n",
       " ('C', 'G', 'T'),\n",
       " ('C', 'T', 'A'),\n",
       " ('C', 'T', 'C'),\n",
       " ('C', 'T', 'G'),\n",
       " ('C', 'T', 'T'),\n",
       " ('G', 'A', 'A'),\n",
       " ('G', 'A', 'C'),\n",
       " ('G', 'A', 'G'),\n",
       " ('G', 'A', 'T'),\n",
       " ('G', 'C', 'A'),\n",
       " ('G', 'C', 'C'),\n",
       " ('G', 'C', 'G'),\n",
       " ('G', 'C', 'T'),\n",
       " ('G', 'G', 'A'),\n",
       " ('G', 'G', 'C'),\n",
       " ('G', 'G', 'G'),\n",
       " ('G', 'G', 'T'),\n",
       " ('G', 'T', 'A'),\n",
       " ('G', 'T', 'C'),\n",
       " ('G', 'T', 'G'),\n",
       " ('G', 'T', 'T'),\n",
       " ('T', 'A', 'A'),\n",
       " ('T', 'A', 'C'),\n",
       " ('T', 'A', 'G'),\n",
       " ('T', 'A', 'T'),\n",
       " ('T', 'C', 'A'),\n",
       " ('T', 'C', 'C'),\n",
       " ('T', 'C', 'G'),\n",
       " ('T', 'C', 'T'),\n",
       " ('T', 'G', 'A'),\n",
       " ('T', 'G', 'C'),\n",
       " ('T', 'G', 'G'),\n",
       " ('T', 'G', 'T'),\n",
       " ('T', 'T', 'A'),\n",
       " ('T', 'T', 'C'),\n",
       " ('T', 'T', 'G'),\n",
       " ('T', 'T', 'T')]"
      ]
     },
     "execution_count": 45,
     "metadata": {},
     "output_type": "execute_result"
    }
   ],
   "source": [
    "list(it.product(\"ACGT\", repeat=3))"
   ]
  },
  {
   "cell_type": "code",
   "execution_count": null,
   "metadata": {
    "collapsed": true
   },
   "outputs": [],
   "source": []
  },
  {
   "cell_type": "code",
   "execution_count": null,
   "metadata": {
    "collapsed": true
   },
   "outputs": [],
   "source": []
  },
  {
   "cell_type": "markdown",
   "metadata": {},
   "source": []
  },
  {
   "cell_type": "markdown",
   "metadata": {},
   "source": []
  },
  {
   "cell_type": "markdown",
   "metadata": {},
   "source": []
  }
 ],
 "metadata": {
  "kernelspec": {
   "display_name": "Python 3",
   "language": "python",
   "name": "python3"
  },
  "language_info": {
   "codemirror_mode": {
    "name": "ipython",
    "version": 3
   },
   "file_extension": ".py",
   "mimetype": "text/x-python",
   "name": "python",
   "nbconvert_exporter": "python",
   "pygments_lexer": "ipython3",
   "version": "3.6.0"
  }
 },
 "nbformat": 4,
 "nbformat_minor": 2
}
