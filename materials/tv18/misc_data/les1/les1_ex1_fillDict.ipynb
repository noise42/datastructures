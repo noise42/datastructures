{
 "cells": [
  {
   "cell_type": "markdown",
   "metadata": {},
   "source": [
    "# LESSON 1 - File I/O, basic Python\n",
    "## parse the file 1_SLBP.bed and create a dictionary whose keys are the chromosomes (in the notation found in the file, 'chr__') and the values are lists of lists containing the start and end of each read\n",
    "\n",
    "### the final result should look like this:\n",
    "{'chr1':[[564863, 564899],\n",
    " [564983, 565019],\n",
    " [565253, 565287],\n",
    " [565287, 565289],\n",
    " [565685, 565721],\n",
    " [566735, 566740], ..."
   ]
  },
  {
   "cell_type": "code",
   "execution_count": 19,
   "metadata": {
    "collapsed": true
   },
   "outputs": [],
   "source": [
    "#initialize my dictionary. It is empty, for I don't know my keys in advance\n",
    "d={}"
   ]
  },
  {
   "cell_type": "code",
   "execution_count": 20,
   "metadata": {
    "collapsed": true
   },
   "outputs": [],
   "source": [
    "with open('1_SLBP.bed') as f:\n",
    "    for line in f: #this is another way of cycling through a file, since the file object is an iterable.\n",
    "        #it will cycle through every line.\n",
    "        chunks= line.split()\n",
    "        if chunks[0] not in d.keys(): \n",
    "            #The first time the dictionary encounters a new key, we must create an empty list in order to append the entries\n",
    "            d[chunks[0]] = []\n",
    "        #start and ends are indexes in the chromosome. A good practice is to cast the variable to a suitable type (in this case, int)\n",
    "        d[chunks[0]].append( [int(chunks[1]), int(chunks[2])] )"
   ]
  },
  {
   "cell_type": "code",
   "execution_count": 21,
   "metadata": {
    "collapsed": false
   },
   "outputs": [
    {
     "name": "stdout",
     "output_type": "stream",
     "text": [
      "dict_keys(['chr1', 'chr2', 'chr3', 'chr4', 'chr5', 'chr6', 'chr7', 'chrX', 'chr8', 'chr9', 'chr10', 'chr11', 'chr12', 'chr13', 'chr14', 'chr15', 'chr16', 'chr17', 'chr18', 'chr20', 'chrY', 'chr19', 'chr22', 'chr21'])\n"
     ]
    }
   ],
   "source": [
    "#check if the keys are what we expected\n",
    "print(d.keys())"
   ]
  },
  {
   "cell_type": "code",
   "execution_count": 22,
   "metadata": {
    "collapsed": false
   },
   "outputs": [
    {
     "name": "stdout",
     "output_type": "stream",
     "text": [
      "[[564863, 564899], [564983, 565019], [565253, 565287], [565287, 565289], [565685, 565721], [566735, 566740], [566740, 566742], [566742, 566752], [566752, 566753], [566753, 566761]]\n"
     ]
    }
   ],
   "source": [
    "#I will print only the first 10 entries to make sure it is going right\n",
    "print(d['chr1'][:10])"
   ]
  },
  {
   "cell_type": "markdown",
   "metadata": {},
   "source": [
    "### reasoning: What is the drawback of cycling through the file with the for cycle?"
   ]
  },
  {
   "cell_type": "code",
   "execution_count": null,
   "metadata": {
    "collapsed": true
   },
   "outputs": [],
   "source": []
  }
 ],
 "metadata": {
  "kernelspec": {
   "display_name": "Python 3",
   "language": "python",
   "name": "python3"
  },
  "language_info": {
   "codemirror_mode": {
    "name": "ipython",
    "version": 3
   },
   "file_extension": ".py",
   "mimetype": "text/x-python",
   "name": "python",
   "nbconvert_exporter": "python",
   "pygments_lexer": "ipython3",
   "version": "3.6.0"
  }
 },
 "nbformat": 4,
 "nbformat_minor": 2
}
