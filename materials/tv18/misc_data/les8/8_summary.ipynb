{
 "cells": [
  {
   "cell_type": "markdown",
   "metadata": {},
   "source": [
    "# Numpy"
   ]
  },
  {
   "cell_type": "code",
   "execution_count": null,
   "metadata": {
    "collapsed": true
   },
   "outputs": [],
   "source": [
    "\"\"\"\n",
    "Look at the reference, specifically in the array creation routines,\n",
    "\n",
    "#np.1 Create a null vector of size 10\n",
    "#np.2 Create a 3x3 matrix with values ranging from 0 to 8\n",
    "#np.3 Create a random vector of size 30 and find the mean value\n",
    "#np.4 Normalize a 5x5 random matrix\n",
    "    ## (X - Xmin)/(Xmax - Xmin)\n",
    "    ###EXTRA Normalize every row\n",
    "    ###EXTRA Normalize every column\n",
    "#np.5 Create a 5x5 matrix with row values ranging from 0 to 4 (use broadcasting!)\n",
    "#np.6 Looking at the docs: if a= np.array([1,2]) and b= np.array([3,4]), why do np.dot(a,b) is equal to np.dot(b,a)?\n",
    "#np.7 Following np.6, if aq= np.array([[1,2],[2,4]]) and bq= np.array([[9,12],[12,16]]), why do np.dot(aq,bq) is different from np.dot(bq,aq)?\n",
    "\n",
    "\"\"\""
   ]
  },
  {
   "cell_type": "code",
   "execution_count": 7,
   "metadata": {},
   "outputs": [
    {
     "name": "stdout",
     "output_type": "stream",
     "text": [
      "[ 0.  0.  0.  0.  0.  0.  0.  0.  0.  0.]\n",
      "[[0 1 2]\n",
      " [3 4 5]\n",
      " [6 7 8]]\n",
      "0.437502131179\n",
      "[[ 0.31213986  0.2634284   0.          0.57093852  0.46910856]\n",
      " [ 1.          0.02363428  1.          0.4173316   0.        ]\n",
      " [ 0.          0.68598693  0.86484765  1.          0.98592683]\n",
      " [ 0.65138727  1.          0.94344722  0.          1.        ]\n",
      " [ 0.22073486  0.          0.16211636  0.66083382  0.57723033]]\n",
      "[[ 0.  1.  2.  3.  4.]\n",
      " [ 0.  1.  2.  3.  4.]\n",
      " [ 0.  1.  2.  3.  4.]\n",
      " [ 0.  1.  2.  3.  4.]\n",
      " [ 0.  1.  2.  3.  4.]]\n"
     ]
    }
   ],
   "source": [
    "\n",
    "import numpy as np\n",
    "\n",
    "#np.1\n",
    "print(np.zeros(10))\n",
    "\n",
    "#np.2\n",
    "print(np.arange(9).reshape((3,3)))\n",
    "\n",
    "#np.3 \n",
    "print(np.random.random(30).mean())\n",
    "\n",
    "#np.4 (each column gets normalized ALONG ROWS (axis=0) )\n",
    "mat = np.random.random((5,5))\n",
    "m = mat.min(axis=0)\n",
    "M = mat.max(axis=0)\n",
    "print((mat - m)/(M - m))\n",
    "\n",
    "#np.5\n",
    "print(np.zeros((5,5)) + np.arange(5))\n",
    "\n",
    "#np.6\n",
    "#1D: dot product\n",
    "#2D: matrix multiplication\n",
    "##1D outer product? np.outer(v, v)"
   ]
  },
  {
   "cell_type": "markdown",
   "metadata": {},
   "source": [
    "# List comprehensions"
   ]
  },
  {
   "cell_type": "code",
   "execution_count": null,
   "metadata": {
    "collapsed": true
   },
   "outputs": [],
   "source": [
    "\"\"\"\n",
    "#lc.1 Using a list comprehension, count how many elements in the file ../les4/4_results.tsv have an APSI > 94 (940)\n",
    "#lc.2 Retrieve all the (not empty) lines in ire_out.txt that are above #OtherMatches then, using a list comprehension:\n",
    "    ## select all the fourth fields, and plot the resulting array as an histogram, it shall have a peak around the value of 3\n",
    "#lc.3 Solve the following zebra puzzle:\n",
    "    ## 3 houses in a row \n",
    "    \n",
    "    ## The house with the console Ps4 is next to the orange house\n",
    "    ## The brown house is inhabited by someone who lives far from the Italian guy\n",
    "    ## The console XboxOne is not used by the Russian\n",
    "    ## Who owns the console Switch lives in a purple house\n",
    "    WHERE DOES THE ALIEN LIVE? (first, second or third house?)\n",
    "\"\"\""
   ]
  },
  {
   "cell_type": "code",
   "execution_count": 31,
   "metadata": {},
   "outputs": [
    {
     "name": "stdout",
     "output_type": "stream",
     "text": [
      "In this dataset, 940 elements have an APSI > 94\n"
     ]
    },
    {
     "data": {
      "image/png": "[encoded data removed]",
      "text/plain": [
       "<matplotlib.figure.Figure at 0x112220a58>"
      ]
     },
     "metadata": {},
     "output_type": "display_data"
    },
    {
     "name": "stdout",
     "output_type": "stream",
     "text": [
      "We got a total of 2 possible solution(s)\n",
      "The ALIEN can be in house 2\n",
      "The ALIEN can be in house 2\n"
     ]
    }
   ],
   "source": [
    "#lc.1\n",
    "myCount=0\n",
    "with open(\"../les4/4_results.tsv\") as f:\n",
    "    myData=[line for line in f if not line.startswith(\"method\") if int(line.split()[2]) > 94]\n",
    "    myCount=len(myData)\n",
    "print(\"In this dataset, {} elements have an APSI > 94\".format(myCount))\n",
    "    \n",
    "#lc.2\n",
    "import matplotlib.pyplot as plt\n",
    "futureHist=[]\n",
    "with open(\"ire_out.txt\") as f:\n",
    "    lines=[]\n",
    "    line=f.readline()\n",
    "    \n",
    "    while(line and line!=\"\\n\"):\n",
    "        lines.append(line.strip())\n",
    "        line=f.readline()\n",
    "    futureHist=[int(l.split()[3]) for l in lines]\n",
    "\n",
    "fig,ax=plt.subplots()\n",
    "ax.hist(futureHist)\n",
    "ax.set_xlabel('fourth field of unknown file')\n",
    "plt.show()\n",
    "\n",
    "#lc.3\n",
    "import itertools as it\n",
    "houses = [1,2,3]\n",
    "orderings = list(it.permutations(houses))\n",
    "\n",
    "solution = [(ALIEN)\n",
    "           for (brown, purple, orange) in orderings\n",
    "           for (ps4, switch, xboxone) in orderings\n",
    "           for (italian, russian, ALIEN) in orderings\n",
    "           if abs(ps4 - orange) == 1\n",
    "           if abs(brown - italian) == 2\n",
    "           if xboxone != russian\n",
    "           if switch == purple\n",
    "           ]\n",
    "print(\"We got a total of {} possible solution(s)\".format(len(solution)))\n",
    "for alienHouse in solution:\n",
    "    print(\"The ALIEN can be in house {}\".format(alienHouse))\n",
    "\n"
   ]
  },
  {
   "cell_type": "code",
   "execution_count": null,
   "metadata": {
    "collapsed": true
   },
   "outputs": [],
   "source": [
    "plt.close()"
   ]
  },
  {
   "cell_type": "markdown",
   "metadata": {},
   "source": [
    "# Pandas"
   ]
  },
  {
   "cell_type": "code",
   "execution_count": null,
   "metadata": {
    "collapsed": true
   },
   "outputs": [],
   "source": [
    "\"\"\"\n",
    "#pd.1 Try to build a basic SVM classifier from the IRIS dataset (see sklearn.datasets) to distinguish Iris Setosa from other species\n",
    "#pd.2 Get the 4_results.tsv file again: how many observations(rows) are there for each method?\n",
    "#pd.3 Plot the SCI column, with the APSI as independent variable, for the method mafftx and k=3\n",
    "#pd.4 create a new column called SPI which is the product of SPS and SCI\n",
    "#pd.5 create a function that, given a Series, computes the zscore z=(X - mean)/std and returns the mean of those z\n",
    "#pd.6 use the column created in pd.4 and send to the function created in pd.5 the following Series:\n",
    "    ## SPI values < 0.25\n",
    "    ## SPI values >= 0.25 and <0.50\n",
    "    ## SPI values >= 0.50\n",
    "    Each of these will return a single value (the mean z-score): add them and report the final sum. (Don't do anything manually)\n",
    "#pd.7 group the df by k, and print the mean SPS value, regardless of the method\n",
    "\"\"\""
   ]
  },
  {
   "cell_type": "code",
   "execution_count": 87,
   "metadata": {},
   "outputs": [
    {
     "name": "stdout",
     "output_type": "stream",
     "text": [
      "dict_keys(['data', 'target', 'target_names', 'DESCR', 'feature_names'])\n",
      "Cross-validation mean accuracy: 0.9533333333333334\n"
     ]
    },
    {
     "data": {
      "image/png": "[encoded data removed]",
      "text/plain": [
       "<matplotlib.figure.Figure at 0x118bb3ef0>"
      ]
     },
     "metadata": {},
     "output_type": "display_data"
    },
    {
     "name": "stdout",
     "output_type": "stream",
     "text": [
      "6.305581068376801e-15\n",
      "-7.585769229206936e-15\n",
      "-2.904465715648576e-14\n",
      "k   method  \n",
      "2   beagles     0.674952\n",
      "    mafftx      0.699342\n",
      "    mlocarna    0.727271\n",
      "    raf         0.684382\n",
      "    sparse      0.591691\n",
      "3   beagles     0.580453\n",
      "    mafftx      0.671903\n",
      "    mlocarna    0.532021\n",
      "    raf         0.648220\n",
      "    sparse      0.416573\n",
      "5   beagles     0.397985\n",
      "    mafftx      0.661675\n",
      "    mlocarna    0.457650\n",
      "    raf         0.612816\n",
      "    sparse      0.345768\n",
      "7   beagles     0.359087\n",
      "    mafftx      0.646378\n",
      "    mlocarna    0.445082\n",
      "    raf         0.584062\n",
      "    sparse      0.326775\n",
      "10  beagles     0.345154\n",
      "    mafftx      0.644726\n",
      "    mlocarna    0.446814\n",
      "    raf         0.573419\n",
      "    sparse      0.315699\n",
      "15  beagles     0.331704\n",
      "    mafftx      0.622210\n",
      "    mlocarna    0.436592\n",
      "    raf         0.542739\n",
      "    sparse      0.309154\n",
      "Name: SPS, dtype: float64\n"
     ]
    }
   ],
   "source": [
    "\n",
    "#pd.1\n",
    "import pandas as pd\n",
    "from sklearn.datasets import load_iris\n",
    "from sklearn.svm import SVC\n",
    "from sklearn.model_selection import KFold\n",
    "\n",
    "iris=load_iris()\n",
    "print(iris.keys()) #dictionary like, check the keys\n",
    "\n",
    "df=pd.DataFrame(iris.data, columns=iris.feature_names)\n",
    "target= iris.target #target labels\n",
    "\n",
    "kf = KFold(n_splits=10)\n",
    "scores=[]\n",
    "for train_index, test_index in kf.split(df):\n",
    "\n",
    "    svm=SVC()\n",
    "    svm.fit(df.iloc[train_index], target[train_index])\n",
    "    scores.append(svm.score(df.iloc[test_index], target[test_index]))\n",
    "\n",
    "\n",
    "scores=np.array(scores)\n",
    "print(\"Cross-validation mean accuracy: {}\".format(scores.mean()))\n",
    "\n",
    "#pd.2\n",
    "df=pd.read_table(\"../les4/4_results.tsv\", sep=\"\\t\")\n",
    "df.method.value_counts()\n",
    "\n",
    "#pd.3\n",
    "fig, ax=plt.subplots()\n",
    "df[df.method == \"mafftx\"].groupby(['APSI']).mean().plot(y='SCI', ax=ax, label=\"mafftx\", fontsize=20)\n",
    "ax.set_ylabel(\"SCI\", fontsize=20)\n",
    "ax.set_xlabel(\"APSI\", fontsize=20)\n",
    "\n",
    "plt.show()\n",
    "\n",
    "#pd.4\n",
    "df['SPI']=df.SPS * df.SCI\n",
    "\n",
    "#pd.5\n",
    "def zscore(series):\n",
    "    zs=(series - series.mean())/series.std()\n",
    "    return zs.mean()\n",
    "\n",
    "#pd.6 \n",
    "mask1 = df.SPI < 0.25\n",
    "mask2 = (df.SPI >= 0.25) & (df.SPI<0.50) #the parentheses are needed for a multiple-conditions mask\n",
    "mask3 = df.SPI >= 0.50\n",
    "\n",
    "print(zscore(df[mask1].SPI))\n",
    "print(zscore(df[mask2].SPI))\n",
    "print(zscore(df[mask3].SPI))\n",
    "\n",
    "#pd.7\n",
    "print(df.groupby(['k']).SPS.mean())"
   ]
  },
  {
   "cell_type": "code",
   "execution_count": null,
   "metadata": {
    "collapsed": true
   },
   "outputs": [],
   "source": []
  }
 ],
 "metadata": {
  "kernelspec": {
   "display_name": "Python 3",
   "language": "python",
   "name": "python3"
  },
  "language_info": {
   "codemirror_mode": {
    "name": "ipython",
    "version": 3
   },
   "file_extension": ".py",
   "mimetype": "text/x-python",
   "name": "python",
   "nbconvert_exporter": "python",
   "pygments_lexer": "ipython3",
   "version": "3.6.1"
  }
 },
 "nbformat": 4,
 "nbformat_minor": 2
}
