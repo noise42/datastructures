{
 "cells": [
  {
   "cell_type": "markdown",
   "metadata": {},
   "source": [
    "## Dictionary (again)\n",
    "<strong>Recall</strong>: dictionaries are a convenient way to store data for later retrieval by key. Keys must be unique, immutable objects; the values can be anything."
   ]
  },
  {
   "cell_type": "code",
   "execution_count": 1,
   "metadata": {
    "collapsed": true
   },
   "outputs": [],
   "source": [
    "seq = 'TAGGATTACAGGCATGAGCTACCGTATAATGGCCAGGCCCCCTGCCTTTGTAAATAAATTTTCACTGGAACCTGGACACACTTGTTTATGTGTTGTTTGTGCCTGTTTTCACGCTGCGGCAGGAAAGTTGAGTCGTTGTGTCAGAGACCAGAGAGAGAGCCTGCAGAACCTCAAATACTATCTGGCCCTTGCCAGAAAAAGTTTACCAACCCCCTGCCTCCCTGGAATGGGTGGAGGGTGGTTGTAAAGGTACTGGAGGATCTGAAGACATAATAGGGTCCGTGACCCTTGTGAGGTTGTGAAGCTCCCTTAAGGCACATGGTGGCTGGGCTGTGGATTTGGGGTATGGGCAGAGAGTGTGGAGAGCACTTCCAGGGGCCATGTCTGAGAGACTACATGATGCCACTTTGAATGCCCAGTTTGTTCATCCTTTTCTGTTTTCCCCACTTCCCCAGATGGGTGATCTACAATGACCAGAAAGTGTGTGCCTCCGAGAAGCCGCCCAAGGATATAATACATCTACTTCTACCAGAGAGTGGCCAGCTAAGAGCCTGCCTCACCCCTTACCAATGAGGGCAGGGGAAGACCACCTGGCATGAGGGAGAGGGGCTGAGGGATGGACTTCAGCCCCTCTGCTCTGTACCCTTTTTCCTTTTGTCCCCGGCAGCAGGGAAGAAGCTGGAGGCCGTGGGAGAATGGCTGGGCAGAGCAGAGGGGCAGCGATAGACTCTGGGGATGGAGCAGGACGGGGACGGGAGGGGCCGGCCACCTGTCTGTAAGGAGACTTTGTTGCTTCCCCTGCCCCCGGAATCCACAGTGCTCTGCTTCTCTGTGTCGCCCCGCCCAGCCCCCTGGTGTGGAGGGAGGGGTCTCGTTTGTGCGCGTGGGTGTAGCTTTGTGCATCCTCTCCCAGTGGAGCGATCACCTGTGCCTCCCCTCCCCCTTTGTTTGCCCCTGTGTGGTTGGTCAAGGAGGGATGTGAGGGAAATAGGGACCCCCCGACTTGCCCTCCTGCCTCAGTCTTTCCCCCACCCTGTCTCTTCCTTGTCCTTCTCTGGAAAATGCCAAAATACACGATGTGAATAAAAGTACAACGGCTAAATTGTGTCCTGTTTGATACCTTGGGGGAGAGGCTTACCTTCCTGGGGTTAGCAGGAGGGCGCTTAAGAAAACTCCTAACTCTGGCCGCCTCCCTGCCAAAGTCAAGTCTCCACTTTTCACTGGTTCTAGAGCTCTAGGAAAATTGGGGTTGGGTGGGGAGGTGGAGTAGAGTGACTAAATGCCGACACAAAGCCAAGGAAAGATGGAGTGAAGAACCCTTCCCTCTCTTTATTCACACAGGAGTGGAGGATTTCCCAAATGTCCCTAACTGGCTAGCTGGCTTCAGGCTGGGACTCAGTCCCTGCAGTTCCTGCCAGGCCTTGCCAGCCGGGGCGAGGGTTGGGATGATCCTGGCGGCCTATGCCTTATAATGCTGCCCCTCCCGCTGTGAACCCTGCATTTGTCCCGCAAGTTTTCACTCAGGTAGACTCCCTGGGTACAAGGGTGCCTGCTCAGCAGTCGGGCATGAGCTGCTCCGATGGGCGAAGGAGGTTGTCTATCCCACAGTTGGAGAGGGGCCCTCTCTGCCCCAGTGGGCGATCTGGGCTACGGCCAAGTTGCCACCAGCTAGTTCCGCTTGAAAACCACTTCTGGCCCCGTGGGGGACTCAAGTCGCCAAGCGAGGGTTCCCCTGAGCGCCGGAGCTCACAGGTCTCGCCTTGTCCCGAAAGCCCCGCAATCGAGGCGGAGGCGACCGAGCCCCCGACTCTCCTAGAACGTTGCCACAAGAAGGGGGAACGTCGGAACAGTGCATCATCGGGCGGCGGCCGGGGCGGCGGCAGGAGGGCGGGCGGGGGGCAGGGCTCCGGGGGACTGGGCGGGCCATGGCGGAGGACGGCGAGGAGGCGGAGTTCCACTTCGCGGCGCTCTATATAAGTGGGCAGTGGCCGCGACTGCGCGCAGACACTGACCTTCAGCGCCTCGGCTCCAGCGCCATGGCGCCCTCCAGGAAGTTCTTCGTTGGGGGAAACTGGAAGATGAACGGGCGGAAGCAGAGTCTGGGGGAGCTCATCGGCACTCTGAACGCGGCCAAGGTGCCGGCCGACACCG'\n",
    "\n",
    "consensus_motifs = {\n",
    "    'Shine_Dalgarno': 'AGGAGG',\n",
    "    'TATA_BOX': 'TATAAT',\n",
    "    'CAT_BOX': 'GGGCGG',\n",
    "    'FAKE_BOX_1': 'ATGGAAGGCA',\n",
    "    'FAKE_BOX_2': 'TTTTA'\n",
    "}"
   ]
  },
  {
   "cell_type": "markdown",
   "metadata": {},
   "source": [
    "### Slicing operation\n",
    "The slicing operation allows us to extract a contiguous piece of a string or list."
   ]
  },
  {
   "cell_type": "code",
   "execution_count": 2,
   "metadata": {},
   "outputs": [
    {
     "name": "stdout",
     "output_type": "stream",
     "text": [
      "example[0] 0\n",
      "\n",
      "example[2:5] 234\n",
      "\n",
      "example[0:2] 01\n",
      "example[:2] 01\n",
      "\n",
      "example[2:len(example)] 123456\n",
      "example[2:] 123456\n"
     ]
    }
   ],
   "source": [
    "example = '0123456'\n",
    "\n",
    "print('example[0]', example[0]) # Indexing\n",
    "\n",
    "print('\\nexample[2:5]', example[2:5])\n",
    "\n",
    "print('\\nexample[0:2]', example[0:2])\n",
    "print('example[:2]', example[:2])\n",
    "\n",
    "print('\\nexample[2:len(example)]', example[1:len(example)])\n",
    "print('example[2:]', example[1:len(example)])"
   ]
  },
  {
   "cell_type": "code",
   "execution_count": 3,
   "metadata": {},
   "outputs": [
    {
     "data": {
      "text/plain": [
       "{'AGGAGG': {969, 1153, 1587, 1881, 1941},\n",
       " 'TATAAT': {24, 509, 1467},\n",
       " 'GGGCGG': {1859, 1871, 1885, 1889, 1916, 2084}}"
      ]
     },
     "execution_count": 3,
     "metadata": {},
     "output_type": "execute_result"
    }
   ],
   "source": [
    "def find_motifs_v1(sequence, motif_list):\n",
    "    motifs_dict = {}\n",
    "    \n",
    "    for motif in motif_list:\n",
    "        motif_len = len(motif)\n",
    "\n",
    "        for pos in range(len(sequence) - motif_len):\n",
    "            # Returns a slice of the string, starting at index pos,\n",
    "            # and going up to, but not including, index pos+motif_len.\n",
    "            kmer = sequence[pos:pos+motif_len]\n",
    "            \n",
    "            if motif == kmer:\n",
    "                if motif not in motifs_dict.keys():\n",
    "                    motifs_dict[motif] = set()\n",
    "                motifs_dict[motif].add(pos)\n",
    "\n",
    "    return motifs_dict\n",
    "\n",
    "find_motifs_v1(seq, consensus_motifs.values())"
   ]
  },
  {
   "cell_type": "code",
   "execution_count": 4,
   "metadata": {},
   "outputs": [
    {
     "name": "stdout",
     "output_type": "stream",
     "text": [
      "1.63 ms ± 78.8 µs per loop (mean ± std. dev. of 7 runs, 1000 loops each)\n",
      "944 µs ± 8.72 µs per loop (mean ± std. dev. of 7 runs, 1000 loops each)\n"
     ]
    }
   ],
   "source": [
    "def find_motifs_v2(sequence, motif_list):\n",
    "    motifs_dict = {}\n",
    "    \n",
    "    for motif in motif_list:\n",
    "        if motif in seq:\n",
    "            motif_len = len(motif)\n",
    "\n",
    "            for pos in range(len(sequence) - motif_len + 1):\n",
    "                kmer = sequence[pos:pos+motif_len]\n",
    "                if motif == kmer:\n",
    "                    if motif not in motifs_dict.keys():\n",
    "                        motifs_dict[motif] = set()\n",
    "                    motifs_dict[motif].add(pos)\n",
    "\n",
    "    return motifs_dict\n",
    "\n",
    "%timeit find_motifs_v1(seq, consensus_motifs.values())\n",
    "%timeit find_motifs_v2(seq, consensus_motifs.values())"
   ]
  },
  {
   "cell_type": "markdown",
   "metadata": {},
   "source": [
    "A Python dictionary throws a KeyError if you try to get an item with a key that is not currently in the dictionary."
   ]
  },
  {
   "cell_type": "code",
   "execution_count": 5,
   "metadata": {
    "collapsed": true
   },
   "outputs": [],
   "source": [
    "motifs_dict = {}\n",
    "\n",
    "#motifs_dict['TATAAT'].add(3)"
   ]
  },
  {
   "cell_type": "markdown",
   "metadata": {},
   "source": [
    "The <code>defaultdict</code> allows to specify the default value when the container is initialized."
   ]
  },
  {
   "cell_type": "code",
   "execution_count": 6,
   "metadata": {},
   "outputs": [
    {
     "data": {
      "text/plain": [
       "defaultdict(set,\n",
       "            {'AGGAGG': {969, 1153, 1587, 1881, 1941},\n",
       "             'TATAAT': {24, 509, 1467},\n",
       "             'GGGCGG': {1859, 1871, 1885, 1889, 1916, 2084}})"
      ]
     },
     "execution_count": 6,
     "metadata": {},
     "output_type": "execute_result"
    }
   ],
   "source": [
    "from collections import defaultdict\n",
    "\n",
    "def find_motifs_v3(sequence, motif_list):\n",
    "    motifs_dict = defaultdict(set)\n",
    "    \n",
    "    for motif in motif_list:\n",
    "        if motif in seq:\n",
    "            motif_len = len(motif)\n",
    "\n",
    "            for pos in range(len(sequence) - motif_len + 1):\n",
    "                kmer = sequence[pos:pos+motif_len]\n",
    "                if motif == kmer:\n",
    "                    # Now it's useless\n",
    "                    #if motif not in motifs_dict.keys():\n",
    "                    #    motifs_dict[motif] = set()\n",
    "                    motifs_dict[motif].add(pos)\n",
    "\n",
    "    return motifs_dict\n",
    "\n",
    "find_motifs_v3(seq, consensus_motifs.values())"
   ]
  },
  {
   "attachments": {
    "IMAGE%202019-11-21%2014:53:44.jpg": {
     "image/jpeg": "[encoded data removed]"
    }
   },
   "cell_type": "markdown",
   "metadata": {},
   "source": [
    "## Numpy (from <a href=\"https://github.com/noise42/datastructures/blob/master/materials/python-data-science-handbook.pdf\">here</a> and <a href=\"https://python4bioinformaticsblog.wordpress.com/index/python-bits/numpy/\">here</a>)\n",
    "[NumPy](https://numpy.org/) (short for *Numerical Python*) is a numerical library for Python which provides an efficient interface to store and operate on data.\n",
    "\n",
    "While a statically-typed language like C requires each variable to be explicitly declared, a dynamically-typed language like Python skips this specification (in Python the types are dynamically inferred).\n",
    "\n",
    "### A Python Integer Is More Than Just an Integer\n",
    "The standard Python implementation is written in C. This means that every Python object is simply a C structure, which contains not only its value, but other information as well. For example, a Python integer is a pointer to a position in memory containing all the Python object information, including the bytes that contain the integer value.\n",
    "\n",
    "![IMAGE%202019-11-21%2014:53:44.jpg](attachment:IMAGE%202019-11-21%2014:53:44.jpg)\n",
    "\n",
    "This extra information in the Python integer structure is what allows Python to be coded so freely and dynamically."
   ]
  },
  {
   "cell_type": "markdown",
   "metadata": {},
   "source": [
    "### A Python List Is More Than Just a List\n",
    "Because of Python's dynamic typing, we can create heterogeneous lists:"
   ]
  },
  {
   "cell_type": "code",
   "execution_count": 7,
   "metadata": {},
   "outputs": [
    {
     "data": {
      "text/plain": [
       "[bool, str, float, int]"
      ]
     },
     "execution_count": 7,
     "metadata": {},
     "output_type": "execute_result"
    }
   ],
   "source": [
    "my_list = [True, \"2\", 3.0, 4]\n",
    "#how do I create a mirror list with types referring to the original?\n",
    "[type(item) for item in my_list]"
   ]
  },
  {
   "cell_type": "markdown",
   "metadata": {},
   "source": [
    "But this flexibility comes at a <strong>cost</strong>: to allow these flexible types, each item in the list must contain its own type info, reference count, and other information, that is, each item is a complete Python object."
   ]
  },
  {
   "cell_type": "markdown",
   "metadata": {},
   "source": [
    "At the implementation level, the array essentially contains a single pointer to one contiguous block of data. The Python list, on the other hand, contains a pointer to a block of pointers, each of which in turn points to a full Python object. In the special case that all variables are of the <strong>same type</strong>, much of this information is redundant: it can be much more efficient to store data in a <strong>fixed-type</strong> array.\n",
    "\n",
    "\n",
    "\n",
    "### Fixed-Type Arrays in Python\n",
    "The built-in ``array`` module can be used to create arrays of a uniform type:"
   ]
  },
  {
   "cell_type": "code",
   "execution_count": 8,
   "metadata": {},
   "outputs": [
    {
     "data": {
      "text/plain": [
       "array('i', [0, 1, 2, 3, 4, 5, 6, 7, 8, 9])"
      ]
     },
     "execution_count": 8,
     "metadata": {},
     "output_type": "execute_result"
    }
   ],
   "source": [
    "import array\n",
    "\n",
    "L = list(range(10))\n",
    "A = array.array('i', L) # i: indicates integer values\n",
    "A"
   ]
  },
  {
   "attachments": {
    "IMAGE%202019-11-21%2014:54:21.jpg": {
     "image/jpeg": "[encoded data removed]"
    }
   },
   "cell_type": "markdown",
   "metadata": {},
   "source": [
    "Much more useful, however, is the ``numpy.ndarray`` object of the NumPy package which adds to this efficient *operations* on that data.\n",
    "\n",
    "![IMAGE%202019-11-21%2014:54:21.jpg](attachment:IMAGE%202019-11-21%2014:54:21.jpg)"
   ]
  },
  {
   "cell_type": "code",
   "execution_count": 9,
   "metadata": {},
   "outputs": [
    {
     "data": {
      "text/plain": [
       "(numpy.ndarray, array([9, 2, 0, 5, 3, 3, 0, 7, 2]))"
      ]
     },
     "execution_count": 9,
     "metadata": {},
     "output_type": "execute_result"
    }
   ],
   "source": [
    "import numpy as np\n",
    "\n",
    "x_np = np.random.randint(10, size=9)  # One-dimensional array\n",
    "\n",
    "type(x_np), x_np"
   ]
  },
  {
   "cell_type": "markdown",
   "metadata": {},
   "source": [
    "We can \"mentally map\" Numpy arrays to standard python lists, for they have similarities:"
   ]
  },
  {
   "cell_type": "code",
   "execution_count": 10,
   "metadata": {},
   "outputs": [
    {
     "name": "stdout",
     "output_type": "stream",
     "text": [
      "x1[3]: 5\n",
      "x1[2:5]: [0 5 3]\n",
      "9\n",
      "2\n",
      "0\n",
      "5\n",
      "3\n",
      "3\n",
      "0\n",
      "7\n",
      "2\n"
     ]
    }
   ],
   "source": [
    "print('x1[3]:', x_np[3])     # Array Indexing\n",
    "print('x1[2:5]:', x_np[2:5]) # Array Slicing\n",
    "\n",
    "# Iteration\n",
    "for element in x_np:\n",
    "    print(element)"
   ]
  },
  {
   "cell_type": "markdown",
   "metadata": {},
   "source": [
    "``numpy.ndarray`` stands for <strong>N-dimensional array</strong> which means that this object is built to be multi-dimensional, with attributes and methods specifically designed for this feature. For example, if you want to put the values in the ``x_np`` array in a 3x3 grid, you can use the ``reshape`` method."
   ]
  },
  {
   "cell_type": "code",
   "execution_count": 11,
   "metadata": {},
   "outputs": [
    {
     "name": "stdout",
     "output_type": "stream",
     "text": [
      "grid.ndim:  2\n",
      "grid.shape: (3, 3)\n",
      "grid.size:  9\n",
      "grid.dtype: int64\n",
      "[9 2 0 5 3 3 0 7 2]\n",
      "[[9 2 0]\n",
      " [5 3 3]\n",
      " [0 7 2]]\n"
     ]
    }
   ],
   "source": [
    "grid = x_np.reshape((3, 3))  # Two-dimensional array\n",
    "\n",
    "print(\"grid.ndim: \", grid.ndim)\n",
    "print(\"grid.shape:\", grid.shape)\n",
    "print(\"grid.size: \", grid.size)\n",
    "print(\"grid.dtype:\", grid.dtype)\n",
    "\n",
    "print(x_np)\n",
    "print(grid)"
   ]
  },
  {
   "cell_type": "markdown",
   "metadata": {},
   "source": [
    "Note that for this to work, the size of the initial array must match the size of the reshaped array."
   ]
  },
  {
   "cell_type": "markdown",
   "metadata": {},
   "source": [
    "### Vectorized Operations\n",
    "Operation between arrays are carried out with a different logic than that of standard lists. For example, the operator ``+`` on lists concatenates two lists, while if applied to two ``ndarray``s they get summed in an element-wise fashion."
   ]
  },
  {
   "cell_type": "code",
   "execution_count": 12,
   "metadata": {},
   "outputs": [
    {
     "name": "stdout",
     "output_type": "stream",
     "text": [
      "x_list + x_list: [9, 2, 0, 5, 3, 3, 0, 7, 2, 9, 2, 0, 5, 3, 3, 0, 7, 2]\n",
      "x_np + x_np: [18  4  0 10  6  6  0 14  4]\n"
     ]
    }
   ],
   "source": [
    "x_list = list(x_np)\n",
    "\n",
    "print('x_list + x_list:', x_list + x_list)\n",
    "print('x_np + x_np:', x_np + x_np)"
   ]
  },
  {
   "cell_type": "markdown",
   "metadata": {},
   "source": [
    "Actually, each arithmetic operator is simply a convenient wrapper around specific functions built into NumPy:\n",
    "\n",
    "| Operator\t    | Equivalent func     | Description                           |\n",
    "|---------------|---------------------|---------------------------------------|\n",
    "|``+``          |``np.add``           |Addition (e.g., ``1 + 1 = 2``)         |\n",
    "|``-``          |``np.subtract``      |Subtraction (e.g., ``3 - 2 = 1``)      |\n",
    "|``-``          |``np.negative``      |Unary negation (e.g., ``-2``)          |\n",
    "|``*``          |``np.multiply``      |Multiplication (e.g., ``2 * 3 = 6``)   |\n",
    "|``/``          |``np.divide``        |Division (e.g., ``3 / 2 = 1.5``)       |\n",
    "|``//``         |``np.floor_divide``  |Floor division (e.g., ``3 // 2 = 1``)  |\n",
    "|``**``         |``np.power``         |Exponentiation (e.g., ``2 ** 3 = 8``)  |\n",
    "|``%``          |``np.mod``           |Modulus/remainder (e.g., ``9 % 4 = 1``)|"
   ]
  },
  {
   "cell_type": "markdown",
   "metadata": {},
   "source": [
    "Python's default implementation does some operations very slowly. In a loop, for each iteration Python first examines the object's type and does a dynamic lookup of the correct function to use for that type. If we were working in compiled code instead, this type specification would be known before the code executes and the result could be computed much more efficiently. Numpy provides a way to do this through the <strong>vectorized operations</strong>."
   ]
  },
  {
   "cell_type": "code",
   "execution_count": 13,
   "metadata": {},
   "outputs": [
    {
     "name": "stdout",
     "output_type": "stream",
     "text": [
      "1.89 s ± 32.8 ms per loop (mean ± std. dev. of 7 runs, 1 loop each)\n",
      "4.74 ms ± 9 µs per loop (mean ± std. dev. of 7 runs, 100 loops each)\n"
     ]
    }
   ],
   "source": [
    "big_array = np.random.rand(10000000)\n",
    "\n",
    "%timeit sum(big_array)\n",
    "%timeit np.sum(big_array) # or big_array.sum()"
   ]
  },
  {
   "cell_type": "markdown",
   "metadata": {},
   "source": [
    "Note that the ``sum`` function and the ``np.sum`` function are not identical! In particular, their optional arguments have different meanings, and ``np.sum`` is aware of multiple array dimensions.\n",
    "\n",
    "<strong>Important</strong>: whenever possible, make sure that you are using the NumPy version of these operations when operating on NumPy arrays."
   ]
  },
  {
   "cell_type": "markdown",
   "metadata": {},
   "source": [
    "### Boolean indexing\n",
    "Numpy arrays can be sliced with vectors of booleans (``list``s or other ``ndarray``s) with the same dimensions.\n",
    "\n",
    "A boolean vector is usually created starting from the ``ndarray`` itself by applying a condition."
   ]
  },
  {
   "cell_type": "code",
   "execution_count": 14,
   "metadata": {},
   "outputs": [
    {
     "name": "stdout",
     "output_type": "stream",
     "text": [
      "x_np: [9 2 0 5 3 3 0 7 2]\n",
      "boolean_np: [ True False False  True False False False  True False]\n",
      "[9 5 7]\n",
      "[9 5 7]\n",
      "3.23 s ± 98.3 ms per loop (mean ± std. dev. of 7 runs, 1 loop each)\n",
      "7.45 ms ± 675 µs per loop (mean ± std. dev. of 7 runs, 100 loops each)\n"
     ]
    }
   ],
   "source": [
    "boolean_np = x_np > 3\n",
    "\n",
    "print('x_np:', x_np)\n",
    "print('boolean_np:', boolean_np) # It states if the element in the elements in the same position are > 3.\n",
    "\n",
    "print(x_np[boolean_np])\n",
    "print(x_np[x_np > 3])\n",
    "\n",
    "%timeit [x for x in big_array if x > 3]\n",
    "%timeit big_array[big_array > 3]"
   ]
  },
  {
   "cell_type": "markdown",
   "metadata": {},
   "source": [
    "## Pandas  (from <a href=\"https://github.com/noise42/datastructures/blob/master/materials/python-data-science-handbook.pdf\">here</a> and <a href=\"http://bioinformationx.com/index.php/index/python-bits/pandas/\">here</a>)\n",
    "\n",
    "[Pandas](https://pandas.pydata.org/) is a package built on top of NumPy, and provides an efficient implementation of a ``DataFrame``. ``DataFrame``s are essentially multidimensional arrays with attached row and column labels, and often with heterogeneous types and/or missing data.\n",
    "\n",
    "### The Pandas Series Object\n",
    "A Pandas ``Series`` is a one-dimensional array of indexed data. It can be created from a list or array as follows:"
   ]
  },
  {
   "cell_type": "code",
   "execution_count": 2,
   "metadata": {},
   "outputs": [
    {
     "data": {
      "text/plain": [
       "0        RNA\n",
       "1       gene\n",
       "2    protein\n",
       "dtype: object"
      ]
     },
     "execution_count": 2,
     "metadata": {},
     "output_type": "execute_result"
    }
   ],
   "source": [
    "import pandas as pd\n",
    "\n",
    "data = pd.Series(['RNA', 'gene', 'protein'])\n",
    "data"
   ]
  },
  {
   "cell_type": "markdown",
   "metadata": {},
   "source": [
    "The ``Series`` wraps both a sequence of values and a sequence of indices, which we can access with the ``values`` and ``index`` attributes. The ``values`` are simply a NumPy array, while the ``index`` is an array-like object of type ``pd.Index``. Note that the index needs not be an integer, but can consist of values of any desired type:"
   ]
  },
  {
   "cell_type": "code",
   "execution_count": 3,
   "metadata": {},
   "outputs": [
    {
     "data": {
      "text/plain": [
       "ENST        RNA\n",
       "ENSG       gene\n",
       "ENSP    protein\n",
       "dtype: object"
      ]
     },
     "execution_count": 3,
     "metadata": {},
     "output_type": "execute_result"
    }
   ],
   "source": [
    "data = pd.Series(\n",
    "    ['RNA', 'gene', 'protein'],\n",
    "    index=['ENST', 'ENSG', 'ENSP']\n",
    ")\n",
    "data"
   ]
  },
  {
   "cell_type": "markdown",
   "metadata": {},
   "source": [
    "The last part, the `dtype`, is not part of the elements you access when cycling through the values of the ``Series``, it is just another attribute.\n",
    "\n",
    "We can construct a ``Series`` from a dictionary and the way we access the values are similar to dictionaries:"
   ]
  },
  {
   "cell_type": "code",
   "execution_count": 17,
   "metadata": {},
   "outputs": [
    {
     "data": {
      "text/plain": [
       "'gene'"
      ]
     },
     "execution_count": 17,
     "metadata": {},
     "output_type": "execute_result"
    }
   ],
   "source": [
    "map_dict = {'ENST': 'RNA', 'ENSG': 'gene', 'ENSP': 'protein'}\n",
    "data = pd.Series(map_dict)\n",
    "\n",
    "data['ENSG']"
   ]
  },
  {
   "cell_type": "markdown",
   "metadata": {},
   "source": [
    "``Series`` support slicing just like other arrays:"
   ]
  },
  {
   "cell_type": "code",
   "execution_count": 18,
   "metadata": {},
   "outputs": [
    {
     "data": {
      "text/plain": [
       "ENSG       gene\n",
       "ENSP    protein\n",
       "dtype: object"
      ]
     },
     "execution_count": 18,
     "metadata": {},
     "output_type": "execute_result"
    }
   ],
   "source": [
    "data['ENSG':]"
   ]
  },
  {
   "cell_type": "markdown",
   "metadata": {},
   "source": [
    "### The Pandas DataFrame Object\n",
    "The ``DataFrame`` can be thought as a generalization of a mix of both a NumPy array and a dictionary. It can be constructed from 2 or more dictionary with the same keys (or from 2 ``Series`` with the same indexes)."
   ]
  },
  {
   "cell_type": "code",
   "execution_count": 19,
   "metadata": {},
   "outputs": [
    {
     "data": {
      "text/html": [
       "<div>\n",
       "<style scoped>\n",
       "    .dataframe tbody tr th:only-of-type {\n",
       "        vertical-align: middle;\n",
       "    }\n",
       "\n",
       "    .dataframe tbody tr th {\n",
       "        vertical-align: top;\n",
       "    }\n",
       "\n",
       "    .dataframe thead th {\n",
       "        text-align: right;\n",
       "    }\n",
       "</style>\n",
       "<table border=\"1\" class=\"dataframe\">\n",
       "  <thead>\n",
       "    <tr style=\"text-align: right;\">\n",
       "      <th></th>\n",
       "      <th>mapping type</th>\n",
       "      <th>counts</th>\n",
       "    </tr>\n",
       "  </thead>\n",
       "  <tbody>\n",
       "    <tr>\n",
       "      <th>ENST</th>\n",
       "      <td>RNA</td>\n",
       "      <td>3300</td>\n",
       "    </tr>\n",
       "    <tr>\n",
       "      <th>ENSG</th>\n",
       "      <td>gene</td>\n",
       "      <td>18435</td>\n",
       "    </tr>\n",
       "    <tr>\n",
       "      <th>ENSP</th>\n",
       "      <td>protein</td>\n",
       "      <td>12034</td>\n",
       "    </tr>\n",
       "  </tbody>\n",
       "</table>\n",
       "</div>"
      ],
      "text/plain": [
       "     mapping type  counts\n",
       "ENST          RNA    3300\n",
       "ENSG         gene   18435\n",
       "ENSP      protein   12034"
      ]
     },
     "execution_count": 19,
     "metadata": {},
     "output_type": "execute_result"
    }
   ],
   "source": [
    "count_dict = {'ENST': 3300, 'ENSG':18435, 'ENSP': 12034}\n",
    " \n",
    "df = pd.DataFrame({'mapping type': map_dict, 'counts': count_dict})\n",
    "df"
   ]
  },
  {
   "cell_type": "markdown",
   "metadata": {},
   "source": [
    "We can access the index labels with the ``DataFrame`` attribute ``index``. Additionally, the ``DataFrame`` has a ``columns`` attribute, which holds the labels for all columns."
   ]
  },
  {
   "cell_type": "code",
   "execution_count": 20,
   "metadata": {},
   "outputs": [
    {
     "data": {
      "text/plain": [
       "(Index(['ENST', 'ENSG', 'ENSP'], dtype='object'),\n",
       " Index(['mapping type', 'counts'], dtype='object'))"
      ]
     },
     "execution_count": 20,
     "metadata": {},
     "output_type": "execute_result"
    }
   ],
   "source": [
    "df.index, df.columns"
   ]
  },
  {
   "cell_type": "markdown",
   "metadata": {},
   "source": [
    "We can access a colum like a dictionary or in a Pandas way:"
   ]
  },
  {
   "cell_type": "code",
   "execution_count": 21,
   "metadata": {},
   "outputs": [
    {
     "data": {
      "text/plain": [
       "ENST     3300\n",
       "ENSG    18435\n",
       "ENSP    12034\n",
       "Name: counts, dtype: int64"
      ]
     },
     "execution_count": 21,
     "metadata": {},
     "output_type": "execute_result"
    }
   ],
   "source": [
    "df['counts']  # like a dictionary"
   ]
  },
  {
   "cell_type": "code",
   "execution_count": 22,
   "metadata": {},
   "outputs": [
    {
     "data": {
      "text/plain": [
       "ENST     3300\n",
       "ENSG    18435\n",
       "ENSP    12034\n",
       "Name: counts, dtype: int64"
      ]
     },
     "execution_count": 22,
     "metadata": {},
     "output_type": "execute_result"
    }
   ],
   "source": [
    "df.counts  # The Pandas way"
   ]
  },
  {
   "cell_type": "markdown",
   "metadata": {},
   "source": [
    "The only difference is that the dictionary way supports labels with spaces and special characters:"
   ]
  },
  {
   "cell_type": "code",
   "execution_count": 23,
   "metadata": {},
   "outputs": [
    {
     "data": {
      "text/plain": [
       "ENST        RNA\n",
       "ENSG       gene\n",
       "ENSP    protein\n",
       "Name: mapping type, dtype: object"
      ]
     },
     "execution_count": 23,
     "metadata": {},
     "output_type": "execute_result"
    }
   ],
   "source": [
    "df['mapping type']\n",
    "#df.mapping type  # I can't do it"
   ]
  },
  {
   "cell_type": "markdown",
   "metadata": {},
   "source": [
    "### Indexers: loc, iloc\n",
    "Pandas provides some special *indexer* attributes that explicitly expose certain indexing/slicing schemes.\n",
    "\n",
    "ToDo"
   ]
  }
 ],
 "metadata": {
  "kernelspec": {
   "display_name": "Python 3",
   "language": "python",
   "name": "python3"
  },
  "language_info": {
   "codemirror_mode": {
    "name": "ipython",
    "version": 3
   },
   "file_extension": ".py",
   "mimetype": "text/x-python",
   "name": "python",
   "nbconvert_exporter": "python",
   "pygments_lexer": "ipython3",
   "version": "3.7.3"
  }
 },
 "nbformat": 4,
 "nbformat_minor": 2
}
