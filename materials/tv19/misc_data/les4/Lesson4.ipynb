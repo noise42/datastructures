{
 "cells": [
  {
   "cell_type": "code",
   "execution_count": null,
   "metadata": {
    "collapsed": true
   },
   "outputs": [],
   "source": [
    "consensus_motifs = {\n",
    "    'Shine_Dalgarno': 'AGGAGG',\n",
    "    'TATA_BOX': 'TATAAT',\n",
    "    'CAT_BOX': 'GGGCGG',\n",
    "    'FAKE_BOX_1': 'ATGGAAGGCA',\n",
    "    'FAKE_BOX_2': 'TTTTA'\n",
    "}"
   ]
  }
 ],
 "metadata": {
  "kernelspec": {
   "display_name": "Python 3",
   "language": "python",
   "name": "python3"
  },
  "language_info": {
   "codemirror_mode": {
    "name": "ipython",
    "version": 3
   },
   "file_extension": ".py",
   "mimetype": "text/x-python",
   "name": "python",
   "nbconvert_exporter": "python",
   "pygments_lexer": "ipython3",
   "version": "3.6.0"
  }
 },
 "nbformat": 4,
 "nbformat_minor": 2
}
