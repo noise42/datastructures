{
 "cells": [
  {
   "cell_type": "markdown",
   "metadata": {},
   "source": [
    "## Load Data from CSV Files\n",
    "CSV (comma-separated value) and TSV (tab-separated value) files are common file formats for transferring and storing data.\n",
    "\n",
    "As an example, we have a file where the values are tab-separated, the first row specifies the column names, and the first column contains the ids."
   ]
  },
  {
   "cell_type": "code",
   "execution_count": 29,
   "metadata": {},
   "outputs": [
    {
     "name": "stdout",
     "output_type": "stream",
     "text": [
      "transcript_id\tbiotype\tbp\taa\r\n",
      "ENST00000352993.7\tProtein coding\t3668\t721\r\n",
      "ENST00000354071.7\tProtein coding\t4497\t1399\r\n",
      "ENST00000461221.5\tNonsense mediated decay\t5693\t63\r\n",
      "ENST00000461574.1\tProtein coding\t726\t242\r\n",
      "ENST00000461798.5\tNonsense mediated decay\t582\t63\r\n"
     ]
    }
   ],
   "source": [
    "!head brca_transcripts.txt"
   ]
  },
  {
   "cell_type": "markdown",
   "metadata": {},
   "source": [
    "This type of files can be load into a Pandas ``DataFrame`` using the ``read_csv`` function in Pandas:"
   ]
  },
  {
   "cell_type": "code",
   "execution_count": 30,
   "metadata": {},
   "outputs": [
    {
     "data": {
      "text/html": [
       "<div>\n",
       "<style scoped>\n",
       "    .dataframe tbody tr th:only-of-type {\n",
       "        vertical-align: middle;\n",
       "    }\n",
       "\n",
       "    .dataframe tbody tr th {\n",
       "        vertical-align: top;\n",
       "    }\n",
       "\n",
       "    .dataframe thead th {\n",
       "        text-align: right;\n",
       "    }\n",
       "</style>\n",
       "<table border=\"1\" class=\"dataframe\">\n",
       "  <thead>\n",
       "    <tr style=\"text-align: right;\">\n",
       "      <th></th>\n",
       "      <th>biotype</th>\n",
       "      <th>bp</th>\n",
       "      <th>aa</th>\n",
       "    </tr>\n",
       "    <tr>\n",
       "      <th>transcript_id</th>\n",
       "      <th></th>\n",
       "      <th></th>\n",
       "      <th></th>\n",
       "    </tr>\n",
       "  </thead>\n",
       "  <tbody>\n",
       "    <tr>\n",
       "      <th>ENST00000352993.7</th>\n",
       "      <td>Protein coding</td>\n",
       "      <td>3668</td>\n",
       "      <td>721</td>\n",
       "    </tr>\n",
       "    <tr>\n",
       "      <th>ENST00000354071.7</th>\n",
       "      <td>Protein coding</td>\n",
       "      <td>4497</td>\n",
       "      <td>1399</td>\n",
       "    </tr>\n",
       "    <tr>\n",
       "      <th>ENST00000461221.5</th>\n",
       "      <td>Nonsense mediated decay</td>\n",
       "      <td>5693</td>\n",
       "      <td>63</td>\n",
       "    </tr>\n",
       "    <tr>\n",
       "      <th>ENST00000461574.1</th>\n",
       "      <td>Protein coding</td>\n",
       "      <td>726</td>\n",
       "      <td>242</td>\n",
       "    </tr>\n",
       "    <tr>\n",
       "      <th>ENST00000461798.5</th>\n",
       "      <td>Nonsense mediated decay</td>\n",
       "      <td>582</td>\n",
       "      <td>63</td>\n",
       "    </tr>\n",
       "  </tbody>\n",
       "</table>\n",
       "</div>"
      ],
      "text/plain": [
       "                                   biotype    bp    aa\n",
       "transcript_id                                         \n",
       "ENST00000352993.7           Protein coding  3668   721\n",
       "ENST00000354071.7           Protein coding  4497  1399\n",
       "ENST00000461221.5  Nonsense mediated decay  5693    63\n",
       "ENST00000461574.1           Protein coding   726   242\n",
       "ENST00000461798.5  Nonsense mediated decay   582    63"
      ]
     },
     "execution_count": 30,
     "metadata": {},
     "output_type": "execute_result"
    }
   ],
   "source": [
    "brca1_df = pd.read_csv('brca_transcripts.txt', sep = '\\t', index_col = 0, header = 0)\n",
    "brca1_df"
   ]
  },
  {
   "cell_type": "markdown",
   "metadata": {},
   "source": [
    "- ``sep`` specifies the delimiter to use (the tab);\n",
    "- ``index_col`` specifies the column to use as the row labels of the ``DataFrame`` (the first column);\n",
    "- ``header`` specifies the row number to use as the column names (the first row)."
   ]
  },
  {
   "cell_type": "markdown",
   "metadata": {},
   "source": [
    "## Aggregation and Grouping\n",
    "Pandas ``Series`` and ``DataFrame``s include a method ``describe()`` that computes several common aggregates for each column and returns the result."
   ]
  },
  {
   "cell_type": "code",
   "execution_count": 31,
   "metadata": {},
   "outputs": [
    {
     "data": {
      "text/html": [
       "<div>\n",
       "<style scoped>\n",
       "    .dataframe tbody tr th:only-of-type {\n",
       "        vertical-align: middle;\n",
       "    }\n",
       "\n",
       "    .dataframe tbody tr th {\n",
       "        vertical-align: top;\n",
       "    }\n",
       "\n",
       "    .dataframe thead th {\n",
       "        text-align: right;\n",
       "    }\n",
       "</style>\n",
       "<table border=\"1\" class=\"dataframe\">\n",
       "  <thead>\n",
       "    <tr style=\"text-align: right;\">\n",
       "      <th></th>\n",
       "      <th>bp</th>\n",
       "      <th>aa</th>\n",
       "    </tr>\n",
       "  </thead>\n",
       "  <tbody>\n",
       "    <tr>\n",
       "      <th>count</th>\n",
       "      <td>5.000000</td>\n",
       "      <td>5.00000</td>\n",
       "    </tr>\n",
       "    <tr>\n",
       "      <th>mean</th>\n",
       "      <td>3033.200000</td>\n",
       "      <td>497.60000</td>\n",
       "    </tr>\n",
       "    <tr>\n",
       "      <th>std</th>\n",
       "      <td>2288.655216</td>\n",
       "      <td>571.29572</td>\n",
       "    </tr>\n",
       "    <tr>\n",
       "      <th>min</th>\n",
       "      <td>582.000000</td>\n",
       "      <td>63.00000</td>\n",
       "    </tr>\n",
       "    <tr>\n",
       "      <th>25%</th>\n",
       "      <td>726.000000</td>\n",
       "      <td>63.00000</td>\n",
       "    </tr>\n",
       "    <tr>\n",
       "      <th>50%</th>\n",
       "      <td>3668.000000</td>\n",
       "      <td>242.00000</td>\n",
       "    </tr>\n",
       "    <tr>\n",
       "      <th>75%</th>\n",
       "      <td>4497.000000</td>\n",
       "      <td>721.00000</td>\n",
       "    </tr>\n",
       "    <tr>\n",
       "      <th>max</th>\n",
       "      <td>5693.000000</td>\n",
       "      <td>1399.00000</td>\n",
       "    </tr>\n",
       "  </tbody>\n",
       "</table>\n",
       "</div>"
      ],
      "text/plain": [
       "                bp          aa\n",
       "count     5.000000     5.00000\n",
       "mean   3033.200000   497.60000\n",
       "std    2288.655216   571.29572\n",
       "min     582.000000    63.00000\n",
       "25%     726.000000    63.00000\n",
       "50%    3668.000000   242.00000\n",
       "75%    4497.000000   721.00000\n",
       "max    5693.000000  1399.00000"
      ]
     },
     "execution_count": 31,
     "metadata": {},
     "output_type": "execute_result"
    }
   ],
   "source": [
    "brca1_df.describe()"
   ]
  },
  {
   "cell_type": "markdown",
   "metadata": {},
   "source": [
    "Simple aggregations can give you a flavor of your dataset, but often we would prefer to aggregate conditionally on some label or index: this is implemented in the so-called ``groupby`` operation."
   ]
  },
  {
   "cell_type": "code",
   "execution_count": 32,
   "metadata": {},
   "outputs": [
    {
     "name": "stdout",
     "output_type": "stream",
     "text": [
      "<class 'pandas.core.groupby.generic.DataFrameGroupBy'>\n"
     ]
    },
    {
     "data": {
      "text/html": [
       "<div>\n",
       "<style scoped>\n",
       "    .dataframe tbody tr th:only-of-type {\n",
       "        vertical-align: middle;\n",
       "    }\n",
       "\n",
       "    .dataframe tbody tr th {\n",
       "        vertical-align: top;\n",
       "    }\n",
       "\n",
       "    .dataframe thead tr th {\n",
       "        text-align: left;\n",
       "    }\n",
       "\n",
       "    .dataframe thead tr:last-of-type th {\n",
       "        text-align: right;\n",
       "    }\n",
       "</style>\n",
       "<table border=\"1\" class=\"dataframe\">\n",
       "  <thead>\n",
       "    <tr>\n",
       "      <th></th>\n",
       "      <th colspan=\"8\" halign=\"left\">bp</th>\n",
       "      <th colspan=\"8\" halign=\"left\">aa</th>\n",
       "    </tr>\n",
       "    <tr>\n",
       "      <th></th>\n",
       "      <th>count</th>\n",
       "      <th>mean</th>\n",
       "      <th>std</th>\n",
       "      <th>min</th>\n",
       "      <th>25%</th>\n",
       "      <th>50%</th>\n",
       "      <th>75%</th>\n",
       "      <th>max</th>\n",
       "      <th>count</th>\n",
       "      <th>mean</th>\n",
       "      <th>std</th>\n",
       "      <th>min</th>\n",
       "      <th>25%</th>\n",
       "      <th>50%</th>\n",
       "      <th>75%</th>\n",
       "      <th>max</th>\n",
       "    </tr>\n",
       "    <tr>\n",
       "      <th>biotype</th>\n",
       "      <th></th>\n",
       "      <th></th>\n",
       "      <th></th>\n",
       "      <th></th>\n",
       "      <th></th>\n",
       "      <th></th>\n",
       "      <th></th>\n",
       "      <th></th>\n",
       "      <th></th>\n",
       "      <th></th>\n",
       "      <th></th>\n",
       "      <th></th>\n",
       "      <th></th>\n",
       "      <th></th>\n",
       "      <th></th>\n",
       "      <th></th>\n",
       "    </tr>\n",
       "  </thead>\n",
       "  <tbody>\n",
       "    <tr>\n",
       "      <th>Nonsense mediated decay</th>\n",
       "      <td>2.0</td>\n",
       "      <td>3137.500000</td>\n",
       "      <td>3614.022759</td>\n",
       "      <td>582.0</td>\n",
       "      <td>1859.75</td>\n",
       "      <td>3137.5</td>\n",
       "      <td>4415.25</td>\n",
       "      <td>5693.0</td>\n",
       "      <td>2.0</td>\n",
       "      <td>63.000000</td>\n",
       "      <td>0.000000</td>\n",
       "      <td>63.0</td>\n",
       "      <td>63.0</td>\n",
       "      <td>63.0</td>\n",
       "      <td>63.0</td>\n",
       "      <td>63.0</td>\n",
       "    </tr>\n",
       "    <tr>\n",
       "      <th>Protein coding</th>\n",
       "      <td>3.0</td>\n",
       "      <td>2963.666667</td>\n",
       "      <td>1981.709952</td>\n",
       "      <td>726.0</td>\n",
       "      <td>2197.00</td>\n",
       "      <td>3668.0</td>\n",
       "      <td>4082.50</td>\n",
       "      <td>4497.0</td>\n",
       "      <td>3.0</td>\n",
       "      <td>787.333333</td>\n",
       "      <td>581.345279</td>\n",
       "      <td>242.0</td>\n",
       "      <td>481.5</td>\n",
       "      <td>721.0</td>\n",
       "      <td>1060.0</td>\n",
       "      <td>1399.0</td>\n",
       "    </tr>\n",
       "  </tbody>\n",
       "</table>\n",
       "</div>"
      ],
      "text/plain": [
       "                           bp                                            \\\n",
       "                        count         mean          std    min      25%   \n",
       "biotype                                                                   \n",
       "Nonsense mediated decay   2.0  3137.500000  3614.022759  582.0  1859.75   \n",
       "Protein coding            3.0  2963.666667  1981.709952  726.0  2197.00   \n",
       "\n",
       "                                                    aa              \\\n",
       "                            50%      75%     max count        mean   \n",
       "biotype                                                              \n",
       "Nonsense mediated decay  3137.5  4415.25  5693.0   2.0   63.000000   \n",
       "Protein coding           3668.0  4082.50  4497.0   3.0  787.333333   \n",
       "\n",
       "                                                                          \n",
       "                                std    min    25%    50%     75%     max  \n",
       "biotype                                                                   \n",
       "Nonsense mediated decay    0.000000   63.0   63.0   63.0    63.0    63.0  \n",
       "Protein coding           581.345279  242.0  481.5  721.0  1060.0  1399.0  "
      ]
     },
     "execution_count": 32,
     "metadata": {},
     "output_type": "execute_result"
    }
   ],
   "source": [
    "print(type(brca1_df.groupby('biotype')))\n",
    "\n",
    "brca1_df.groupby('biotype').describe()"
   ]
  },
  {
   "cell_type": "markdown",
   "metadata": {},
   "source": [
    "The ``GroupBy`` object supports column indexing in the same way as the ``DataFrame``, and returns a modified ``GroupBy`` object."
   ]
  },
  {
   "cell_type": "code",
   "execution_count": 33,
   "metadata": {},
   "outputs": [
    {
     "data": {
      "text/plain": [
       "biotype\n",
       "Nonsense mediated decay    3137.500000\n",
       "Protein coding             2963.666667\n",
       "Name: bp, dtype: float64"
      ]
     },
     "execution_count": 33,
     "metadata": {},
     "output_type": "execute_result"
    }
   ],
   "source": [
    "brca1_df.groupby('biotype')['bp'].mean()"
   ]
  },
  {
   "cell_type": "markdown",
   "metadata": {},
   "source": [
    "### apply\n",
    "The ``apply()`` method lets you apply a function to the group results."
   ]
  },
  {
   "cell_type": "code",
   "execution_count": 34,
   "metadata": {},
   "outputs": [
    {
     "data": {
      "text/html": [
       "<div>\n",
       "<style scoped>\n",
       "    .dataframe tbody tr th:only-of-type {\n",
       "        vertical-align: middle;\n",
       "    }\n",
       "\n",
       "    .dataframe tbody tr th {\n",
       "        vertical-align: top;\n",
       "    }\n",
       "\n",
       "    .dataframe thead th {\n",
       "        text-align: right;\n",
       "    }\n",
       "</style>\n",
       "<table border=\"1\" class=\"dataframe\">\n",
       "  <thead>\n",
       "    <tr style=\"text-align: right;\">\n",
       "      <th></th>\n",
       "      <th>bp</th>\n",
       "      <th>aa</th>\n",
       "    </tr>\n",
       "    <tr>\n",
       "      <th>biotype</th>\n",
       "      <th></th>\n",
       "      <th></th>\n",
       "    </tr>\n",
       "  </thead>\n",
       "  <tbody>\n",
       "    <tr>\n",
       "      <th>Nonsense mediated decay</th>\n",
       "      <td>6275</td>\n",
       "      <td>126</td>\n",
       "    </tr>\n",
       "    <tr>\n",
       "      <th>Protein coding</th>\n",
       "      <td>8891</td>\n",
       "      <td>2362</td>\n",
       "    </tr>\n",
       "  </tbody>\n",
       "</table>\n",
       "</div>"
      ],
      "text/plain": [
       "                           bp    aa\n",
       "biotype                            \n",
       "Nonsense mediated decay  6275   126\n",
       "Protein coding           8891  2362"
      ]
     },
     "execution_count": 34,
     "metadata": {},
     "output_type": "execute_result"
    }
   ],
   "source": [
    "brca1_df.groupby('biotype')[['bp', 'aa']].apply(np.sum)"
   ]
  },
  {
   "cell_type": "markdown",
   "metadata": {},
   "source": [
    "In general, the ``apply()`` method lets you apply a function along input axis of a ``DataFrame``. Objects passed to these functions are ``Series`` objects having index:\n",
    "- either the ``DataFrame``’s index (``axis=0``)\n",
    "- or the columns (``axis=1``)."
   ]
  },
  {
   "cell_type": "code",
   "execution_count": 35,
   "metadata": {},
   "outputs": [
    {
     "data": {
      "text/plain": [
       "bp    15166\n",
       "aa     2488\n",
       "dtype: int64"
      ]
     },
     "execution_count": 35,
     "metadata": {},
     "output_type": "execute_result"
    }
   ],
   "source": [
    "brca1_df[['bp', 'aa']].apply(np.sum)            # Total nucleotides and total aminoacids"
   ]
  },
  {
   "cell_type": "code",
   "execution_count": 36,
   "metadata": {},
   "outputs": [
    {
     "data": {
      "text/plain": [
       "transcript_id\n",
       "ENST00000352993.7    4389\n",
       "ENST00000354071.7    5896\n",
       "ENST00000461221.5    5756\n",
       "ENST00000461574.1     968\n",
       "ENST00000461798.5     645\n",
       "dtype: int64"
      ]
     },
     "execution_count": 36,
     "metadata": {},
     "output_type": "execute_result"
    }
   ],
   "source": [
    "brca1_df[['bp', 'aa']].apply(np.sum, axis=1)    # Nucleotides + aminoacids for each transcript"
   ]
  },
  {
   "cell_type": "markdown",
   "metadata": {},
   "source": [
    "We can also define an arbitrary function:"
   ]
  },
  {
   "cell_type": "code",
   "execution_count": 37,
   "metadata": {
    "collapsed": true
   },
   "outputs": [],
   "source": [
    "def function(row, value):\n",
    "    status = ''\n",
    "    if row['bp'] >= value:\n",
    "        status = 'High'\n",
    "    else:\n",
    "        status = 'Low'\n",
    "        \n",
    "    return status"
   ]
  },
  {
   "cell_type": "markdown",
   "metadata": {},
   "source": [
    "## the apply requires only one argument. This requirement can be bypassed by \"args\""
   ]
  },
  {
   "cell_type": "code",
   "execution_count": null,
   "metadata": {
    "collapsed": true
   },
   "outputs": [],
   "source": [
    "bp_mean = brca1_df['bp'].mean()\n",
    "print('bp mean:', bp_mean)\n",
    "\n",
    "brca1_df['transcript_length'] = brca1_df.apply(function, args = (bp_mean,), axis = 1)\n",
    "brca1_df\n",
    "\n"
   ]
  },
  {
   "cell_type": "markdown",
   "metadata": {},
   "source": [
    "### Lambda function"
   ]
  },
  {
   "cell_type": "markdown",
   "metadata": {},
   "source": [
    "Python <strong>lambdas</strong> are little, anonymous functions, subject to a more restrictive but more concise syntax than regular Python functions. Anonymous function means that a function is without a name.\n",
    "\n",
    "The ``def`` keyword is used to define the normal functions and the ``lambda`` keyword is used to create anonymous functions. It has the following syntax: ``lambda arguments: expression``. This function can have any number of arguments but <strong>only one</strong> expression, which is evaluated and returned."
   ]
  },
  {
   "cell_type": "code",
   "execution_count": null,
   "metadata": {
    "collapsed": true
   },
   "outputs": [],
   "source": [
    "brca1_df['protein_length'] = brca1_df.apply(\n",
    "    lambda row, value: 'High' if row['aa'] > value else 'Low', args = (brca1_df['bp'].mean(),),\n",
    "    axis = 1\n",
    ")\n",
    "brca1_df"
   ]
  },
  {
   "cell_type": "markdown",
   "metadata": {},
   "source": [
    "Note that lambda definition does not include a ``return`` statement, it always contains an expression which is returned. "
   ]
  }
 ],
 "metadata": {
  "kernelspec": {
   "display_name": "Python 3",
   "language": "python",
   "name": "python3"
  },
  "language_info": {
   "codemirror_mode": {
    "name": "ipython",
    "version": 3
   },
   "file_extension": ".py",
   "mimetype": "text/x-python",
   "name": "python",
   "nbconvert_exporter": "python",
   "pygments_lexer": "ipython3",
   "version": "3.7.3"
  }
 },
 "nbformat": 4,
 "nbformat_minor": 2
}
