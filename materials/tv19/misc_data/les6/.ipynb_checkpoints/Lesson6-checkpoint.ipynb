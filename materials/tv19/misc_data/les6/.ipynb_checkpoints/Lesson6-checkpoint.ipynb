{
 "cells": [
  {
   "cell_type": "markdown",
   "metadata": {},
   "source": [
    "1. Question(s)\n",
    "2. Acquisition & Clean\n",
    "3. Exploration\n",
    "4. Prediction & Conclusions\n",
    "5. Communication"
   ]
  },
  {
   "cell_type": "code",
   "execution_count": 1,
   "metadata": {
    "collapsed": false
   },
   "outputs": [
    {
     "name": "stdout",
     "output_type": "stream",
     "text": [
      "transcript_id\tbiotype\tbp\taa\r\n",
      "ENST00000352993.7\tProtein coding\t3668\t721\r\n",
      "ENST00000354071.7\tProtein coding\t4497\t1399\r\n",
      "ENST00000461221.5\tNonsense mediated decay\t5693\t63\r\n",
      "ENST00000461574.1\tProtein coding\t726\t242\r\n",
      "ENST00000461798.5\tNonsense mediated decay\t582\t63\r\n"
     ]
    }
   ],
   "source": [
    "!head brca_transcripts.txt"
   ]
  },
  {
   "cell_type": "code",
   "execution_count": 2,
   "metadata": {
    "collapsed": false
   },
   "outputs": [
    {
     "name": "stdout",
     "output_type": "stream",
     "text": [
      "/Users/marco/Google Drive/postDoc/corsoPython/datastructures/materials/tv19/misc_data/les6\r\n"
     ]
    }
   ],
   "source": [
    "!pwd"
   ]
  },
  {
   "cell_type": "code",
   "execution_count": 12,
   "metadata": {
    "collapsed": false
   },
   "outputs": [
    {
     "data": {
      "text/html": [
       "<div>\n",
       "<table border=\"1\" class=\"dataframe\">\n",
       "  <thead>\n",
       "    <tr style=\"text-align: right;\">\n",
       "      <th></th>\n",
       "      <th>biotype</th>\n",
       "      <th>bp</th>\n",
       "      <th>aa</th>\n",
       "    </tr>\n",
       "    <tr>\n",
       "      <th>transcript_id</th>\n",
       "      <th></th>\n",
       "      <th></th>\n",
       "      <th></th>\n",
       "    </tr>\n",
       "  </thead>\n",
       "  <tbody>\n",
       "    <tr>\n",
       "      <th>ENST00000352993.7</th>\n",
       "      <td>Protein coding</td>\n",
       "      <td>3668</td>\n",
       "      <td>721</td>\n",
       "    </tr>\n",
       "    <tr>\n",
       "      <th>ENST00000354071.7</th>\n",
       "      <td>Protein coding</td>\n",
       "      <td>4497</td>\n",
       "      <td>1399</td>\n",
       "    </tr>\n",
       "    <tr>\n",
       "      <th>ENST00000461221.5</th>\n",
       "      <td>Nonsense mediated decay</td>\n",
       "      <td>5693</td>\n",
       "      <td>63</td>\n",
       "    </tr>\n",
       "    <tr>\n",
       "      <th>ENST00000461574.1</th>\n",
       "      <td>Protein coding</td>\n",
       "      <td>726</td>\n",
       "      <td>242</td>\n",
       "    </tr>\n",
       "    <tr>\n",
       "      <th>ENST00000461798.5</th>\n",
       "      <td>Nonsense mediated decay</td>\n",
       "      <td>582</td>\n",
       "      <td>63</td>\n",
       "    </tr>\n",
       "  </tbody>\n",
       "</table>\n",
       "</div>"
      ],
      "text/plain": [
       "                                   biotype    bp    aa\n",
       "transcript_id                                         \n",
       "ENST00000352993.7           Protein coding  3668   721\n",
       "ENST00000354071.7           Protein coding  4497  1399\n",
       "ENST00000461221.5  Nonsense mediated decay  5693    63\n",
       "ENST00000461574.1           Protein coding   726   242\n",
       "ENST00000461798.5  Nonsense mediated decay   582    63"
      ]
     },
     "execution_count": 12,
     "metadata": {},
     "output_type": "execute_result"
    }
   ],
   "source": [
    "import pandas as pd\n",
    "brca1_df = pd.read_csv('brca_transcripts.txt', sep=\"\\t\", index_col=0, header = 0)\n",
    "\n",
    "brca1_df"
   ]
  },
  {
   "cell_type": "code",
   "execution_count": 8,
   "metadata": {
    "collapsed": false
   },
   "outputs": [
    {
     "data": {
      "text/html": [
       "<div>\n",
       "<table border=\"1\" class=\"dataframe\">\n",
       "  <thead>\n",
       "    <tr style=\"text-align: right;\">\n",
       "      <th></th>\n",
       "      <th>biotype</th>\n",
       "      <th>bp</th>\n",
       "      <th>aa</th>\n",
       "    </tr>\n",
       "  </thead>\n",
       "  <tbody>\n",
       "    <tr>\n",
       "      <th>count</th>\n",
       "      <td>5</td>\n",
       "      <td>5.000000</td>\n",
       "      <td>5.00000</td>\n",
       "    </tr>\n",
       "    <tr>\n",
       "      <th>unique</th>\n",
       "      <td>2</td>\n",
       "      <td>NaN</td>\n",
       "      <td>NaN</td>\n",
       "    </tr>\n",
       "    <tr>\n",
       "      <th>top</th>\n",
       "      <td>Protein coding</td>\n",
       "      <td>NaN</td>\n",
       "      <td>NaN</td>\n",
       "    </tr>\n",
       "    <tr>\n",
       "      <th>freq</th>\n",
       "      <td>3</td>\n",
       "      <td>NaN</td>\n",
       "      <td>NaN</td>\n",
       "    </tr>\n",
       "    <tr>\n",
       "      <th>mean</th>\n",
       "      <td>NaN</td>\n",
       "      <td>3033.200000</td>\n",
       "      <td>497.60000</td>\n",
       "    </tr>\n",
       "    <tr>\n",
       "      <th>std</th>\n",
       "      <td>NaN</td>\n",
       "      <td>2288.655216</td>\n",
       "      <td>571.29572</td>\n",
       "    </tr>\n",
       "    <tr>\n",
       "      <th>min</th>\n",
       "      <td>NaN</td>\n",
       "      <td>582.000000</td>\n",
       "      <td>63.00000</td>\n",
       "    </tr>\n",
       "    <tr>\n",
       "      <th>25%</th>\n",
       "      <td>NaN</td>\n",
       "      <td>726.000000</td>\n",
       "      <td>63.00000</td>\n",
       "    </tr>\n",
       "    <tr>\n",
       "      <th>50%</th>\n",
       "      <td>NaN</td>\n",
       "      <td>3668.000000</td>\n",
       "      <td>242.00000</td>\n",
       "    </tr>\n",
       "    <tr>\n",
       "      <th>75%</th>\n",
       "      <td>NaN</td>\n",
       "      <td>4497.000000</td>\n",
       "      <td>721.00000</td>\n",
       "    </tr>\n",
       "    <tr>\n",
       "      <th>max</th>\n",
       "      <td>NaN</td>\n",
       "      <td>5693.000000</td>\n",
       "      <td>1399.00000</td>\n",
       "    </tr>\n",
       "  </tbody>\n",
       "</table>\n",
       "</div>"
      ],
      "text/plain": [
       "               biotype           bp          aa\n",
       "count                5     5.000000     5.00000\n",
       "unique               2          NaN         NaN\n",
       "top     Protein coding          NaN         NaN\n",
       "freq                 3          NaN         NaN\n",
       "mean               NaN  3033.200000   497.60000\n",
       "std                NaN  2288.655216   571.29572\n",
       "min                NaN   582.000000    63.00000\n",
       "25%                NaN   726.000000    63.00000\n",
       "50%                NaN  3668.000000   242.00000\n",
       "75%                NaN  4497.000000   721.00000\n",
       "max                NaN  5693.000000  1399.00000"
      ]
     },
     "execution_count": 8,
     "metadata": {},
     "output_type": "execute_result"
    }
   ],
   "source": [
    "brca1_df.describe(include='all')"
   ]
  },
  {
   "cell_type": "code",
   "execution_count": 15,
   "metadata": {
    "collapsed": false,
    "scrolled": true
   },
   "outputs": [
    {
     "data": {
      "text/html": [
       "<div>\n",
       "<table border=\"1\" class=\"dataframe\">\n",
       "  <thead>\n",
       "    <tr style=\"text-align: right;\">\n",
       "      <th></th>\n",
       "      <th></th>\n",
       "      <th>aa</th>\n",
       "      <th>bp</th>\n",
       "    </tr>\n",
       "    <tr>\n",
       "      <th>biotype</th>\n",
       "      <th></th>\n",
       "      <th></th>\n",
       "      <th></th>\n",
       "    </tr>\n",
       "  </thead>\n",
       "  <tbody>\n",
       "    <tr>\n",
       "      <th rowspan=\"8\" valign=\"top\">Nonsense mediated decay</th>\n",
       "      <th>count</th>\n",
       "      <td>2.000000</td>\n",
       "      <td>2.000000</td>\n",
       "    </tr>\n",
       "    <tr>\n",
       "      <th>mean</th>\n",
       "      <td>63.000000</td>\n",
       "      <td>3137.500000</td>\n",
       "    </tr>\n",
       "    <tr>\n",
       "      <th>std</th>\n",
       "      <td>0.000000</td>\n",
       "      <td>3614.022759</td>\n",
       "    </tr>\n",
       "    <tr>\n",
       "      <th>min</th>\n",
       "      <td>63.000000</td>\n",
       "      <td>582.000000</td>\n",
       "    </tr>\n",
       "    <tr>\n",
       "      <th>25%</th>\n",
       "      <td>63.000000</td>\n",
       "      <td>1859.750000</td>\n",
       "    </tr>\n",
       "    <tr>\n",
       "      <th>50%</th>\n",
       "      <td>63.000000</td>\n",
       "      <td>3137.500000</td>\n",
       "    </tr>\n",
       "    <tr>\n",
       "      <th>75%</th>\n",
       "      <td>63.000000</td>\n",
       "      <td>4415.250000</td>\n",
       "    </tr>\n",
       "    <tr>\n",
       "      <th>max</th>\n",
       "      <td>63.000000</td>\n",
       "      <td>5693.000000</td>\n",
       "    </tr>\n",
       "    <tr>\n",
       "      <th rowspan=\"8\" valign=\"top\">Protein coding</th>\n",
       "      <th>count</th>\n",
       "      <td>3.000000</td>\n",
       "      <td>3.000000</td>\n",
       "    </tr>\n",
       "    <tr>\n",
       "      <th>mean</th>\n",
       "      <td>787.333333</td>\n",
       "      <td>2963.666667</td>\n",
       "    </tr>\n",
       "    <tr>\n",
       "      <th>std</th>\n",
       "      <td>581.345279</td>\n",
       "      <td>1981.709952</td>\n",
       "    </tr>\n",
       "    <tr>\n",
       "      <th>min</th>\n",
       "      <td>242.000000</td>\n",
       "      <td>726.000000</td>\n",
       "    </tr>\n",
       "    <tr>\n",
       "      <th>25%</th>\n",
       "      <td>481.500000</td>\n",
       "      <td>2197.000000</td>\n",
       "    </tr>\n",
       "    <tr>\n",
       "      <th>50%</th>\n",
       "      <td>721.000000</td>\n",
       "      <td>3668.000000</td>\n",
       "    </tr>\n",
       "    <tr>\n",
       "      <th>75%</th>\n",
       "      <td>1060.000000</td>\n",
       "      <td>4082.500000</td>\n",
       "    </tr>\n",
       "    <tr>\n",
       "      <th>max</th>\n",
       "      <td>1399.000000</td>\n",
       "      <td>4497.000000</td>\n",
       "    </tr>\n",
       "  </tbody>\n",
       "</table>\n",
       "</div>"
      ],
      "text/plain": [
       "                                        aa           bp\n",
       "biotype                                                \n",
       "Nonsense mediated decay count     2.000000     2.000000\n",
       "                        mean     63.000000  3137.500000\n",
       "                        std       0.000000  3614.022759\n",
       "                        min      63.000000   582.000000\n",
       "                        25%      63.000000  1859.750000\n",
       "                        50%      63.000000  3137.500000\n",
       "                        75%      63.000000  4415.250000\n",
       "                        max      63.000000  5693.000000\n",
       "Protein coding          count     3.000000     3.000000\n",
       "                        mean    787.333333  2963.666667\n",
       "                        std     581.345279  1981.709952\n",
       "                        min     242.000000   726.000000\n",
       "                        25%     481.500000  2197.000000\n",
       "                        50%     721.000000  3668.000000\n",
       "                        75%    1060.000000  4082.500000\n",
       "                        max    1399.000000  4497.000000"
      ]
     },
     "execution_count": 15,
     "metadata": {},
     "output_type": "execute_result"
    }
   ],
   "source": [
    "brca1_df.groupby('biotype')\n",
    "\n",
    "brca1_df.groupby('biotype').describe()"
   ]
  },
  {
   "cell_type": "code",
   "execution_count": 16,
   "metadata": {
    "collapsed": false
   },
   "outputs": [
    {
     "data": {
      "text/plain": [
       "biotype\n",
       "Nonsense mediated decay    3137.500000\n",
       "Protein coding             2963.666667\n",
       "Name: bp, dtype: float64"
      ]
     },
     "execution_count": 16,
     "metadata": {},
     "output_type": "execute_result"
    }
   ],
   "source": [
    "by_bio = brca1_df.groupby('biotype')\n",
    "\n",
    "by_bio['bp'].mean()"
   ]
  },
  {
   "cell_type": "code",
   "execution_count": 17,
   "metadata": {
    "collapsed": false
   },
   "outputs": [
    {
     "data": {
      "text/plain": [
       "3033.2"
      ]
     },
     "execution_count": 17,
     "metadata": {},
     "output_type": "execute_result"
    }
   ],
   "source": [
    "brca1_df['bp'].mean()"
   ]
  },
  {
   "cell_type": "code",
   "execution_count": 21,
   "metadata": {
    "collapsed": false
   },
   "outputs": [
    {
     "data": {
      "text/plain": [
       "transcript_id\n",
       "ENST00000352993.7    4389\n",
       "ENST00000354071.7    5896\n",
       "ENST00000461221.5    5756\n",
       "ENST00000461574.1     968\n",
       "ENST00000461798.5     645\n",
       "dtype: int64"
      ]
     },
     "execution_count": 21,
     "metadata": {},
     "output_type": "execute_result"
    }
   ],
   "source": [
    "brca1_df[['bp', 'aa']].apply(np.sum, axis=1)"
   ]
  },
  {
   "cell_type": "code",
   "execution_count": 22,
   "metadata": {
    "collapsed": false
   },
   "outputs": [
    {
     "data": {
      "text/html": [
       "<div>\n",
       "<table border=\"1\" class=\"dataframe\">\n",
       "  <thead>\n",
       "    <tr style=\"text-align: right;\">\n",
       "      <th></th>\n",
       "      <th>bp</th>\n",
       "      <th>aa</th>\n",
       "    </tr>\n",
       "    <tr>\n",
       "      <th>biotype</th>\n",
       "      <th></th>\n",
       "      <th></th>\n",
       "    </tr>\n",
       "  </thead>\n",
       "  <tbody>\n",
       "    <tr>\n",
       "      <th>Nonsense mediated decay</th>\n",
       "      <td>6275</td>\n",
       "      <td>126</td>\n",
       "    </tr>\n",
       "    <tr>\n",
       "      <th>Protein coding</th>\n",
       "      <td>8891</td>\n",
       "      <td>2362</td>\n",
       "    </tr>\n",
       "  </tbody>\n",
       "</table>\n",
       "</div>"
      ],
      "text/plain": [
       "                           bp    aa\n",
       "biotype                            \n",
       "Nonsense mediated decay  6275   126\n",
       "Protein coding           8891  2362"
      ]
     },
     "execution_count": 22,
     "metadata": {},
     "output_type": "execute_result"
    }
   ],
   "source": [
    "by_bio[['bp', 'aa']].apply(np.sum, axis=0)"
   ]
  },
  {
   "cell_type": "code",
   "execution_count": 25,
   "metadata": {
    "collapsed": true
   },
   "outputs": [],
   "source": [
    "def labeler(row, value):\n",
    "    status = ''\n",
    "    if row['bp'] >= value:\n",
    "        status = 'Long'\n",
    "    else:\n",
    "        status = 'Short'\n",
    "    return status"
   ]
  },
  {
   "cell_type": "code",
   "execution_count": 27,
   "metadata": {
    "collapsed": false
   },
   "outputs": [
    {
     "data": {
      "text/html": [
       "<div>\n",
       "<table border=\"1\" class=\"dataframe\">\n",
       "  <thead>\n",
       "    <tr style=\"text-align: right;\">\n",
       "      <th></th>\n",
       "      <th>biotype</th>\n",
       "      <th>bp</th>\n",
       "      <th>aa</th>\n",
       "      <th>transcript_length</th>\n",
       "    </tr>\n",
       "    <tr>\n",
       "      <th>transcript_id</th>\n",
       "      <th></th>\n",
       "      <th></th>\n",
       "      <th></th>\n",
       "      <th></th>\n",
       "    </tr>\n",
       "  </thead>\n",
       "  <tbody>\n",
       "    <tr>\n",
       "      <th>ENST00000352993.7</th>\n",
       "      <td>Protein coding</td>\n",
       "      <td>3668</td>\n",
       "      <td>721</td>\n",
       "      <td>Long</td>\n",
       "    </tr>\n",
       "    <tr>\n",
       "      <th>ENST00000354071.7</th>\n",
       "      <td>Protein coding</td>\n",
       "      <td>4497</td>\n",
       "      <td>1399</td>\n",
       "      <td>Long</td>\n",
       "    </tr>\n",
       "    <tr>\n",
       "      <th>ENST00000461221.5</th>\n",
       "      <td>Nonsense mediated decay</td>\n",
       "      <td>5693</td>\n",
       "      <td>63</td>\n",
       "      <td>Long</td>\n",
       "    </tr>\n",
       "    <tr>\n",
       "      <th>ENST00000461574.1</th>\n",
       "      <td>Protein coding</td>\n",
       "      <td>726</td>\n",
       "      <td>242</td>\n",
       "      <td>Short</td>\n",
       "    </tr>\n",
       "    <tr>\n",
       "      <th>ENST00000461798.5</th>\n",
       "      <td>Nonsense mediated decay</td>\n",
       "      <td>582</td>\n",
       "      <td>63</td>\n",
       "      <td>Short</td>\n",
       "    </tr>\n",
       "  </tbody>\n",
       "</table>\n",
       "</div>"
      ],
      "text/plain": [
       "                                   biotype    bp    aa transcript_length\n",
       "transcript_id                                                           \n",
       "ENST00000352993.7           Protein coding  3668   721              Long\n",
       "ENST00000354071.7           Protein coding  4497  1399              Long\n",
       "ENST00000461221.5  Nonsense mediated decay  5693    63              Long\n",
       "ENST00000461574.1           Protein coding   726   242             Short\n",
       "ENST00000461798.5  Nonsense mediated decay   582    63             Short"
      ]
     },
     "execution_count": 27,
     "metadata": {},
     "output_type": "execute_result"
    }
   ],
   "source": [
    "bp_mean = brca1_df['bp'].mean()\n",
    "brca1_df['transcript_length'] = brca1_df.apply(labeler, args = (bp_mean, )  , axis=1)\n",
    "\n",
    "brca1_df"
   ]
  },
  {
   "cell_type": "code",
   "execution_count": 31,
   "metadata": {
    "collapsed": true
   },
   "outputs": [
    {
     "data": {
      "text/html": [
       "<div>\n",
       "<table border=\"1\" class=\"dataframe\">\n",
       "  <thead>\n",
       "    <tr style=\"text-align: right;\">\n",
       "      <th></th>\n",
       "      <th>biotype</th>\n",
       "      <th>bp</th>\n",
       "      <th>aa</th>\n",
       "      <th>transcript_length</th>\n",
       "      <th>protein_length</th>\n",
       "    </tr>\n",
       "    <tr>\n",
       "      <th>transcript_id</th>\n",
       "      <th></th>\n",
       "      <th></th>\n",
       "      <th></th>\n",
       "      <th></th>\n",
       "      <th></th>\n",
       "    </tr>\n",
       "  </thead>\n",
       "  <tbody>\n",
       "    <tr>\n",
       "      <th>ENST00000352993.7</th>\n",
       "      <td>Protein coding</td>\n",
       "      <td>3668</td>\n",
       "      <td>721</td>\n",
       "      <td>Long</td>\n",
       "      <td>Long</td>\n",
       "    </tr>\n",
       "    <tr>\n",
       "      <th>ENST00000354071.7</th>\n",
       "      <td>Protein coding</td>\n",
       "      <td>4497</td>\n",
       "      <td>1399</td>\n",
       "      <td>Long</td>\n",
       "      <td>Long</td>\n",
       "    </tr>\n",
       "    <tr>\n",
       "      <th>ENST00000461221.5</th>\n",
       "      <td>Nonsense mediated decay</td>\n",
       "      <td>5693</td>\n",
       "      <td>63</td>\n",
       "      <td>Long</td>\n",
       "      <td>Low</td>\n",
       "    </tr>\n",
       "    <tr>\n",
       "      <th>ENST00000461574.1</th>\n",
       "      <td>Protein coding</td>\n",
       "      <td>726</td>\n",
       "      <td>242</td>\n",
       "      <td>Short</td>\n",
       "      <td>Low</td>\n",
       "    </tr>\n",
       "    <tr>\n",
       "      <th>ENST00000461798.5</th>\n",
       "      <td>Nonsense mediated decay</td>\n",
       "      <td>582</td>\n",
       "      <td>63</td>\n",
       "      <td>Short</td>\n",
       "      <td>Low</td>\n",
       "    </tr>\n",
       "  </tbody>\n",
       "</table>\n",
       "</div>"
      ],
      "text/plain": [
       "                                   biotype    bp    aa transcript_length  \\\n",
       "transcript_id                                                              \n",
       "ENST00000352993.7           Protein coding  3668   721              Long   \n",
       "ENST00000354071.7           Protein coding  4497  1399              Long   \n",
       "ENST00000461221.5  Nonsense mediated decay  5693    63              Long   \n",
       "ENST00000461574.1           Protein coding   726   242             Short   \n",
       "ENST00000461798.5  Nonsense mediated decay   582    63             Short   \n",
       "\n",
       "                  protein_length  \n",
       "transcript_id                     \n",
       "ENST00000352993.7           Long  \n",
       "ENST00000354071.7           Long  \n",
       "ENST00000461221.5            Low  \n",
       "ENST00000461574.1            Low  \n",
       "ENST00000461798.5            Low  "
      ]
     },
     "execution_count": 31,
     "metadata": {},
     "output_type": "execute_result"
    }
   ],
   "source": [
    "aa_mean = brca1_df['aa'].mean()\n",
    "\n",
    "brca1_df['protein_length'] = brca1_df.apply(\n",
    "    lambda row, value: 'Long' if row['aa'] > value else 'Low',\n",
    "    args = (aa_mean, ),\n",
    "    axis=1\n",
    ")\n",
    "\n",
    "brca1_df"
   ]
  },
  {
   "cell_type": "code",
   "execution_count": null,
   "metadata": {
    "collapsed": true
   },
   "outputs": [],
   "source": [
    "#equivale a\n",
    "def fun(row, value):\n",
    "    return('Long' if row['aa'] > value else 'Low')\n",
    "    "
   ]
  },
  {
   "cell_type": "code",
   "execution_count": null,
   "metadata": {
    "collapsed": true
   },
   "outputs": [],
   "source": []
  },
  {
   "cell_type": "code",
   "execution_count": null,
   "metadata": {
    "collapsed": true
   },
   "outputs": [],
   "source": []
  },
  {
   "cell_type": "code",
   "execution_count": null,
   "metadata": {
    "collapsed": true
   },
   "outputs": [],
   "source": []
  }
 ],
 "metadata": {
  "kernelspec": {
   "display_name": "Python 3",
   "language": "python",
   "name": "python3"
  },
  "language_info": {
   "codemirror_mode": {
    "name": "ipython",
    "version": 3
   },
   "file_extension": ".py",
   "mimetype": "text/x-python",
   "name": "python",
   "nbconvert_exporter": "python",
   "pygments_lexer": "ipython3",
   "version": "3.6.0"
  }
 },
 "nbformat": 4,
 "nbformat_minor": 2
}
