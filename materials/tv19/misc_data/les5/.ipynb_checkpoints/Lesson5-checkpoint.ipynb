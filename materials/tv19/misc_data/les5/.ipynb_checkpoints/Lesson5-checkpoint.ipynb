{
 "cells": [
  {
   "cell_type": "markdown",
   "metadata": {},
   "source": [
    "## Pandas  (from <a href=\"https://github.com/noise42/datastructures/blob/master/materials/python-data-science-handbook.pdf\">here</a> and <a href=\"https://python4bioinformaticsblog.wordpress.com/index/python-bits/pandas/\">here</a>)\n",
    "\n",
    "[Pandas](https://pandas.pydata.org/) is a package built on top of NumPy, and provides an efficient implementation of a ``DataFrame``. ``DataFrame``s are essentially multidimensional arrays with attached row and column labels, and often with heterogeneous types and/or missing data.\n",
    "\n",
    "### The Pandas Series Object\n",
    "A Pandas ``Series`` is a one-dimensional array of indexed data. It can be created from a list or array as follows:"
   ]
  },
  {
   "cell_type": "code",
   "execution_count": 2,
   "metadata": {},
   "outputs": [
    {
     "data": {
      "text/plain": [
       "0        RNA\n",
       "1       gene\n",
       "2    protein\n",
       "dtype: object"
      ]
     },
     "execution_count": 2,
     "metadata": {},
     "output_type": "execute_result"
    }
   ],
   "source": [
    "import pandas as pd\n",
    "\n",
    "data = pd.Series(['RNA', 'gene', 'protein'])\n",
    "data"
   ]
  },
  {
   "cell_type": "markdown",
   "metadata": {},
   "source": [
    "The ``Series`` wraps both a sequence of values and a sequence of indices, which we can access with the ``values`` and ``index`` attributes. The ``values`` are simply a NumPy array, while the ``index`` is an array-like object of type ``pd.Index``. Note that the index need not be an integer, but can consist of values of any desired type:"
   ]
  },
  {
   "cell_type": "code",
   "execution_count": 3,
   "metadata": {},
   "outputs": [
    {
     "data": {
      "text/plain": [
       "ENSG        RNA\n",
       "ENSP       gene\n",
       "ENST    protein\n",
       "dtype: object"
      ]
     },
     "execution_count": 3,
     "metadata": {},
     "output_type": "execute_result"
    }
   ],
   "source": [
    "data = pd.Series(\n",
    "    ['RNA', 'gene', 'protein'],\n",
    "    index=['ENSG', 'ENSP', 'ENST']\n",
    ")\n",
    "data"
   ]
  },
  {
   "cell_type": "markdown",
   "metadata": {},
   "source": [
    "The last part, the `dtype`, is not part of the elements you access when cycling through the values of the ``Series``, it is just another attribute.\n",
    "\n",
    "We can construct a ``Series`` from a dictionary and the way we access the values are similar to dictionaries:"
   ]
  },
  {
   "cell_type": "code",
   "execution_count": 4,
   "metadata": {},
   "outputs": [
    {
     "data": {
      "text/plain": [
       "'gene'"
      ]
     },
     "execution_count": 4,
     "metadata": {},
     "output_type": "execute_result"
    }
   ],
   "source": [
    "map_dict = {'ENST': 'RNA', 'ENSG': 'gene', 'ENSP': 'protein'}\n",
    "data = pd.Series(map_dict)\n",
    "\n",
    "data['ENSG']"
   ]
  },
  {
   "cell_type": "markdown",
   "metadata": {},
   "source": [
    "``Series`` support slicing just like other arrays:"
   ]
  },
  {
   "cell_type": "code",
   "execution_count": 5,
   "metadata": {},
   "outputs": [
    {
     "data": {
      "text/plain": [
       "ENSG       gene\n",
       "ENSP    protein\n",
       "ENST        RNA\n",
       "dtype: object"
      ]
     },
     "execution_count": 5,
     "metadata": {},
     "output_type": "execute_result"
    }
   ],
   "source": [
    "data['ENSG':]"
   ]
  },
  {
   "cell_type": "markdown",
   "metadata": {},
   "source": [
    "### The Pandas DataFrame Object\n",
    "The ``DataFrame`` can be thought as a generalization of a mix of both a NumPy array and a dictionary. It can be constructed from 2 or more dictionary with the same keys (or from 2 ``Series`` with the same indexes)."
   ]
  },
  {
   "cell_type": "code",
   "execution_count": 6,
   "metadata": {},
   "outputs": [
    {
     "data": {
      "text/html": [
       "<div>\n",
       "<table border=\"1\" class=\"dataframe\">\n",
       "  <thead>\n",
       "    <tr style=\"text-align: right;\">\n",
       "      <th></th>\n",
       "      <th>classes</th>\n",
       "      <th>counts</th>\n",
       "      <th>mapping type</th>\n",
       "    </tr>\n",
       "  </thead>\n",
       "  <tbody>\n",
       "    <tr>\n",
       "      <th>ENSG</th>\n",
       "      <td>42</td>\n",
       "      <td>18435</td>\n",
       "      <td>gene</td>\n",
       "    </tr>\n",
       "    <tr>\n",
       "      <th>ENSP</th>\n",
       "      <td>157</td>\n",
       "      <td>12034</td>\n",
       "      <td>protein</td>\n",
       "    </tr>\n",
       "    <tr>\n",
       "      <th>ENST</th>\n",
       "      <td>13</td>\n",
       "      <td>3300</td>\n",
       "      <td>RNA</td>\n",
       "    </tr>\n",
       "  </tbody>\n",
       "</table>\n",
       "</div>"
      ],
      "text/plain": [
       "      classes  counts mapping type\n",
       "ENSG       42   18435         gene\n",
       "ENSP      157   12034      protein\n",
       "ENST       13    3300          RNA"
      ]
     },
     "execution_count": 6,
     "metadata": {},
     "output_type": "execute_result"
    }
   ],
   "source": [
    "count_dict = {'ENST': 3300, 'ENSG': 18435, 'ENSP': 12034}\n",
    "groups_dict = {'ENST': 13, 'ENSG': 42, 'ENSP': 157}\n",
    " \n",
    "df = pd.DataFrame({'mapping type': map_dict, 'counts': count_dict, 'classes': groups_dict})\n",
    "df"
   ]
  },
  {
   "cell_type": "markdown",
   "metadata": {},
   "source": [
    "We can access the index labels with the ``DataFrame`` attribute ``index``. Additionally, the ``DataFrame`` has a ``columns`` attribute, which holds the labels for all columns."
   ]
  },
  {
   "cell_type": "code",
   "execution_count": 7,
   "metadata": {},
   "outputs": [
    {
     "data": {
      "text/plain": [
       "(Index(['ENSG', 'ENSP', 'ENST'], dtype='object'),\n",
       " Index(['classes', 'counts', 'mapping type'], dtype='object'))"
      ]
     },
     "execution_count": 7,
     "metadata": {},
     "output_type": "execute_result"
    }
   ],
   "source": [
    "df.index, df.columns"
   ]
  },
  {
   "cell_type": "markdown",
   "metadata": {},
   "source": [
    "We can access a colum like a dictionary or in a Pandas way:"
   ]
  },
  {
   "cell_type": "code",
   "execution_count": 8,
   "metadata": {},
   "outputs": [
    {
     "data": {
      "text/plain": [
       "ENSG    18435\n",
       "ENSP    12034\n",
       "ENST     3300\n",
       "Name: counts, dtype: int64"
      ]
     },
     "execution_count": 8,
     "metadata": {},
     "output_type": "execute_result"
    }
   ],
   "source": [
    "df['counts']  # like a dictionary"
   ]
  },
  {
   "cell_type": "code",
   "execution_count": 9,
   "metadata": {},
   "outputs": [
    {
     "data": {
      "text/plain": [
       "ENSG    18435\n",
       "ENSP    12034\n",
       "ENST     3300\n",
       "Name: counts, dtype: int64"
      ]
     },
     "execution_count": 9,
     "metadata": {},
     "output_type": "execute_result"
    }
   ],
   "source": [
    "df.counts  # The Pandas way"
   ]
  },
  {
   "cell_type": "markdown",
   "metadata": {},
   "source": [
    "The only difference is that the dictionary way supports labels with spaces and special characters:"
   ]
  },
  {
   "cell_type": "code",
   "execution_count": 10,
   "metadata": {},
   "outputs": [
    {
     "data": {
      "text/plain": [
       "ENSG       gene\n",
       "ENSP    protein\n",
       "ENST        RNA\n",
       "Name: mapping type, dtype: object"
      ]
     },
     "execution_count": 10,
     "metadata": {},
     "output_type": "execute_result"
    }
   ],
   "source": [
    "df['mapping type']\n",
    "#df.mapping type  # I can't do it"
   ]
  },
  {
   "cell_type": "markdown",
   "metadata": {},
   "source": [
    "This dictionary-style syntax can also be used to modify the object, in this case adding a new column:"
   ]
  },
  {
   "cell_type": "code",
   "execution_count": 11,
   "metadata": {},
   "outputs": [
    {
     "data": {
      "text/html": [
       "<div>\n",
       "<table border=\"1\" class=\"dataframe\">\n",
       "  <thead>\n",
       "    <tr style=\"text-align: right;\">\n",
       "      <th></th>\n",
       "      <th>classes</th>\n",
       "      <th>counts</th>\n",
       "      <th>mapping type</th>\n",
       "      <th>averages</th>\n",
       "    </tr>\n",
       "  </thead>\n",
       "  <tbody>\n",
       "    <tr>\n",
       "      <th>ENSG</th>\n",
       "      <td>42</td>\n",
       "      <td>18435</td>\n",
       "      <td>gene</td>\n",
       "      <td>438.928571</td>\n",
       "    </tr>\n",
       "    <tr>\n",
       "      <th>ENSP</th>\n",
       "      <td>157</td>\n",
       "      <td>12034</td>\n",
       "      <td>protein</td>\n",
       "      <td>76.649682</td>\n",
       "    </tr>\n",
       "    <tr>\n",
       "      <th>ENST</th>\n",
       "      <td>13</td>\n",
       "      <td>3300</td>\n",
       "      <td>RNA</td>\n",
       "      <td>253.846154</td>\n",
       "    </tr>\n",
       "  </tbody>\n",
       "</table>\n",
       "</div>"
      ],
      "text/plain": [
       "      classes  counts mapping type    averages\n",
       "ENSG       42   18435         gene  438.928571\n",
       "ENSP      157   12034      protein   76.649682\n",
       "ENST       13    3300          RNA  253.846154"
      ]
     },
     "execution_count": 11,
     "metadata": {},
     "output_type": "execute_result"
    }
   ],
   "source": [
    "df['averages'] = df['counts'] / df['classes']\n",
    "df"
   ]
  },
  {
   "cell_type": "markdown",
   "metadata": {},
   "source": [
    "### Indexers: loc, iloc\n",
    "Slicing and indexing conventions can be a source of confusion. For example, if your ``Series`` has an explicit integer index, an indexing operation such as ``data[1]`` will use the explicit indices, while a slicing operation like ``data[1:3]`` will use the implicit Python-style index."
   ]
  },
  {
   "cell_type": "code",
   "execution_count": 12,
   "metadata": {},
   "outputs": [
    {
     "name": "stdout",
     "output_type": "stream",
     "text": [
      "a\n",
      "3    b\n",
      "5    c\n",
      "dtype: object\n"
     ]
    }
   ],
   "source": [
    "data = pd.Series(['a', 'b', 'c'], index=[1, 3, 5])\n",
    "\n",
    "print(data[1])   # explicit index when indexing\n",
    "print(data[1:3]) # implicit index when slicing)"
   ]
  },
  {
   "cell_type": "markdown",
   "metadata": {},
   "source": [
    "Pandas provides some special *indexer* attributes that explicitly expose certain indexing/slicing schemes.\n",
    "\n",
    "The ``loc`` attribute allows indexing and slicing that always references the explicit index."
   ]
  },
  {
   "cell_type": "code",
   "execution_count": 13,
   "metadata": {},
   "outputs": [
    {
     "name": "stdout",
     "output_type": "stream",
     "text": [
      "a\n",
      "1    a\n",
      "3    b\n",
      "dtype: object\n"
     ]
    }
   ],
   "source": [
    "print(data.loc[1])\n",
    "print(data.loc[1:3])"
   ]
  },
  {
   "cell_type": "markdown",
   "metadata": {},
   "source": [
    "The ``iloc`` attribute allows indexing and slicing that always references the implicit Python-style index."
   ]
  },
  {
   "cell_type": "code",
   "execution_count": 14,
   "metadata": {},
   "outputs": [
    {
     "name": "stdout",
     "output_type": "stream",
     "text": [
      "b\n",
      "3    b\n",
      "5    c\n",
      "dtype: object\n"
     ]
    }
   ],
   "source": [
    "print(data.iloc[1])\n",
    "print(data.iloc[1:3])"
   ]
  },
  {
   "cell_type": "markdown",
   "metadata": {},
   "source": [
    "A little tip:\n",
    "> # explicit is better than implicit."
   ]
  },
  {
   "cell_type": "markdown",
   "metadata": {},
   "source": [
    "#### DataFrame as two-dimensional array\n",
    "We can also view the ``DataFrame`` as an enhanced two-dimensional array. We can examine the raw underlying data array using the ``values`` attribute:"
   ]
  },
  {
   "cell_type": "code",
   "execution_count": 15,
   "metadata": {},
   "outputs": [
    {
     "data": {
      "text/plain": [
       "array([[42, 18435, 'gene', 438.92857142857144],\n",
       "       [157, 12034, 'protein', 76.64968152866243],\n",
       "       [13, 3300, 'RNA', 253.84615384615384]], dtype=object)"
      ]
     },
     "execution_count": 15,
     "metadata": {},
     "output_type": "execute_result"
    }
   ],
   "source": [
    "df.values"
   ]
  },
  {
   "cell_type": "markdown",
   "metadata": {},
   "source": [
    "Using the ``iloc`` indexer, we can index the underlying array as if it is a simple NumPy array (using the implicit Python-style index), but the ``DataFrame`` index and column labels are maintained in the result:"
   ]
  },
  {
   "cell_type": "code",
   "execution_count": 16,
   "metadata": {},
   "outputs": [
    {
     "data": {
      "text/html": [
       "<div>\n",
       "<table border=\"1\" class=\"dataframe\">\n",
       "  <thead>\n",
       "    <tr style=\"text-align: right;\">\n",
       "      <th></th>\n",
       "      <th>classes</th>\n",
       "      <th>counts</th>\n",
       "    </tr>\n",
       "  </thead>\n",
       "  <tbody>\n",
       "    <tr>\n",
       "      <th>ENSG</th>\n",
       "      <td>42</td>\n",
       "      <td>18435</td>\n",
       "    </tr>\n",
       "    <tr>\n",
       "      <th>ENSP</th>\n",
       "      <td>157</td>\n",
       "      <td>12034</td>\n",
       "    </tr>\n",
       "    <tr>\n",
       "      <th>ENST</th>\n",
       "      <td>13</td>\n",
       "      <td>3300</td>\n",
       "    </tr>\n",
       "  </tbody>\n",
       "</table>\n",
       "</div>"
      ],
      "text/plain": [
       "      classes  counts\n",
       "ENSG       42   18435\n",
       "ENSP      157   12034\n",
       "ENST       13    3300"
      ]
     },
     "execution_count": 16,
     "metadata": {},
     "output_type": "execute_result"
    }
   ],
   "source": [
    "df.iloc[:3, :2]"
   ]
  },
  {
   "cell_type": "markdown",
   "metadata": {},
   "source": [
    "Similarly, using the ``loc`` indexer we can index the underlying data in an array-like style but using the explicit index and column names:"
   ]
  },
  {
   "cell_type": "code",
   "execution_count": 17,
   "metadata": {},
   "outputs": [
    {
     "data": {
      "text/html": [
       "<div>\n",
       "<table border=\"1\" class=\"dataframe\">\n",
       "  <thead>\n",
       "    <tr style=\"text-align: right;\">\n",
       "      <th></th>\n",
       "      <th>classes</th>\n",
       "    </tr>\n",
       "  </thead>\n",
       "  <tbody>\n",
       "    <tr>\n",
       "      <th>ENSG</th>\n",
       "      <td>42</td>\n",
       "    </tr>\n",
       "  </tbody>\n",
       "</table>\n",
       "</div>"
      ],
      "text/plain": [
       "      classes\n",
       "ENSG       42"
      ]
     },
     "execution_count": 17,
     "metadata": {},
     "output_type": "execute_result"
    }
   ],
   "source": [
    "df.loc[:'ENSG', :'classes']"
   ]
  },
  {
   "cell_type": "markdown",
   "metadata": {},
   "source": [
    "#### Additional indexing conventions\n",
    "slicing is row wise\n"
   ]
  },
  {
   "cell_type": "code",
   "execution_count": 19,
   "metadata": {},
   "outputs": [
    {
     "data": {
      "text/html": [
       "<div>\n",
       "<table border=\"1\" class=\"dataframe\">\n",
       "  <thead>\n",
       "    <tr style=\"text-align: right;\">\n",
       "      <th></th>\n",
       "      <th>classes</th>\n",
       "      <th>counts</th>\n",
       "      <th>mapping type</th>\n",
       "      <th>averages</th>\n",
       "    </tr>\n",
       "  </thead>\n",
       "  <tbody>\n",
       "    <tr>\n",
       "      <th>ENSG</th>\n",
       "      <td>42</td>\n",
       "      <td>18435</td>\n",
       "      <td>gene</td>\n",
       "      <td>438.928571</td>\n",
       "    </tr>\n",
       "  </tbody>\n",
       "</table>\n",
       "</div>"
      ],
      "text/plain": [
       "      classes  counts mapping type    averages\n",
       "ENSG       42   18435         gene  438.928571"
      ]
     },
     "execution_count": 19,
     "metadata": {},
     "output_type": "execute_result"
    }
   ],
   "source": [
    "df[:'ENSG']"
   ]
  },
  {
   "cell_type": "markdown",
   "metadata": {},
   "source": [
    "Similarly, direct masking operations are also interpreted row-wise rather than column-wise:"
   ]
  },
  {
   "cell_type": "code",
   "execution_count": 18,
   "metadata": {},
   "outputs": [
    {
     "data": {
      "text/html": [
       "<div>\n",
       "<style scoped>\n",
       "    .dataframe tbody tr th:only-of-type {\n",
       "        vertical-align: middle;\n",
       "    }\n",
       "\n",
       "    .dataframe tbody tr th {\n",
       "        vertical-align: top;\n",
       "    }\n",
       "\n",
       "    .dataframe thead th {\n",
       "        text-align: right;\n",
       "    }\n",
       "</style>\n",
       "<table border=\"1\" class=\"dataframe\">\n",
       "  <thead>\n",
       "    <tr style=\"text-align: right;\">\n",
       "      <th></th>\n",
       "      <th>mapping type</th>\n",
       "      <th>counts</th>\n",
       "      <th>classes</th>\n",
       "      <th>averages</th>\n",
       "    </tr>\n",
       "  </thead>\n",
       "  <tbody>\n",
       "    <tr>\n",
       "      <th>ENSG</th>\n",
       "      <td>gene</td>\n",
       "      <td>18435</td>\n",
       "      <td>42</td>\n",
       "      <td>438.928571</td>\n",
       "    </tr>\n",
       "    <tr>\n",
       "      <th>ENSP</th>\n",
       "      <td>protein</td>\n",
       "      <td>12034</td>\n",
       "      <td>157</td>\n",
       "      <td>76.649682</td>\n",
       "    </tr>\n",
       "  </tbody>\n",
       "</table>\n",
       "</div>"
      ],
      "text/plain": [
       "     mapping type  counts  classes    averages\n",
       "ENSG         gene   18435       42  438.928571\n",
       "ENSP      protein   12034      157   76.649682"
      ]
     },
     "execution_count": 18,
     "metadata": {},
     "output_type": "execute_result"
    }
   ],
   "source": [
    "df[df.counts > 5000]"
   ]
  },
  {
   "cell_type": "markdown",
   "metadata": {},
   "source": [
    "## Handling Missing Data\n",
    "To indicate the presence of missing data in a table, Pandas uses a *sentinel value* that indicates a missing entry. In particular, it uses two already-existing Python null values: the special floating-point ``NaN`` value, and the Python ``None`` object.\n",
    "\n",
    "#### ``None``: Pythonic missing data\n",
    "``None`` is a Python singleton object, so it cannot be used in any arbitrary NumPy/Pandas array, but only in arrays with data type ``'object'`` (i.e., arrays of Python objects):"
   ]
  },
  {
   "cell_type": "code",
   "execution_count": 19,
   "metadata": {},
   "outputs": [
    {
     "data": {
      "text/plain": [
       "array([1, None, 3, 4], dtype=object)"
      ]
     },
     "execution_count": 19,
     "metadata": {},
     "output_type": "execute_result"
    }
   ],
   "source": [
    "import numpy as np\n",
    "\n",
    "vals1 = np.array([1, None, 3, 4])\n",
    "vals1"
   ]
  },
  {
   "cell_type": "markdown",
   "metadata": {},
   "source": [
    "This ``dtype=object`` means that the best common type representation NumPy could infer for the contents of the array is that they are Python objects. The use of Python objects in an array means that if you perform aggregations like ``sum()`` or ``min()`` across an array with a ``None`` value, you will generally get an error."
   ]
  },
  {
   "cell_type": "markdown",
   "metadata": {},
   "source": [
    "#### ``NaN``: Missing numerical data\n",
    "``NaN`` (acronym for *Not a Number*) is a special floating-point value recognized by all systems that use the standard IEEE floating-point representation:"
   ]
  },
  {
   "cell_type": "code",
   "execution_count": 20,
   "metadata": {},
   "outputs": [
    {
     "data": {
      "text/plain": [
       "dtype('float64')"
      ]
     },
     "execution_count": 20,
     "metadata": {},
     "output_type": "execute_result"
    }
   ],
   "source": [
    "vals2 = np.array([1, np.nan, 3, 4]) \n",
    "vals2.dtype"
   ]
  },
  {
   "cell_type": "markdown",
   "metadata": {},
   "source": [
    "Notice that NumPy chose a native floating-point type for this array, but be aware that the results of arithmetic with ``NaN`` will be another ``NaN``:"
   ]
  },
  {
   "cell_type": "code",
   "execution_count": 21,
   "metadata": {},
   "outputs": [
    {
     "data": {
      "text/plain": [
       "(nan, nan, nan)"
      ]
     },
     "execution_count": 21,
     "metadata": {},
     "output_type": "execute_result"
    }
   ],
   "source": [
    "vals2.sum(), vals2.min(), vals2.max()"
   ]
  },
  {
   "cell_type": "markdown",
   "metadata": {},
   "source": [
    "NumPy does provide some special aggregations that will ignore these missing values:"
   ]
  },
  {
   "cell_type": "code",
   "execution_count": 22,
   "metadata": {},
   "outputs": [
    {
     "data": {
      "text/plain": [
       "(8.0, 1.0, 4.0)"
      ]
     },
     "execution_count": 22,
     "metadata": {},
     "output_type": "execute_result"
    }
   ],
   "source": [
    "np.nansum(vals2), np.nanmin(vals2), np.nanmax(vals2)"
   ]
  },
  {
   "cell_type": "markdown",
   "metadata": {},
   "source": [
    "## Operating on Null Values"
   ]
  },
  {
   "cell_type": "code",
   "execution_count": 23,
   "metadata": {},
   "outputs": [
    {
     "data": {
      "text/html": [
       "<div>\n",
       "<style scoped>\n",
       "    .dataframe tbody tr th:only-of-type {\n",
       "        vertical-align: middle;\n",
       "    }\n",
       "\n",
       "    .dataframe tbody tr th {\n",
       "        vertical-align: top;\n",
       "    }\n",
       "\n",
       "    .dataframe thead th {\n",
       "        text-align: right;\n",
       "    }\n",
       "</style>\n",
       "<table border=\"1\" class=\"dataframe\">\n",
       "  <thead>\n",
       "    <tr style=\"text-align: right;\">\n",
       "      <th></th>\n",
       "      <th>mapping type</th>\n",
       "      <th>counts</th>\n",
       "      <th>classes</th>\n",
       "      <th>averages</th>\n",
       "    </tr>\n",
       "  </thead>\n",
       "  <tbody>\n",
       "    <tr>\n",
       "      <th>ENST</th>\n",
       "      <td>RNA</td>\n",
       "      <td>3300.0</td>\n",
       "      <td>NaN</td>\n",
       "      <td>253.846154</td>\n",
       "    </tr>\n",
       "    <tr>\n",
       "      <th>ENSG</th>\n",
       "      <td>gene</td>\n",
       "      <td>NaN</td>\n",
       "      <td>NaN</td>\n",
       "      <td>438.928571</td>\n",
       "    </tr>\n",
       "    <tr>\n",
       "      <th>ENSP</th>\n",
       "      <td>protein</td>\n",
       "      <td>12034.0</td>\n",
       "      <td>157.0</td>\n",
       "      <td>76.649682</td>\n",
       "    </tr>\n",
       "  </tbody>\n",
       "</table>\n",
       "</div>"
      ],
      "text/plain": [
       "     mapping type   counts  classes    averages\n",
       "ENST          RNA   3300.0      NaN  253.846154\n",
       "ENSG         gene      NaN      NaN  438.928571\n",
       "ENSP      protein  12034.0    157.0   76.649682"
      ]
     },
     "execution_count": 23,
     "metadata": {},
     "output_type": "execute_result"
    }
   ],
   "source": [
    "df.loc['ENSG', 'counts'] = np.nan\n",
    "df.loc['ENSG', 'classes'] = np.nan\n",
    "df.loc['ENST', 'classes'] = np.nan\n",
    "df"
   ]
  },
  {
   "cell_type": "markdown",
   "metadata": {},
   "source": [
    "### Dropping null values\n",
    "We cannot drop single values from a ``DataFrame``; we can only drop full rows or full columns.\n",
    "\n",
    "By default, ``dropna()`` will drop all rows in which *any* null value is present."
   ]
  },
  {
   "cell_type": "code",
   "execution_count": 24,
   "metadata": {},
   "outputs": [
    {
     "data": {
      "text/html": [
       "<div>\n",
       "<style scoped>\n",
       "    .dataframe tbody tr th:only-of-type {\n",
       "        vertical-align: middle;\n",
       "    }\n",
       "\n",
       "    .dataframe tbody tr th {\n",
       "        vertical-align: top;\n",
       "    }\n",
       "\n",
       "    .dataframe thead th {\n",
       "        text-align: right;\n",
       "    }\n",
       "</style>\n",
       "<table border=\"1\" class=\"dataframe\">\n",
       "  <thead>\n",
       "    <tr style=\"text-align: right;\">\n",
       "      <th></th>\n",
       "      <th>mapping type</th>\n",
       "      <th>counts</th>\n",
       "      <th>classes</th>\n",
       "      <th>averages</th>\n",
       "    </tr>\n",
       "  </thead>\n",
       "  <tbody>\n",
       "    <tr>\n",
       "      <th>ENSP</th>\n",
       "      <td>protein</td>\n",
       "      <td>12034.0</td>\n",
       "      <td>157.0</td>\n",
       "      <td>76.649682</td>\n",
       "    </tr>\n",
       "  </tbody>\n",
       "</table>\n",
       "</div>"
      ],
      "text/plain": [
       "     mapping type   counts  classes   averages\n",
       "ENSP      protein  12034.0    157.0  76.649682"
      ]
     },
     "execution_count": 24,
     "metadata": {},
     "output_type": "execute_result"
    }
   ],
   "source": [
    "df.dropna() # It returns the modified Dataframe without the 'ENST' and 'ENSG' row"
   ]
  },
  {
   "cell_type": "markdown",
   "metadata": {},
   "source": [
    " Alternatively, you can drop NA values along a different axis; ``axis=1`` (or ``axis='columns'``) drops all columns containing a null value."
   ]
  },
  {
   "cell_type": "code",
   "execution_count": 25,
   "metadata": {},
   "outputs": [
    {
     "data": {
      "text/html": [
       "<div>\n",
       "<style scoped>\n",
       "    .dataframe tbody tr th:only-of-type {\n",
       "        vertical-align: middle;\n",
       "    }\n",
       "\n",
       "    .dataframe tbody tr th {\n",
       "        vertical-align: top;\n",
       "    }\n",
       "\n",
       "    .dataframe thead th {\n",
       "        text-align: right;\n",
       "    }\n",
       "</style>\n",
       "<table border=\"1\" class=\"dataframe\">\n",
       "  <thead>\n",
       "    <tr style=\"text-align: right;\">\n",
       "      <th></th>\n",
       "      <th>mapping type</th>\n",
       "      <th>averages</th>\n",
       "    </tr>\n",
       "  </thead>\n",
       "  <tbody>\n",
       "    <tr>\n",
       "      <th>ENST</th>\n",
       "      <td>RNA</td>\n",
       "      <td>253.846154</td>\n",
       "    </tr>\n",
       "    <tr>\n",
       "      <th>ENSG</th>\n",
       "      <td>gene</td>\n",
       "      <td>438.928571</td>\n",
       "    </tr>\n",
       "    <tr>\n",
       "      <th>ENSP</th>\n",
       "      <td>protein</td>\n",
       "      <td>76.649682</td>\n",
       "    </tr>\n",
       "  </tbody>\n",
       "</table>\n",
       "</div>"
      ],
      "text/plain": [
       "     mapping type    averages\n",
       "ENST          RNA  253.846154\n",
       "ENSG         gene  438.928571\n",
       "ENSP      protein   76.649682"
      ]
     },
     "execution_count": 25,
     "metadata": {},
     "output_type": "execute_result"
    }
   ],
   "source": [
    "df.dropna(axis=1)  # It returns the modified Dataframe without the 'counts' and 'classes' columns"
   ]
  },
  {
   "cell_type": "markdown",
   "metadata": {},
   "source": [
    "You can also specify ``how='all'``, which will only drop rows/columns that are *all* null values. For finer-grained control, the ``thresh`` parameter lets you specify a minimum number of non-null values for the row/column to be kept:"
   ]
  },
  {
   "cell_type": "code",
   "execution_count": 26,
   "metadata": {},
   "outputs": [
    {
     "data": {
      "text/html": [
       "<div>\n",
       "<style scoped>\n",
       "    .dataframe tbody tr th:only-of-type {\n",
       "        vertical-align: middle;\n",
       "    }\n",
       "\n",
       "    .dataframe tbody tr th {\n",
       "        vertical-align: top;\n",
       "    }\n",
       "\n",
       "    .dataframe thead th {\n",
       "        text-align: right;\n",
       "    }\n",
       "</style>\n",
       "<table border=\"1\" class=\"dataframe\">\n",
       "  <thead>\n",
       "    <tr style=\"text-align: right;\">\n",
       "      <th></th>\n",
       "      <th>mapping type</th>\n",
       "      <th>counts</th>\n",
       "      <th>averages</th>\n",
       "    </tr>\n",
       "  </thead>\n",
       "  <tbody>\n",
       "    <tr>\n",
       "      <th>ENST</th>\n",
       "      <td>RNA</td>\n",
       "      <td>3300.0</td>\n",
       "      <td>253.846154</td>\n",
       "    </tr>\n",
       "    <tr>\n",
       "      <th>ENSG</th>\n",
       "      <td>gene</td>\n",
       "      <td>NaN</td>\n",
       "      <td>438.928571</td>\n",
       "    </tr>\n",
       "    <tr>\n",
       "      <th>ENSP</th>\n",
       "      <td>protein</td>\n",
       "      <td>12034.0</td>\n",
       "      <td>76.649682</td>\n",
       "    </tr>\n",
       "  </tbody>\n",
       "</table>\n",
       "</div>"
      ],
      "text/plain": [
       "     mapping type   counts    averages\n",
       "ENST          RNA   3300.0  253.846154\n",
       "ENSG         gene      NaN  438.928571\n",
       "ENSP      protein  12034.0   76.649682"
      ]
     },
     "execution_count": 26,
     "metadata": {},
     "output_type": "execute_result"
    }
   ],
   "source": [
    "df.dropna(axis=1, thresh=2)  # The 'classes' column is dropped because it doensn't have at least 2 non-nul values"
   ]
  },
  {
   "cell_type": "markdown",
   "metadata": {},
   "source": [
    "### Impute valuesFilling null values\n",
    "Since removing rows can be limiting with some problems, imputing missing values is a valid alternative. The word 'imputing' refers to using a model to replace missing values. For example, we can replace missing data with:\n",
    "\n",
    "- a constant value"
   ]
  },
  {
   "cell_type": "code",
   "execution_count": 27,
   "metadata": {},
   "outputs": [
    {
     "data": {
      "text/html": [
       "<div>\n",
       "<style scoped>\n",
       "    .dataframe tbody tr th:only-of-type {\n",
       "        vertical-align: middle;\n",
       "    }\n",
       "\n",
       "    .dataframe tbody tr th {\n",
       "        vertical-align: top;\n",
       "    }\n",
       "\n",
       "    .dataframe thead th {\n",
       "        text-align: right;\n",
       "    }\n",
       "</style>\n",
       "<table border=\"1\" class=\"dataframe\">\n",
       "  <thead>\n",
       "    <tr style=\"text-align: right;\">\n",
       "      <th></th>\n",
       "      <th>mapping type</th>\n",
       "      <th>counts</th>\n",
       "      <th>classes</th>\n",
       "      <th>averages</th>\n",
       "    </tr>\n",
       "  </thead>\n",
       "  <tbody>\n",
       "    <tr>\n",
       "      <th>ENST</th>\n",
       "      <td>RNA</td>\n",
       "      <td>3300.0</td>\n",
       "      <td>0.0</td>\n",
       "      <td>253.846154</td>\n",
       "    </tr>\n",
       "    <tr>\n",
       "      <th>ENSG</th>\n",
       "      <td>gene</td>\n",
       "      <td>0.0</td>\n",
       "      <td>0.0</td>\n",
       "      <td>438.928571</td>\n",
       "    </tr>\n",
       "    <tr>\n",
       "      <th>ENSP</th>\n",
       "      <td>protein</td>\n",
       "      <td>12034.0</td>\n",
       "      <td>157.0</td>\n",
       "      <td>76.649682</td>\n",
       "    </tr>\n",
       "  </tbody>\n",
       "</table>\n",
       "</div>"
      ],
      "text/plain": [
       "     mapping type   counts  classes    averages\n",
       "ENST          RNA   3300.0      0.0  253.846154\n",
       "ENSG         gene      0.0      0.0  438.928571\n",
       "ENSP      protein  12034.0    157.0   76.649682"
      ]
     },
     "execution_count": 27,
     "metadata": {},
     "output_type": "execute_result"
    }
   ],
   "source": [
    "df.fillna(0) # <=> df.replace(np.nan, 0) # The methods return the modified Dataframe"
   ]
  },
  {
   "cell_type": "markdown",
   "metadata": {},
   "source": [
    "- a mean, median or mode of the column to the missing data belongs"
   ]
  },
  {
   "cell_type": "code",
   "execution_count": 28,
   "metadata": {},
   "outputs": [
    {
     "data": {
      "text/html": [
       "<div>\n",
       "<style scoped>\n",
       "    .dataframe tbody tr th:only-of-type {\n",
       "        vertical-align: middle;\n",
       "    }\n",
       "\n",
       "    .dataframe tbody tr th {\n",
       "        vertical-align: top;\n",
       "    }\n",
       "\n",
       "    .dataframe thead th {\n",
       "        text-align: right;\n",
       "    }\n",
       "</style>\n",
       "<table border=\"1\" class=\"dataframe\">\n",
       "  <thead>\n",
       "    <tr style=\"text-align: right;\">\n",
       "      <th></th>\n",
       "      <th>mapping type</th>\n",
       "      <th>counts</th>\n",
       "      <th>classes</th>\n",
       "      <th>averages</th>\n",
       "    </tr>\n",
       "  </thead>\n",
       "  <tbody>\n",
       "    <tr>\n",
       "      <th>ENST</th>\n",
       "      <td>RNA</td>\n",
       "      <td>3300.0</td>\n",
       "      <td>157.0</td>\n",
       "      <td>253.846154</td>\n",
       "    </tr>\n",
       "    <tr>\n",
       "      <th>ENSG</th>\n",
       "      <td>gene</td>\n",
       "      <td>7667.0</td>\n",
       "      <td>157.0</td>\n",
       "      <td>438.928571</td>\n",
       "    </tr>\n",
       "    <tr>\n",
       "      <th>ENSP</th>\n",
       "      <td>protein</td>\n",
       "      <td>12034.0</td>\n",
       "      <td>157.0</td>\n",
       "      <td>76.649682</td>\n",
       "    </tr>\n",
       "  </tbody>\n",
       "</table>\n",
       "</div>"
      ],
      "text/plain": [
       "     mapping type   counts  classes    averages\n",
       "ENST          RNA   3300.0    157.0  253.846154\n",
       "ENSG         gene   7667.0    157.0  438.928571\n",
       "ENSP      protein  12034.0    157.0   76.649682"
      ]
     },
     "execution_count": 28,
     "metadata": {},
     "output_type": "execute_result"
    }
   ],
   "source": [
    "df.fillna(df.mean()) # It returns the modified Dataframe"
   ]
  }
 ],
 "metadata": {
  "kernelspec": {
   "display_name": "Python 3",
   "language": "python",
   "name": "python3"
  },
  "language_info": {
   "codemirror_mode": {
    "name": "ipython",
    "version": 3
   },
   "file_extension": ".py",
   "mimetype": "text/x-python",
   "name": "python",
   "nbconvert_exporter": "python",
   "pygments_lexer": "ipython3",
   "version": "3.7.3"
  }
 },
 "nbformat": 4,
 "nbformat_minor": 2
}
