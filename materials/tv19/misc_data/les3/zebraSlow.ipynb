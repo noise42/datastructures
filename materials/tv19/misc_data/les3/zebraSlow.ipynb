{
 "cells": [
  {
   "cell_type": "code",
   "execution_count": 5,
   "metadata": {
    "collapsed": true
   },
   "outputs": [],
   "source": [
    "import itertools\n",
    "import time\n",
    "def imright(right,left):\n",
    "\treturn 1==(right-left)\n",
    "\n",
    "def nextto(A,B):\n",
    "\treturn 1==(A-B) or 1==(B-A)\n",
    "\n",
    "def zebra_puzzle():\n",
    "#definition of our set of labels, \"first\" and \"middle\" concepts are straightforward\n",
    "    houses = first, _ , middle, _, _ = [1,2,3,4,5]\n",
    "    #create all 5! permutations and send them to a list.\n",
    "    orderings = list(itertools.permutations(houses))\n",
    "    #Create a list comprehension where ALL possible solutions are written.\n",
    "    #A solution is the set of labels for WATER and ZEBRA\n",
    "    #for the problem states that meet all the conditions\n",
    "    solution=[(WATER, ZEBRA)\n",
    "    for (red,green,ivory,yellow,blue) in orderings\n",
    "    for (Englishman,Spaniard,Ukrainian,Japanese,Norwegian) in orderings\n",
    "    for (dog,snails, fox, horse, ZEBRA) in orderings\n",
    "    for (coffee, tea, milk, rum, WATER) in orderings\n",
    "    for (Metal, Classical, Rock, Country, Pop) in orderings\n",
    "    if imright(green,ivory)\n",
    "    if Metal is snails\n",
    "    if nextto(Rock, fox)\n",
    "    if coffee is green\n",
    "    if Spaniard is dog\n",
    "    if Norwegian is first\n",
    "    if Ukrainian is tea\n",
    "    if Englishman is red\n",
    "    if Country is rum\n",
    "    if Japanese is Pop\n",
    "    if nextto(Classical, horse)\n",
    "    if milk is middle\n",
    "    if nextto(Norwegian,blue)\n",
    "    if Classical is yellow\n",
    "    ]\n",
    "    return solution\n"
   ]
  },
  {
   "cell_type": "code",
   "execution_count": 6,
   "metadata": {
    "collapsed": false
   },
   "outputs": [
    {
     "name": "stdout",
     "output_type": "stream",
     "text": [
      "[(1, 5)]\n",
      "3478.1037681102753 s\n"
     ]
    }
   ],
   "source": [
    "t0=time.time()\n",
    "print(zebra_puzzle())\n",
    "t1=time.time()\n",
    "print(str(t1-t0) + \" s\")"
   ]
  },
  {
   "cell_type": "code",
   "execution_count": null,
   "metadata": {
    "collapsed": true
   },
   "outputs": [],
   "source": []
  }
 ],
 "metadata": {
  "kernelspec": {
   "display_name": "Python 3",
   "language": "python",
   "name": "python3"
  },
  "language_info": {
   "codemirror_mode": {
    "name": "ipython",
    "version": 3
   },
   "file_extension": ".py",
   "mimetype": "text/x-python",
   "name": "python",
   "nbconvert_exporter": "python",
   "pygments_lexer": "ipython3",
   "version": "3.6.0"
  }
 },
 "nbformat": 4,
 "nbformat_minor": 2
}
