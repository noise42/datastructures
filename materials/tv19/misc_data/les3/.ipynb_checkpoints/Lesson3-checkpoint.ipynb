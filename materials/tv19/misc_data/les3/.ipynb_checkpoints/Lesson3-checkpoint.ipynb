{
 "cells": [
  {
   "cell_type": "code",
   "execution_count": 2,
   "metadata": {
    "collapsed": false,
    "scrolled": true
   },
   "outputs": [
    {
     "data": {
      "text/plain": [
       "(64,\n",
       " ['AAA',\n",
       "  'AAT',\n",
       "  'AAC',\n",
       "  'AAG',\n",
       "  'ATA',\n",
       "  'ATT',\n",
       "  'ATC',\n",
       "  'ATG',\n",
       "  'ACA',\n",
       "  'ACT',\n",
       "  'ACC',\n",
       "  'ACG',\n",
       "  'AGA',\n",
       "  'AGT',\n",
       "  'AGC',\n",
       "  'AGG',\n",
       "  'TAA',\n",
       "  'TAT',\n",
       "  'TAC',\n",
       "  'TAG',\n",
       "  'TTA',\n",
       "  'TTT',\n",
       "  'TTC',\n",
       "  'TTG',\n",
       "  'TCA',\n",
       "  'TCT',\n",
       "  'TCC',\n",
       "  'TCG',\n",
       "  'TGA',\n",
       "  'TGT',\n",
       "  'TGC',\n",
       "  'TGG',\n",
       "  'CAA',\n",
       "  'CAT',\n",
       "  'CAC',\n",
       "  'CAG',\n",
       "  'CTA',\n",
       "  'CTT',\n",
       "  'CTC',\n",
       "  'CTG',\n",
       "  'CCA',\n",
       "  'CCT',\n",
       "  'CCC',\n",
       "  'CCG',\n",
       "  'CGA',\n",
       "  'CGT',\n",
       "  'CGC',\n",
       "  'CGG',\n",
       "  'GAA',\n",
       "  'GAT',\n",
       "  'GAC',\n",
       "  'GAG',\n",
       "  'GTA',\n",
       "  'GTT',\n",
       "  'GTC',\n",
       "  'GTG',\n",
       "  'GCA',\n",
       "  'GCT',\n",
       "  'GCC',\n",
       "  'GCG',\n",
       "  'GGA',\n",
       "  'GGT',\n",
       "  'GGC',\n",
       "  'GGG'])"
      ]
     },
     "execution_count": 2,
     "metadata": {},
     "output_type": "execute_result"
    }
   ],
   "source": [
    "def codons_v1():\n",
    "    bases = 'ATCG'\n",
    "    \n",
    "    codons = []\n",
    "    \n",
    "    for base1 in bases:\n",
    "        for base2 in bases:\n",
    "            for base3 in bases:\n",
    "                codons.append(\n",
    "                    base1 + base2 + base3\n",
    "                )\n",
    "    \n",
    "    return codons\n",
    "\n",
    "len(codons_v1()), codons_v1()"
   ]
  },
  {
   "cell_type": "code",
   "execution_count": null,
   "metadata": {
    "collapsed": true
   },
   "outputs": [],
   "source": []
  },
  {
   "cell_type": "markdown",
   "metadata": {},
   "source": [
    "The nested for loops is the equivalent of the <strong>cartesian product</strong>: for sets A and B, the cartesian product A × B is the set of all ordered pairs (a, b) where a ∈ A and b ∈ B:\n",
    "\n",
    "\\begin{equation*}\n",
    "A \\times B = \\{(x, y) | x \\in A, y \\in B\\}\n",
    "\\end{equation*}\n",
    "\n",
    "<br/>\n",
    "<img src=\"https://upload.wikimedia.org/wikipedia/commons/thumb/4/4e/Cartesian_Product_qtl1.svg/1280px-Cartesian_Product_qtl1.svg.png\" width=\"40%\" />"
   ]
  },
  {
   "cell_type": "code",
   "execution_count": 3,
   "metadata": {
    "collapsed": false
   },
   "outputs": [
    {
     "name": "stdout",
     "output_type": "stream",
     "text": [
      "('x', 1)\n",
      "('x', 2)\n",
      "('x', 3)\n",
      "('y', 1)\n",
      "('y', 2)\n",
      "('y', 3)\n",
      "('z', 1)\n",
      "('z', 2)\n",
      "('z', 3)\n"
     ]
    }
   ],
   "source": [
    "import itertools\n",
    "\n",
    "A = ['x', 'y', 'z']\n",
    "B = [1,2,3]\n",
    "\n",
    "for x in itertools.product(A, B):\n",
    "    print(x)"
   ]
  },
  {
   "cell_type": "code",
   "execution_count": 4,
   "metadata": {
    "collapsed": false,
    "scrolled": true
   },
   "outputs": [
    {
     "data": {
      "text/plain": [
       "(64,\n",
       " ['AAA',\n",
       "  'AAT',\n",
       "  'AAC',\n",
       "  'AAG',\n",
       "  'ATA',\n",
       "  'ATT',\n",
       "  'ATC',\n",
       "  'ATG',\n",
       "  'ACA',\n",
       "  'ACT',\n",
       "  'ACC',\n",
       "  'ACG',\n",
       "  'AGA',\n",
       "  'AGT',\n",
       "  'AGC',\n",
       "  'AGG',\n",
       "  'TAA',\n",
       "  'TAT',\n",
       "  'TAC',\n",
       "  'TAG',\n",
       "  'TTA',\n",
       "  'TTT',\n",
       "  'TTC',\n",
       "  'TTG',\n",
       "  'TCA',\n",
       "  'TCT',\n",
       "  'TCC',\n",
       "  'TCG',\n",
       "  'TGA',\n",
       "  'TGT',\n",
       "  'TGC',\n",
       "  'TGG',\n",
       "  'CAA',\n",
       "  'CAT',\n",
       "  'CAC',\n",
       "  'CAG',\n",
       "  'CTA',\n",
       "  'CTT',\n",
       "  'CTC',\n",
       "  'CTG',\n",
       "  'CCA',\n",
       "  'CCT',\n",
       "  'CCC',\n",
       "  'CCG',\n",
       "  'CGA',\n",
       "  'CGT',\n",
       "  'CGC',\n",
       "  'CGG',\n",
       "  'GAA',\n",
       "  'GAT',\n",
       "  'GAC',\n",
       "  'GAG',\n",
       "  'GTA',\n",
       "  'GTT',\n",
       "  'GTC',\n",
       "  'GTG',\n",
       "  'GCA',\n",
       "  'GCT',\n",
       "  'GCC',\n",
       "  'GCG',\n",
       "  'GGA',\n",
       "  'GGT',\n",
       "  'GGC',\n",
       "  'GGG'])"
      ]
     },
     "execution_count": 4,
     "metadata": {},
     "output_type": "execute_result"
    }
   ],
   "source": [
    "def codons_v2():\n",
    "    bases = 'ATCG'\n",
    "    \n",
    "    codons = []\n",
    "    \n",
    "    for codon_tuple in itertools.product(bases, repeat = 3):\n",
    "        codons.append( \n",
    "            \"\".join(codon_tuple)\n",
    "        \n",
    "        )\n",
    "        \n",
    "    return codons\n",
    "\n",
    "len(codons_v2()), codons_v2()\n"
   ]
  },
  {
   "cell_type": "code",
   "execution_count": 5,
   "metadata": {
    "collapsed": true
   },
   "outputs": [],
   "source": [
    "import itertools as it\n"
   ]
  },
  {
   "cell_type": "code",
   "execution_count": 7,
   "metadata": {
    "collapsed": false
   },
   "outputs": [
    {
     "data": {
      "text/plain": [
       "['ATC',\n",
       " 'ATG',\n",
       " 'ACT',\n",
       " 'ACG',\n",
       " 'AGT',\n",
       " 'AGC',\n",
       " 'TAC',\n",
       " 'TAG',\n",
       " 'TCA',\n",
       " 'TCG',\n",
       " 'TGA',\n",
       " 'TGC',\n",
       " 'CAT',\n",
       " 'CAG',\n",
       " 'CTA',\n",
       " 'CTG',\n",
       " 'CGA',\n",
       " 'CGT',\n",
       " 'GAT',\n",
       " 'GAC',\n",
       " 'GTA',\n",
       " 'GTC',\n",
       " 'GCA',\n",
       " 'GCT']"
      ]
     },
     "execution_count": 7,
     "metadata": {},
     "output_type": "execute_result"
    }
   ],
   "source": [
    "\n",
    "def codons_no_repetitions_v1():\n",
    "    bases = 'ATCG'\n",
    "    \n",
    "    codons = []\n",
    "    for x in it.permutations(bases, 3):\n",
    "        codons.append(\n",
    "            ''.join(x)\n",
    "        )\n",
    "    return codons\n",
    "    \n",
    "len(codons_no_repetitions_v1()), codons_no_repetitions_v1()"
   ]
  },
  {
   "cell_type": "code",
   "execution_count": null,
   "metadata": {
    "collapsed": true
   },
   "outputs": [],
   "source": []
  },
  {
   "cell_type": "code",
   "execution_count": null,
   "metadata": {
    "collapsed": true
   },
   "outputs": [],
   "source": []
  },
  {
   "cell_type": "code",
   "execution_count": null,
   "metadata": {
    "collapsed": true
   },
   "outputs": [],
   "source": []
  },
  {
   "cell_type": "code",
   "execution_count": null,
   "metadata": {
    "collapsed": true
   },
   "outputs": [],
   "source": []
  },
  {
   "cell_type": "code",
   "execution_count": null,
   "metadata": {
    "collapsed": true
   },
   "outputs": [],
   "source": []
  }
 ],
 "metadata": {
  "kernelspec": {
   "display_name": "Python 3",
   "language": "python",
   "name": "python3"
  },
  "language_info": {
   "codemirror_mode": {
    "name": "ipython",
    "version": 3
   },
   "file_extension": ".py",
   "mimetype": "text/x-python",
   "name": "python",
   "nbconvert_exporter": "python",
   "pygments_lexer": "ipython3",
   "version": "3.6.0"
  }
 },
 "nbformat": 4,
 "nbformat_minor": 2
}
