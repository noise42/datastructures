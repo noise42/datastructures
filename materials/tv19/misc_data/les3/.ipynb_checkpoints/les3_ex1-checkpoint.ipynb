{
 "cells": [
  {
   "cell_type": "markdown",
   "metadata": {},
   "source": [
    "## print all the file names whose score is >1000\n",
    "### use list comprehensions"
   ]
  },
  {
   "cell_type": "code",
   "execution_count": 1,
   "metadata": {},
   "outputs": [
    {
     "name": "stdout",
     "output_type": "stream",
     "text": [
      "['ia1_BEAM_noise14_10_run1.txt', 'ia1_BEAM_noise14_10_run10.txt', 'ia1_BEAM_noise14_10_run2.txt', 'ia1_BEAM_noise14_10_run3.txt', 'ia1_BEAM_noise14_10_run4.txt', 'ia1_BEAM_noise14_10_run5.txt', 'ia1_BEAM_noise14_10_run6.txt', 'ia1_BEAM_noise14_10_run7.txt', 'ia1_BEAM_noise14_10_run8.txt', 'ia1_BEAM_noise14_10_run9.txt', 'ia1_BEAM_noise14_1_run8.txt', 'ia1_BEAM_noise14_2_run1.txt', 'ia1_BEAM_noise14_2_run10.txt', 'ia1_BEAM_noise14_2_run2.txt', 'ia1_BEAM_noise14_2_run3.txt', 'ia1_BEAM_noise14_2_run5.txt', 'ia1_BEAM_noise14_2_run6.txt', 'ia1_BEAM_noise14_2_run8.txt', 'ia1_BEAM_noise14_3_run1.txt', 'ia1_BEAM_noise14_3_run10.txt', 'ia1_BEAM_noise14_3_run2.txt', 'ia1_BEAM_noise14_3_run8.txt', 'ia1_BEAM_noise14_5_run5.txt', 'ia1_BEAM_noise14_7_run1.txt', 'ia1_BEAM_noise14_7_run10.txt', 'ia1_BEAM_noise14_7_run2.txt', 'ia1_BEAM_noise14_7_run3.txt', 'ia1_BEAM_noise14_7_run4.txt', 'ia1_BEAM_noise14_7_run5.txt', 'ia1_BEAM_noise14_7_run6.txt', 'ia1_BEAM_noise14_7_run7.txt', 'ia1_BEAM_noise14_7_run8.txt', 'ia1_BEAM_noise14_7_run9.txt', 'ia1_BEAM_noise21_1_run1.txt', 'ia1_BEAM_noise21_1_run10.txt', 'ia1_BEAM_noise21_1_run2.txt', 'ia1_BEAM_noise21_1_run3.txt', 'ia1_BEAM_noise21_1_run4.txt', 'ia1_BEAM_noise21_1_run5.txt', 'ia1_BEAM_noise21_1_run7.txt', 'ia1_BEAM_noise21_1_run8.txt', 'ia1_BEAM_noise21_6_run6.txt', 'ia1_BEAM_noise21_7_run10.txt', 'ia1_BEAM_noise21_7_run2.txt', 'ia1_BEAM_noise21_7_run3.txt', 'ia1_BEAM_noise21_7_run7.txt', 'ia1_BEAM_noise21_7_run9.txt', 'ia1_BEAM_noise28_10_run7.txt', 'ia1_BEAM_noise28_2_run10.txt', 'ia1_BEAM_noise28_2_run2.txt', 'ia1_BEAM_noise28_2_run3.txt', 'ia1_BEAM_noise28_2_run4.txt', 'ia1_BEAM_noise28_2_run5.txt', 'ia1_BEAM_noise28_2_run6.txt', 'ia1_BEAM_noise28_2_run9.txt', 'ia1_BEAM_noise35_6_run1.txt', 'ia1_BEAM_noise35_6_run10.txt', 'ia1_BEAM_noise35_6_run2.txt', 'ia1_BEAM_noise35_6_run3.txt', 'ia1_BEAM_noise35_6_run4.txt', 'ia1_BEAM_noise35_6_run5.txt', 'ia1_BEAM_noise35_6_run6.txt', 'ia1_BEAM_noise35_6_run7.txt', 'ia1_BEAM_noise35_6_run8.txt', 'ia1_BEAM_noise35_6_run9.txt', 'ia1_BEAM_noise7_10_run3.txt', 'ia1_BEAM_noise7_10_run4.txt', 'ia1_BEAM_noise7_3_run6.txt', 'ia1_BEAM_noise7_4_run3.txt', 'ia1_BEAM_noise7_4_run9.txt', 'ia1_BEAM_noise7_5_run2.txt', 'ia1_BEAM_noise7_5_run3.txt', 'ia1_BEAM_noise7_6_run2.txt', 'ia1_BEAM_noise7_6_run3.txt', 'ia1_BEAM_noise7_6_run6.txt', 'ia1_BEAM_noise7_6_run9.txt', 'ia1_BEAM_noise7_7_run1.txt', 'ia1_BEAM_noise7_7_run10.txt', 'ia1_BEAM_noise7_7_run2.txt', 'ia1_BEAM_noise7_7_run3.txt', 'ia1_BEAM_noise7_7_run6.txt', 'ia1_BEAM_noise7_7_run7.txt', 'ia1_BEAM_noise7_7_run9.txt', 'ia1_BEAM_noise7_8_run10.txt', 'ia1_BEAM_noise7_8_run6.txt', 'ia1_BEAM_noise7_8_run7.txt', 'ia1_BEAM_noise7_8_run8.txt', 'ia1_BEAM_noise7_8_run9.txt', 'ia1_BEAM_noise7_9_run3.txt', 'ia1_BEAM_noise7_9_run4.txt', 'ia1_BEAM_noise7_9_run6.txt', 'ia1_BEAM_noise7_9_run7.txt', 'ia1_BEAM_noise7_9_run9.txt', 'ia1_BEAM_run1.txt', 'ia1_BEAM_run10.txt', 'ia1_BEAM_run2.txt', 'ia1_BEAM_run3.txt', 'ia1_BEAM_run4.txt', 'ia1_BEAM_run5.txt', 'ia1_BEAM_run6.txt', 'ia1_BEAM_run7.txt', 'ia1_BEAM_run8.txt', 'ia1_BEAM_run9.txt']\n"
     ]
    }
   ],
   "source": [
    "with open(\"3_scores_noiseTest.txt\") as f:\n",
    "    print([x.split()[4] for x in f.readlines() if x[0]!='s' if float(x.split()[0]) > 1000])\n",
    "    \n",
    "#print the fourth field (file name) of each row (f.readlineS) IF the first character is not 's' (first row is a header)\n",
    "# and IF the score (cast to float because it is read as a string) is greater than 1000"
   ]
  },
  {
   "cell_type": "code",
   "execution_count": null,
   "metadata": {
    "collapsed": true
   },
   "outputs": [],
   "source": []
  }
 ],
 "metadata": {
  "kernelspec": {
   "display_name": "Python 3",
   "language": "python",
   "name": "python3"
  },
  "language_info": {
   "codemirror_mode": {
    "name": "ipython",
    "version": 3
   },
   "file_extension": ".py",
   "mimetype": "text/x-python",
   "name": "python",
   "nbconvert_exporter": "python",
   "pygments_lexer": "ipython3",
   "version": "3.6.1"
  }
 },
 "nbformat": 4,
 "nbformat_minor": 2
}
