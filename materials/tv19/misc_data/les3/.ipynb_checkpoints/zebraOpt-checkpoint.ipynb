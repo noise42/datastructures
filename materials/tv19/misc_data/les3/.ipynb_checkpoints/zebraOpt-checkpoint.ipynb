{
 "cells": [
  {
   "cell_type": "code",
   "execution_count": 1,
   "metadata": {},
   "outputs": [],
   "source": [
    "import itertools\n",
    "import time\n",
    "\n",
    "def after(right,left):\n",
    "\treturn 1==(right-left)\n",
    "\n",
    "def nextto(A,B):\n",
    "\treturn 1==(A-B) or 1==(B-A)\n",
    "\n",
    "def zebra_puzzle():\n",
    "\thouses = first, _ , middle, _, _ = [1,2,3,4,5]\n",
    "\torderings = list(itertools.permutations(houses))\n",
    "\t#print orderings\n",
    "\tsolution=[(WATER, ZEBRA) \n",
    "\t\t\t\t\tfor (red,green,ivory,yellow,blue) in orderings\n",
    "\t\t\t\t\tif after(green,ivory)# is green after ivory?\n",
    "\n",
    "\t\t\t\t\tfor (Englishman,Spanish,Ukrainian,Japanese,Norwegian) in orderings\n",
    "\t\t\t\t\tif Englishman is red#\n",
    "\t\t\t\t\tif Norwegian is 1 #\n",
    "\t\t\t\t\tif nextto(Norwegian,blue) #\n",
    "\n",
    "\t\t\t\t\tfor (dog,snails, fox, horse, ZEBRA) in orderings\n",
    "\t\t\t\t\tif Spanish is dog #\n",
    "\n",
    "\t\t\t\t\tfor (coffee, tea, milk, rum, WATER) in orderings\n",
    "\t\t\t\t\tif milk is 3 #\n",
    "\t\t\t\t\tif coffee is green#\n",
    "\t\t\t\t\tif Ukrainian is tea #\n",
    "\n",
    "\t\t\t\t\tfor (Metal, Classical, Rock, Country, Pop) in orderings\n",
    "\t\t\t\t\tif Metal is snails\t#\t\t\t\t\n",
    "\t\t\t\t\tif Classical is yellow\t\t\t\t\t\n",
    "\t\t\t\t\tif nextto(Rock, fox)#\n",
    "\t\t\t\t\tif nextto(Classical, horse)#\n",
    "\t\t\t\t\tif Country is rum #\n",
    "\t\t\t\t\tif Japanese is Pop #\n",
    "\t\t\t\t\t\n",
    "\t\t\t\t\t]\n",
    "\treturn solution\n",
    "\n"
   ]
  },
  {
   "cell_type": "code",
   "execution_count": 2,
   "metadata": {},
   "outputs": [
    {
     "name": "stdout",
     "output_type": "stream",
     "text": [
      "[(1, 5)]\n",
      "0.003915071487426758s\n"
     ]
    }
   ],
   "source": [
    "t0=time.time()\n",
    "print(zebra_puzzle())\n",
    "t1=time.time()\n",
    "print(str(t1-t0) + \"s\")"
   ]
  },
  {
   "cell_type": "code",
   "execution_count": null,
   "metadata": {
    "collapsed": true
   },
   "outputs": [],
   "source": []
  }
 ],
 "metadata": {
  "kernelspec": {
   "display_name": "Python 3",
   "language": "python",
   "name": "python3"
  },
  "language_info": {
   "codemirror_mode": {
    "name": "ipython",
    "version": 3
   },
   "file_extension": ".py",
   "mimetype": "text/x-python",
   "name": "python",
   "nbconvert_exporter": "python",
   "pygments_lexer": "ipython3",
   "version": "3.6.6"
  }
 },
 "nbformat": 4,
 "nbformat_minor": 2
}
