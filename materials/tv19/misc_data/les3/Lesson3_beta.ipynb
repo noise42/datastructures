{
 "cells": [
  {
   "cell_type": "markdown",
   "metadata": {},
   "source": [
    "### itertools module\n",
    "How to generate all the possible codons of the genetic code? 'AAA', 'AAT', 'AAC', 'AAG', ...\n",
    "\n",
    "We want <strong>all</strong> possible rearrangements of the four nucleotides."
   ]
  },
  {
   "cell_type": "code",
   "execution_count": 1,
   "metadata": {
    "scrolled": true
   },
   "outputs": [
    {
     "data": {
      "text/plain": [
       "(64,\n",
       " ['AAA',\n",
       "  'AAT',\n",
       "  'AAC',\n",
       "  'AAG',\n",
       "  'ATA',\n",
       "  'ATT',\n",
       "  'ATC',\n",
       "  'ATG',\n",
       "  'ACA',\n",
       "  'ACT',\n",
       "  'ACC',\n",
       "  'ACG',\n",
       "  'AGA',\n",
       "  'AGT',\n",
       "  'AGC',\n",
       "  'AGG',\n",
       "  'TAA',\n",
       "  'TAT',\n",
       "  'TAC',\n",
       "  'TAG',\n",
       "  'TTA',\n",
       "  'TTT',\n",
       "  'TTC',\n",
       "  'TTG',\n",
       "  'TCA',\n",
       "  'TCT',\n",
       "  'TCC',\n",
       "  'TCG',\n",
       "  'TGA',\n",
       "  'TGT',\n",
       "  'TGC',\n",
       "  'TGG',\n",
       "  'CAA',\n",
       "  'CAT',\n",
       "  'CAC',\n",
       "  'CAG',\n",
       "  'CTA',\n",
       "  'CTT',\n",
       "  'CTC',\n",
       "  'CTG',\n",
       "  'CCA',\n",
       "  'CCT',\n",
       "  'CCC',\n",
       "  'CCG',\n",
       "  'CGA',\n",
       "  'CGT',\n",
       "  'CGC',\n",
       "  'CGG',\n",
       "  'GAA',\n",
       "  'GAT',\n",
       "  'GAC',\n",
       "  'GAG',\n",
       "  'GTA',\n",
       "  'GTT',\n",
       "  'GTC',\n",
       "  'GTG',\n",
       "  'GCA',\n",
       "  'GCT',\n",
       "  'GCC',\n",
       "  'GCG',\n",
       "  'GGA',\n",
       "  'GGT',\n",
       "  'GGC',\n",
       "  'GGG'])"
      ]
     },
     "execution_count": 1,
     "metadata": {},
     "output_type": "execute_result"
    }
   ],
   "source": [
    "def codons_v1():\n",
    "    bases = 'ATCG'\n",
    "    \n",
    "    codons = []\n",
    "    \n",
    "    for base1 in bases:\n",
    "        for base2 in bases:\n",
    "            for base3 in bases:\n",
    "                codons.append(\n",
    "                    base1 + base2 + base3\n",
    "                )\n",
    "    \n",
    "    return codons\n",
    "\n",
    "len(codons_v1()), codons_v1()"
   ]
  },
  {
   "cell_type": "markdown",
   "metadata": {},
   "source": [
    "The nested for loops is the equivalent of the <strong>cartesian product</strong>: for sets A and B, the cartesian product A × B is the set of all ordered pairs (a, b) where a ∈ A and b ∈ B:\n",
    "\n",
    "\\begin{equation*}\n",
    "A \\times B = \\{(x, y) | x \\in A, y \\in B\\}\n",
    "\\end{equation*}\n",
    "\n",
    "<br/>\n",
    "<img src=\"https://upload.wikimedia.org/wikipedia/commons/thumb/4/4e/Cartesian_Product_qtl1.svg/1280px-Cartesian_Product_qtl1.svg.png\" width=\"40%\" />"
   ]
  },
  {
   "cell_type": "markdown",
   "metadata": {},
   "source": [
    "The <strong>itertools</strong> module allows you to create all the permutations (and combinations) with or without replacement."
   ]
  },
  {
   "cell_type": "code",
   "execution_count": 2,
   "metadata": {
    "scrolled": true
   },
   "outputs": [
    {
     "name": "stdout",
     "output_type": "stream",
     "text": [
      "('x', 1)\n",
      "('x', 2)\n",
      "('x', 3)\n",
      "('y', 1)\n",
      "('y', 2)\n",
      "('y', 3)\n",
      "('z', 1)\n",
      "('z', 2)\n",
      "('z', 3)\n"
     ]
    }
   ],
   "source": [
    "A = ['x', 'y', 'z']\n",
    "B = [1, 2, 3]\n",
    "\n",
    "import itertools\n",
    "\n",
    "for x in itertools.product(A, B):\n",
    "    print(x)"
   ]
  },
  {
   "cell_type": "markdown",
   "metadata": {},
   "source": [
    "The <code>product()</code> function takes as input a series of iterables (even only one) and a parameter <code>repeat</code> and computes the cartesian product of all elements."
   ]
  },
  {
   "cell_type": "code",
   "execution_count": 3,
   "metadata": {
    "scrolled": true
   },
   "outputs": [
    {
     "data": {
      "text/plain": [
       "(64,\n",
       " ['AAA',\n",
       "  'AAT',\n",
       "  'AAC',\n",
       "  'AAG',\n",
       "  'ATA',\n",
       "  'ATT',\n",
       "  'ATC',\n",
       "  'ATG',\n",
       "  'ACA',\n",
       "  'ACT',\n",
       "  'ACC',\n",
       "  'ACG',\n",
       "  'AGA',\n",
       "  'AGT',\n",
       "  'AGC',\n",
       "  'AGG',\n",
       "  'TAA',\n",
       "  'TAT',\n",
       "  'TAC',\n",
       "  'TAG',\n",
       "  'TTA',\n",
       "  'TTT',\n",
       "  'TTC',\n",
       "  'TTG',\n",
       "  'TCA',\n",
       "  'TCT',\n",
       "  'TCC',\n",
       "  'TCG',\n",
       "  'TGA',\n",
       "  'TGT',\n",
       "  'TGC',\n",
       "  'TGG',\n",
       "  'CAA',\n",
       "  'CAT',\n",
       "  'CAC',\n",
       "  'CAG',\n",
       "  'CTA',\n",
       "  'CTT',\n",
       "  'CTC',\n",
       "  'CTG',\n",
       "  'CCA',\n",
       "  'CCT',\n",
       "  'CCC',\n",
       "  'CCG',\n",
       "  'CGA',\n",
       "  'CGT',\n",
       "  'CGC',\n",
       "  'CGG',\n",
       "  'GAA',\n",
       "  'GAT',\n",
       "  'GAC',\n",
       "  'GAG',\n",
       "  'GTA',\n",
       "  'GTT',\n",
       "  'GTC',\n",
       "  'GTG',\n",
       "  'GCA',\n",
       "  'GCT',\n",
       "  'GCC',\n",
       "  'GCG',\n",
       "  'GGA',\n",
       "  'GGT',\n",
       "  'GGC',\n",
       "  'GGG'])"
      ]
     },
     "execution_count": 3,
     "metadata": {},
     "output_type": "execute_result"
    }
   ],
   "source": [
    "def codons_v2():\n",
    "    bases = 'ATCG'\n",
    "    \n",
    "    codons = []\n",
    "    for codon_tuple in itertools.product(bases, repeat=3):\n",
    "        codons.append(\n",
    "            ''.join(codon_tuple)\n",
    "        )\n",
    "    \n",
    "    return codons\n",
    "\n",
    "len(codons_v2()), codons_v2()"
   ]
  },
  {
   "cell_type": "markdown",
   "metadata": {},
   "source": [
    "How to generate the codons without repeated bases?\n",
    "\n",
    "In mathematics, <strong>permutation</strong> is the act of arranging the members of a set into a sequence or order."
   ]
  },
  {
   "cell_type": "code",
   "execution_count": 4,
   "metadata": {
    "scrolled": true
   },
   "outputs": [
    {
     "data": {
      "text/plain": [
       "(24,\n",
       " ['ATC',\n",
       "  'ATG',\n",
       "  'ACT',\n",
       "  'ACG',\n",
       "  'AGT',\n",
       "  'AGC',\n",
       "  'TAC',\n",
       "  'TAG',\n",
       "  'TCA',\n",
       "  'TCG',\n",
       "  'TGA',\n",
       "  'TGC',\n",
       "  'CAT',\n",
       "  'CAG',\n",
       "  'CTA',\n",
       "  'CTG',\n",
       "  'CGA',\n",
       "  'CGT',\n",
       "  'GAT',\n",
       "  'GAC',\n",
       "  'GTA',\n",
       "  'GTC',\n",
       "  'GCA',\n",
       "  'GCT'])"
      ]
     },
     "execution_count": 4,
     "metadata": {},
     "output_type": "execute_result"
    }
   ],
   "source": [
    "def codons_no_repetitions_v1():\n",
    "    bases = 'ATCG'\n",
    "\n",
    "    codons = []\n",
    "    for codon_tuple in itertools.permutations('ATCG', 3):\n",
    "        codons.append(\n",
    "            ''.join(codon_tuple)\n",
    "        )\n",
    "    \n",
    "    return codons\n",
    "\n",
    "len(codons_no_repetitions_v1()), codons_no_repetitions_v1()"
   ]
  },
  {
   "cell_type": "code",
   "execution_count": 5,
   "metadata": {
    "scrolled": true
   },
   "outputs": [
    {
     "data": {
      "text/plain": [
       "(24,\n",
       " ['ATC',\n",
       "  'ATG',\n",
       "  'ACT',\n",
       "  'ACG',\n",
       "  'AGT',\n",
       "  'AGC',\n",
       "  'TAC',\n",
       "  'TAG',\n",
       "  'TCA',\n",
       "  'TCG',\n",
       "  'TGA',\n",
       "  'TGC',\n",
       "  'CAT',\n",
       "  'CAG',\n",
       "  'CTA',\n",
       "  'CTG',\n",
       "  'CGA',\n",
       "  'CGT',\n",
       "  'GAT',\n",
       "  'GAC',\n",
       "  'GTA',\n",
       "  'GTC',\n",
       "  'GCA',\n",
       "  'GCT'])"
      ]
     },
     "execution_count": 5,
     "metadata": {},
     "output_type": "execute_result"
    }
   ],
   "source": [
    "def count_all_bases_v5(dna):\n",
    "    counts = {\n",
    "        'A': 0,\n",
    "        'T': 0,\n",
    "        'C': 0,\n",
    "        'G': 0\n",
    "    }\n",
    "\n",
    "    for base in dna:\n",
    "        counts[base] += 1\n",
    "\n",
    "    return counts\n",
    "\n",
    "def codons_no_repetitions_v0():\n",
    "    bases = 'ATCG'\n",
    "    \n",
    "    codons = []\n",
    "    for codon_tuple in codons_v2():\n",
    "        counts = count_all_bases_v5(codon_tuple).values()\n",
    "        #{'A':2, ...}\n",
    "        \n",
    "        add_codon = True\n",
    "        for count in counts:\n",
    "            if count > 1:\n",
    "                add_codon = False\n",
    "        \n",
    "        if add_codon:\n",
    "            codons.append(\n",
    "                ''.join(codon_tuple)\n",
    "            )\n",
    "    \n",
    "    return codons\n",
    "\n",
    "len(codons_no_repetitions_v0()), codons_no_repetitions_v0()"
   ]
  },
  {
   "cell_type": "markdown",
   "metadata": {},
   "source": [
    "How to get one representative for each group of codons with the same nucleotide composition? For example, the codons 'AAT', 'ATA', and 'TAA' have the two As and one T.\n",
    "\n",
    "Permutations differ from <strong>combinations</strong>, which are selections of some members of a set regardless of order."
   ]
  },
  {
   "cell_type": "code",
   "execution_count": 6,
   "metadata": {},
   "outputs": [
    {
     "data": {
      "text/plain": [
       "[('A', 'A', 'A'),\n",
       " ('A', 'A', 'T'),\n",
       " ('A', 'A', 'C'),\n",
       " ('A', 'A', 'G'),\n",
       " ('A', 'T', 'T'),\n",
       " ('A', 'T', 'C'),\n",
       " ('A', 'T', 'G'),\n",
       " ('A', 'C', 'C'),\n",
       " ('A', 'C', 'G'),\n",
       " ('A', 'G', 'G'),\n",
       " ('T', 'T', 'T'),\n",
       " ('T', 'T', 'C'),\n",
       " ('T', 'T', 'G'),\n",
       " ('T', 'C', 'C'),\n",
       " ('T', 'C', 'G'),\n",
       " ('T', 'G', 'G'),\n",
       " ('C', 'C', 'C'),\n",
       " ('C', 'C', 'G'),\n",
       " ('C', 'G', 'G'),\n",
       " ('G', 'G', 'G')]"
      ]
     },
     "execution_count": 6,
     "metadata": {},
     "output_type": "execute_result"
    }
   ],
   "source": [
    "list(itertools.combinations_with_replacement('ATCG', 3))"
   ]
  },
  {
   "cell_type": "markdown",
   "metadata": {},
   "source": [
    "How to get one representative for each group of codons with the same nucleotide composition, but without nucleotide repetitions?"
   ]
  },
  {
   "cell_type": "code",
   "execution_count": 7,
   "metadata": {},
   "outputs": [
    {
     "data": {
      "text/plain": [
       "[('A', 'T', 'C'), ('A', 'T', 'G'), ('A', 'C', 'G'), ('T', 'C', 'G')]"
      ]
     },
     "execution_count": 7,
     "metadata": {},
     "output_type": "execute_result"
    }
   ],
   "source": [
    "list(itertools.combinations('ATCG', 3))"
   ]
  },
  {
   "cell_type": "markdown",
   "metadata": {},
   "source": [
    "### Dictionary (again)\n",
    "<strong>Recall</strong>: dictionaries are a convenient way to store data for later retrieval by key. Keys must be unique, immutable objects; the values can be anything."
   ]
  },
  {
   "cell_type": "code",
   "execution_count": 8,
   "metadata": {
    "collapsed": true
   },
   "outputs": [],
   "source": [
    "seq = 'TAGGATTACAGGCATGAGCTACCGTATAATGGCCAGGCCCCCTGCCTTTGTAAATAAATTTTCACTGGAACCTGGACACACTTGTTTATGTGTTGTTTGTGCCTGTTTTCACGCTGCGGCAGGAAAGTTGAGTCGTTGTGTCAGAGACCAGAGAGAGAGCCTGCAGAACCTCAAATACTATCTGGCCCTTGCCAGAAAAAGTTTACCAACCCCCTGCCTCCCTGGAATGGGTGGAGGGTGGTTGTAAAGGTACTGGAGGATCTGAAGACATAATAGGGTCCGTGACCCTTGTGAGGTTGTGAAGCTCCCTTAAGGCACATGGTGGCTGGGCTGTGGATTTGGGGTATGGGCAGAGAGTGTGGAGAGCACTTCCAGGGGCCATGTCTGAGAGACTACATGATGCCACTTTGAATGCCCAGTTTGTTCATCCTTTTCTGTTTTCCCCACTTCCCCAGATGGGTGATCTACAATGACCAGAAAGTGTGTGCCTCCGAGAAGCCGCCCAAGGATATAATACATCTACTTCTACCAGAGAGTGGCCAGCTAAGAGCCTGCCTCACCCCTTACCAATGAGGGCAGGGGAAGACCACCTGGCATGAGGGAGAGGGGCTGAGGGATGGACTTCAGCCCCTCTGCTCTGTACCCTTTTTCCTTTTGTCCCCGGCAGCAGGGAAGAAGCTGGAGGCCGTGGGAGAATGGCTGGGCAGAGCAGAGGGGCAGCGATAGACTCTGGGGATGGAGCAGGACGGGGACGGGAGGGGCCGGCCACCTGTCTGTAAGGAGACTTTGTTGCTTCCCCTGCCCCCGGAATCCACAGTGCTCTGCTTCTCTGTGTCGCCCCGCCCAGCCCCCTGGTGTGGAGGGAGGGGTCTCGTTTGTGCGCGTGGGTGTAGCTTTGTGCATCCTCTCCCAGTGGAGCGATCACCTGTGCCTCCCCTCCCCCTTTGTTTGCCCCTGTGTGGTTGGTCAAGGAGGGATGTGAGGGAAATAGGGACCCCCCGACTTGCCCTCCTGCCTCAGTCTTTCCCCCACCCTGTCTCTTCCTTGTCCTTCTCTGGAAAATGCCAAAATACACGATGTGAATAAAAGTACAACGGCTAAATTGTGTCCTGTTTGATACCTTGGGGGAGAGGCTTACCTTCCTGGGGTTAGCAGGAGGGCGCTTAAGAAAACTCCTAACTCTGGCCGCCTCCCTGCCAAAGTCAAGTCTCCACTTTTCACTGGTTCTAGAGCTCTAGGAAAATTGGGGTTGGGTGGGGAGGTGGAGTAGAGTGACTAAATGCCGACACAAAGCCAAGGAAAGATGGAGTGAAGAACCCTTCCCTCTCTTTATTCACACAGGAGTGGAGGATTTCCCAAATGTCCCTAACTGGCTAGCTGGCTTCAGGCTGGGACTCAGTCCCTGCAGTTCCTGCCAGGCCTTGCCAGCCGGGGCGAGGGTTGGGATGATCCTGGCGGCCTATGCCTTATAATGCTGCCCCTCCCGCTGTGAACCCTGCATTTGTCCCGCAAGTTTTCACTCAGGTAGACTCCCTGGGTACAAGGGTGCCTGCTCAGCAGTCGGGCATGAGCTGCTCCGATGGGCGAAGGAGGTTGTCTATCCCACAGTTGGAGAGGGGCCCTCTCTGCCCCAGTGGGCGATCTGGGCTACGGCCAAGTTGCCACCAGCTAGTTCCGCTTGAAAACCACTTCTGGCCCCGTGGGGGACTCAAGTCGCCAAGCGAGGGTTCCCCTGAGCGCCGGAGCTCACAGGTCTCGCCTTGTCCCGAAAGCCCCGCAATCGAGGCGGAGGCGACCGAGCCCCCGACTCTCCTAGAACGTTGCCACAAGAAGGGGGAACGTCGGAACAGTGCATCATCGGGCGGCGGCCGGGGCGGCGGCAGGAGGGCGGGCGGGGGGCAGGGCTCCGGGGGACTGGGCGGGCCATGGCGGAGGACGGCGAGGAGGCGGAGTTCCACTTCGCGGCGCTCTATATAAGTGGGCAGTGGCCGCGACTGCGCGCAGACACTGACCTTCAGCGCCTCGGCTCCAGCGCCATGGCGCCCTCCAGGAAGTTCTTCGTTGGGGGAAACTGGAAGATGAACGGGCGGAAGCAGAGTCTGGGGGAGCTCATCGGCACTCTGAACGCGGCCAAGGTGCCGGCCGACACCG'\n",
    "\n",
    "consensus_motifs = {\n",
    "    'Shine_Dalgarno': 'AGGAGG',\n",
    "    'TATA_BOX': 'TATAAT',\n",
    "    'CAT_BOX': 'GGGCGG',\n",
    "    'FAKE_BOX_1': 'ATGGAAGGCA',\n",
    "    'FAKE_BOX_2': 'TTTTA'\n",
    "}"
   ]
  },
  {
   "cell_type": "markdown",
   "metadata": {},
   "source": [
    "#### Slicing operation\n",
    "The slicing operation allows us to extract a contiguous piece of a string or list."
   ]
  },
  {
   "cell_type": "code",
   "execution_count": 9,
   "metadata": {},
   "outputs": [
    {
     "name": "stdout",
     "output_type": "stream",
     "text": [
      "example[0] 0\n",
      "\n",
      "example[2:5] 234\n",
      "\n",
      "example[0:2] 01\n",
      "example[:2] 01\n",
      "\n",
      "example[2:len(example)] 123456\n",
      "example[2:] 123456\n"
     ]
    }
   ],
   "source": [
    "example = '0123456'\n",
    "\n",
    "print('example[0]', example[0]) # Indexing\n",
    "\n",
    "print('\\nexample[2:5]', example[2:5])\n",
    "\n",
    "print('\\nexample[0:2]', example[0:2])\n",
    "print('example[:2]', example[:2])\n",
    "\n",
    "print('\\nexample[2:len(example)]', example[1:len(example)])\n",
    "print('example[2:]', example[1:])"
   ]
  },
  {
   "cell_type": "code",
   "execution_count": 10,
   "metadata": {},
   "outputs": [
    {
     "data": {
      "text/plain": [
       "{'AGGAGG': {969, 1153, 1587, 1881, 1941},\n",
       " 'TATAAT': {24, 509, 1467},\n",
       " 'GGGCGG': {1859, 1871, 1885, 1889, 1916, 2084}}"
      ]
     },
     "execution_count": 10,
     "metadata": {},
     "output_type": "execute_result"
    }
   ],
   "source": [
    "def find_motifs_v1(sequence, motif_list):\n",
    "    motifs_dict = {}\n",
    "    \n",
    "    for motif in motif_list:\n",
    "        motif_len = len(motif)\n",
    "\n",
    "        for pos in range(len(sequence) - motif_len + 1):\n",
    "            # Returns a slice of the string, starting at index pos,\n",
    "            # and going up to, but not including, index pos+motif_len.\n",
    "            kmer = sequence[pos:pos+motif_len]\n",
    "            \n",
    "            if motif == kmer:\n",
    "                if motif not in motifs_dict.keys():\n",
    "                    motifs_dict[motif] = set()\n",
    "                motifs_dict[motif].add(pos)\n",
    "\n",
    "    return motifs_dict\n",
    "\n",
    "find_motifs_v1(seq, consensus_motifs.values())"
   ]
  },
  {
   "cell_type": "code",
   "execution_count": 11,
   "metadata": {},
   "outputs": [
    {
     "name": "stdout",
     "output_type": "stream",
     "text": [
      "1.6 ms ± 34.1 µs per loop (mean ± std. dev. of 7 runs, 1000 loops each)\n",
      "1.02 ms ± 30.9 µs per loop (mean ± std. dev. of 7 runs, 1000 loops each)\n"
     ]
    }
   ],
   "source": [
    "def find_motifs_v2(sequence, motif_list):\n",
    "    motifs_dict = {}\n",
    "    \n",
    "    for motif in motif_list:\n",
    "        if motif in seq:\n",
    "            motif_len = len(motif)\n",
    "\n",
    "            for pos in range(len(sequence) - motif_len + 1):\n",
    "                kmer = sequence[pos:pos+motif_len]\n",
    "                if motif == kmer:\n",
    "                    if motif not in motifs_dict.keys():\n",
    "                        motifs_dict[motif] = set()\n",
    "                    motifs_dict[motif].add(pos)\n",
    "\n",
    "    return motifs_dict\n",
    "\n",
    "%timeit find_motifs_v1(seq, consensus_motifs.values())\n",
    "%timeit find_motifs_v2(seq, consensus_motifs.values())"
   ]
  },
  {
   "cell_type": "markdown",
   "metadata": {},
   "source": [
    "A Python dictionary throws a KeyError if you try to get an item with a key that is not currently in the dictionary."
   ]
  },
  {
   "cell_type": "code",
   "execution_count": 12,
   "metadata": {
    "collapsed": true
   },
   "outputs": [],
   "source": [
    "motifs_dict = {}\n",
    "\n",
    "#motifs_dict['TATAAT'].add(3)"
   ]
  },
  {
   "cell_type": "markdown",
   "metadata": {},
   "source": [
    "The <code>defaultdict</code> lets to specify the default value when the container is initialized."
   ]
  },
  {
   "cell_type": "code",
   "execution_count": 13,
   "metadata": {},
   "outputs": [
    {
     "data": {
      "text/plain": [
       "defaultdict(set,\n",
       "            {'AGGAGG': {969, 1153, 1587, 1881, 1941},\n",
       "             'TATAAT': {24, 509, 1467},\n",
       "             'GGGCGG': {1859, 1871, 1885, 1889, 1916, 2084}})"
      ]
     },
     "execution_count": 13,
     "metadata": {},
     "output_type": "execute_result"
    }
   ],
   "source": [
    "from collections import defaultdict\n",
    "\n",
    "def find_motifs_v3(sequence, motif_list):\n",
    "    motifs_dict = defaultdict(set)\n",
    "    \n",
    "    for motif in motif_list:\n",
    "        if motif in seq:\n",
    "            motif_len = len(motif)\n",
    "\n",
    "            for pos in range(len(sequence) - motif_len + 1):\n",
    "                kmer = sequence[pos:pos+motif_len]\n",
    "                if motif == kmer:\n",
    "                    # Now it's useless\n",
    "                    #if motif not in motifs_dict.keys():\n",
    "                    #    motifs_dict[motif] = set()\n",
    "                    motifs_dict[motif].add(pos)\n",
    "\n",
    "    return motifs_dict\n",
    "\n",
    "find_motifs_v3(seq, consensus_motifs.values())"
   ]
  }
 ],
 "metadata": {
  "kernelspec": {
   "display_name": "Python 3",
   "language": "python",
   "name": "python3"
  },
  "language_info": {
   "codemirror_mode": {
    "name": "ipython",
    "version": 3
   },
   "file_extension": ".py",
   "mimetype": "text/x-python",
   "name": "python",
   "nbconvert_exporter": "python",
   "pygments_lexer": "ipython3",
   "version": "3.6.6"
  }
 },
 "nbformat": 4,
 "nbformat_minor": 2
}
